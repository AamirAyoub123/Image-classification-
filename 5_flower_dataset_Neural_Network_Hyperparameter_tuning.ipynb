{
  "nbformat": 4,
  "nbformat_minor": 0,
  "metadata": {
    "colab": {
      "provenance": []
    },
    "kernelspec": {
      "name": "python3",
      "display_name": "Python 3"
    },
    "language_info": {
      "name": "python"
    }
  },
  "cells": [
    {
      "cell_type": "code",
      "execution_count": 1,
      "metadata": {
        "id": "l_vy_QtRBYKY"
      },
      "outputs": [],
      "source": [
        "import wandb\n",
        "from wandb.integration.keras import WandbMetricsLogger, WandbModelCheckpoint\n",
        "\n",
        "import tensorflow as tf\n",
        "import matplotlib.pyplot as plt\n",
        "from tensorflow import keras"
      ]
    },
    {
      "cell_type": "markdown",
      "source": [
        "**Initializing the Weights and Bias configuration.**"
      ],
      "metadata": {
        "id": "Hf6GZKayCVzG"
      }
    },
    {
      "cell_type": "code",
      "source": [
        "sweep_config = {\n",
        "\n",
        "    'method' : 'grid',\n",
        "    'metric' : {\n",
        "        'name': 'val_accuracy',\n",
        "        'goal': 'maximize'\n",
        "                },\n",
        "    'parameters' : {\n",
        "        'batch_size': {'values': [8,16]},\n",
        "        'learning_rate': {'values': [0.001,0.0001]},\n",
        "        'hidden_nodes': {'values': [128,64]},\n",
        "        'img_size': {'values': [16, 224]},\n",
        "        'epochs': {'values': [5,10]}\n",
        "    }\n",
        "}\n",
        "\n",
        "\n",
        "sweep_id = wandb.sweep(sweep_config, project=\"5-flowers-classification\")"
      ],
      "metadata": {
        "colab": {
          "base_uri": "https://localhost:8080/",
          "height": 237
        },
        "id": "M7MxIFzHB85x",
        "outputId": "c8a91a2c-b08a-47b4-c554-bcfe207834f5"
      },
      "execution_count": 2,
      "outputs": [
        {
          "output_type": "stream",
          "name": "stderr",
          "text": [
            "/usr/local/lib/python3.12/dist-packages/notebook/notebookapp.py:191: SyntaxWarning: invalid escape sequence '\\/'\n",
            "  | |_| | '_ \\/ _` / _` |  _/ -_)\n"
          ]
        },
        {
          "output_type": "display_data",
          "data": {
            "text/plain": [
              "<IPython.core.display.Javascript object>"
            ],
            "application/javascript": [
              "\n",
              "        window._wandbApiKey = new Promise((resolve, reject) => {\n",
              "            function loadScript(url) {\n",
              "            return new Promise(function(resolve, reject) {\n",
              "                let newScript = document.createElement(\"script\");\n",
              "                newScript.onerror = reject;\n",
              "                newScript.onload = resolve;\n",
              "                document.body.appendChild(newScript);\n",
              "                newScript.src = url;\n",
              "            });\n",
              "            }\n",
              "            loadScript(\"https://cdn.jsdelivr.net/npm/postmate/build/postmate.min.js\").then(() => {\n",
              "            const iframe = document.createElement('iframe')\n",
              "            iframe.style.cssText = \"width:0;height:0;border:none\"\n",
              "            document.body.appendChild(iframe)\n",
              "            const handshake = new Postmate({\n",
              "                container: iframe,\n",
              "                url: 'https://wandb.ai/authorize'\n",
              "            });\n",
              "            const timeout = setTimeout(() => reject(\"Couldn't auto authenticate\"), 5000)\n",
              "            handshake.then(function(child) {\n",
              "                child.on('authorize', data => {\n",
              "                    clearTimeout(timeout)\n",
              "                    resolve(data)\n",
              "                });\n",
              "            });\n",
              "            })\n",
              "        });\n",
              "    "
            ]
          },
          "metadata": {}
        },
        {
          "output_type": "stream",
          "name": "stderr",
          "text": [
            "\u001b[34m\u001b[1mwandb\u001b[0m: Logging into wandb.ai. (Learn how to deploy a W&B server locally: https://wandb.me/wandb-server)\n",
            "\u001b[34m\u001b[1mwandb\u001b[0m: You can find your API key in your browser here: https://wandb.ai/authorize?ref=models\n",
            "wandb: Paste an API key from your profile and hit enter:"
          ]
        },
        {
          "name": "stdout",
          "output_type": "stream",
          "text": [
            " ··········\n"
          ]
        },
        {
          "output_type": "stream",
          "name": "stderr",
          "text": [
            "\u001b[34m\u001b[1mwandb\u001b[0m: \u001b[33mWARNING\u001b[0m If you're specifying your api key in code, ensure this code is not shared publicly.\n",
            "\u001b[34m\u001b[1mwandb\u001b[0m: \u001b[33mWARNING\u001b[0m Consider setting the WANDB_API_KEY environment variable, or running `wandb login` from the command line.\n",
            "\u001b[34m\u001b[1mwandb\u001b[0m: No netrc file found, creating one.\n",
            "\u001b[34m\u001b[1mwandb\u001b[0m: Appending key for api.wandb.ai to your netrc file: /root/.netrc\n"
          ]
        },
        {
          "output_type": "stream",
          "name": "stdout",
          "text": [
            "Create sweep with ID: tard0exk\n",
            "Sweep URL: https://wandb.ai/ayoubaamir0201-ensam-casablanca/5-flowers-classification/sweeps/tard0exk\n"
          ]
        }
      ]
    },
    {
      "cell_type": "code",
      "source": [
        "def train():\n",
        "  with wandb.init() as run:\n",
        "    config = wandb.config\n",
        "\n",
        "    # Constants\n",
        "    IMG_HEIGHT = config.img_size\n",
        "    IMG_WIDTH = config.img_size\n",
        "    IMG_CHANNELS = 3\n",
        "    CLASS_NAMES = [\"daisy\", \"dandelion\", \"roses\", \"sunflowers\", \"tulips\"]\n",
        "\n",
        "    def read_and_decode(filename, resize_dims):\n",
        "        img_bytes = tf.io.read_file(filename)\n",
        "        img = tf.image.decode_jpeg(img_bytes, channels=IMG_CHANNELS)\n",
        "        img = tf.image.convert_image_dtype(img, tf.float32)\n",
        "        img = tf.image.resize(img, resize_dims)\n",
        "        return img\n",
        "\n",
        "    def parse_csvline(csv_line):\n",
        "        record_default = [\"\", \"\"]\n",
        "        filename, label_string = tf.io.decode_csv(csv_line, record_default)\n",
        "\n",
        "        img = read_and_decode(filename, [IMG_HEIGHT, IMG_WIDTH])\n",
        "\n",
        "        # Convert label string to an integer index\n",
        "        label = tf.where(tf.equal(CLASS_NAMES, label_string))[0, 0]\n",
        "\n",
        "        return img, label\n",
        "\n",
        "    # Define datasets\n",
        "    train_dataset = (\n",
        "        tf.data.TextLineDataset(\"gs://cloud-ml-data/img/flower_photos/train_set.csv\")\n",
        "        .map(parse_csvline, num_parallel_calls=tf.data.AUTOTUNE)\n",
        "        .batch(config.batch_size)\n",
        "        .prefetch(tf.data.AUTOTUNE)\n",
        "    )\n",
        "\n",
        "    eval_dataset = (\n",
        "        tf.data.TextLineDataset(\"gs://cloud-ml-data/img/flower_photos/eval_set.csv\")\n",
        "        .map(parse_csvline, num_parallel_calls=tf.data.AUTOTUNE)\n",
        "        .batch(config.batch_size)\n",
        "        .prefetch(tf.data.AUTOTUNE)\n",
        "    )\n",
        "\n",
        "    #architecture\n",
        "    model = keras.Sequential([\n",
        "        keras.layers.Flatten(input_shape=(IMG_HEIGHT, IMG_WIDTH, IMG_CHANNELS)),\n",
        "        keras.layers.Dense(config.hidden_nodes, activation=\"relu\"),\n",
        "        keras.layers.Dense(len(CLASS_NAMES), activation=\"softmax\")\n",
        "    ])\n",
        "\n",
        "    model.compile(\n",
        "          optimizer=\"adam\",\n",
        "          loss=tf.keras.losses.SparseCategoricalCrossentropy(from_logits=False),\n",
        "          metrics=[\"accuracy\"]\n",
        "      )\n",
        "\n",
        "    model.fit(\n",
        "      train_dataset,\n",
        "      validation_data=eval_dataset,\n",
        "      epochs=config.epochs,\n",
        "      callbacks=[WandbMetricsLogger(log_freq=5)]\n",
        "      )"
      ],
      "metadata": {
        "id": "eohQ9T05DcT0"
      },
      "execution_count": 3,
      "outputs": []
    },
    {
      "cell_type": "code",
      "source": [
        "wandb.agent(sweep_id, function=train)"
      ],
      "metadata": {
        "colab": {
          "base_uri": "https://localhost:8080/",
          "height": 1000
        },
        "id": "PnA6qkMuGOfi",
        "outputId": "051266c9-4ad0-4813-fe49-a6e24910e4d9"
      },
      "execution_count": 4,
      "outputs": [
        {
          "metadata": {
            "tags": null
          },
          "name": "stderr",
          "output_type": "stream",
          "text": [
            "\u001b[34m\u001b[1mwandb\u001b[0m: Agent Starting Run: tmnn7l31 with config:\n",
            "\u001b[34m\u001b[1mwandb\u001b[0m: \tbatch_size: 8\n",
            "\u001b[34m\u001b[1mwandb\u001b[0m: \tepochs: 5\n",
            "\u001b[34m\u001b[1mwandb\u001b[0m: \thidden_nodes: 128\n",
            "\u001b[34m\u001b[1mwandb\u001b[0m: \timg_size: 16\n",
            "\u001b[34m\u001b[1mwandb\u001b[0m: \tlearning_rate: 0.001\n",
            "\u001b[34m\u001b[1mwandb\u001b[0m: Currently logged in as: \u001b[33mayoubaamir0201\u001b[0m (\u001b[33mayoubaamir0201-ensam-casablanca\u001b[0m) to \u001b[32mhttps://api.wandb.ai\u001b[0m. Use \u001b[1m`wandb login --relogin`\u001b[0m to force relogin\n"
          ]
        },
        {
          "data": {
            "text/html": [],
            "text/plain": [
              "<IPython.core.display.HTML object>"
            ]
          },
          "metadata": {},
          "output_type": "display_data"
        },
        {
          "data": {
            "text/html": [
              "Tracking run with wandb version 0.21.4"
            ],
            "text/plain": [
              "<IPython.core.display.HTML object>"
            ]
          },
          "metadata": {},
          "output_type": "display_data"
        },
        {
          "data": {
            "text/html": [
              "Run data is saved locally in <code>/content/wandb/run-20250930_223832-tmnn7l31</code>"
            ],
            "text/plain": [
              "<IPython.core.display.HTML object>"
            ]
          },
          "metadata": {},
          "output_type": "display_data"
        },
        {
          "data": {
            "text/html": [
              "Syncing run <strong><a href='https://wandb.ai/ayoubaamir0201-ensam-casablanca/5-flowers-classification/runs/tmnn7l31' target=\"_blank\">quiet-sweep-1</a></strong> to <a href='https://wandb.ai/ayoubaamir0201-ensam-casablanca/5-flowers-classification' target=\"_blank\">Weights & Biases</a> (<a href='https://wandb.me/developer-guide' target=\"_blank\">docs</a>)<br>Sweep page: <a href='https://wandb.ai/ayoubaamir0201-ensam-casablanca/5-flowers-classification/sweeps/tard0exk' target=\"_blank\">https://wandb.ai/ayoubaamir0201-ensam-casablanca/5-flowers-classification/sweeps/tard0exk</a>"
            ],
            "text/plain": [
              "<IPython.core.display.HTML object>"
            ]
          },
          "metadata": {},
          "output_type": "display_data"
        },
        {
          "data": {
            "text/html": [
              " View project at <a href='https://wandb.ai/ayoubaamir0201-ensam-casablanca/5-flowers-classification' target=\"_blank\">https://wandb.ai/ayoubaamir0201-ensam-casablanca/5-flowers-classification</a>"
            ],
            "text/plain": [
              "<IPython.core.display.HTML object>"
            ]
          },
          "metadata": {},
          "output_type": "display_data"
        },
        {
          "data": {
            "text/html": [
              " View sweep at <a href='https://wandb.ai/ayoubaamir0201-ensam-casablanca/5-flowers-classification/sweeps/tard0exk' target=\"_blank\">https://wandb.ai/ayoubaamir0201-ensam-casablanca/5-flowers-classification/sweeps/tard0exk</a>"
            ],
            "text/plain": [
              "<IPython.core.display.HTML object>"
            ]
          },
          "metadata": {},
          "output_type": "display_data"
        },
        {
          "data": {
            "text/html": [
              " View run at <a href='https://wandb.ai/ayoubaamir0201-ensam-casablanca/5-flowers-classification/runs/tmnn7l31' target=\"_blank\">https://wandb.ai/ayoubaamir0201-ensam-casablanca/5-flowers-classification/runs/tmnn7l31</a>"
            ],
            "text/plain": [
              "<IPython.core.display.HTML object>"
            ]
          },
          "metadata": {},
          "output_type": "display_data"
        },
        {
          "metadata": {
            "tags": null
          },
          "name": "stdout",
          "output_type": "stream",
          "text": [
            "Epoch 1/5\n"
          ]
        },
        {
          "metadata": {
            "tags": null
          },
          "name": "stderr",
          "output_type": "stream",
          "text": [
            "/usr/local/lib/python3.12/dist-packages/keras/src/layers/reshaping/flatten.py:37: UserWarning: Do not pass an `input_shape`/`input_dim` argument to a layer. When using Sequential models, prefer using an `Input(shape)` object as the first layer in the model instead.\n",
            "  super().__init__(**kwargs)\n"
          ]
        },
        {
          "metadata": {
            "tags": null
          },
          "name": "stdout",
          "output_type": "stream",
          "text": [
            "    413/Unknown \u001b[1m145s\u001b[0m 348ms/step - accuracy: 0.3253 - loss: 1.4895"
          ]
        },
        {
          "metadata": {
            "tags": null
          },
          "name": "stderr",
          "output_type": "stream",
          "text": [
            "/usr/local/lib/python3.12/dist-packages/keras/src/trainers/epoch_iterator.py:160: UserWarning: Your input ran out of data; interrupting training. Make sure that your dataset or generator can generate at least `steps_per_epoch * epochs` batches. You may need to use the `.repeat()` function when building your dataset.\n",
            "  self._interrupted_warning()\n"
          ]
        },
        {
          "metadata": {
            "tags": null
          },
          "name": "stdout",
          "output_type": "stream",
          "text": [
            "\u001b[1m413/413\u001b[0m \u001b[32m━━━━━━━━━━━━━━━━━━━━\u001b[0m\u001b[37m\u001b[0m \u001b[1m162s\u001b[0m 387ms/step - accuracy: 0.3254 - loss: 1.4893 - val_accuracy: 0.4541 - val_loss: 1.2348\n",
            "Epoch 2/5\n",
            "\u001b[1m413/413\u001b[0m \u001b[32m━━━━━━━━━━━━━━━━━━━━\u001b[0m\u001b[37m\u001b[0m \u001b[1m141s\u001b[0m 341ms/step - accuracy: 0.4565 - loss: 1.2646 - val_accuracy: 0.4757 - val_loss: 1.2266\n",
            "Epoch 3/5\n",
            "\u001b[1m413/413\u001b[0m \u001b[32m━━━━━━━━━━━━━━━━━━━━\u001b[0m\u001b[37m\u001b[0m \u001b[1m135s\u001b[0m 327ms/step - accuracy: 0.4816 - loss: 1.1946 - val_accuracy: 0.4919 - val_loss: 1.1953\n",
            "Epoch 4/5\n",
            "\u001b[1m413/413\u001b[0m \u001b[32m━━━━━━━━━━━━━━━━━━━━\u001b[0m\u001b[37m\u001b[0m \u001b[1m142s\u001b[0m 342ms/step - accuracy: 0.4983 - loss: 1.1566 - val_accuracy: 0.4919 - val_loss: 1.2057\n",
            "Epoch 5/5\n",
            "\u001b[1m413/413\u001b[0m \u001b[32m━━━━━━━━━━━━━━━━━━━━\u001b[0m\u001b[37m\u001b[0m \u001b[1m125s\u001b[0m 302ms/step - accuracy: 0.5207 - loss: 1.1169 - val_accuracy: 0.5000 - val_loss: 1.2024\n"
          ]
        },
        {
          "data": {
            "text/html": [],
            "text/plain": [
              "<IPython.core.display.HTML object>"
            ]
          },
          "metadata": {},
          "output_type": "display_data"
        },
        {
          "data": {
            "text/html": [
              "<br>    <style><br>        .wandb-row {<br>            display: flex;<br>            flex-direction: row;<br>            flex-wrap: wrap;<br>            justify-content: flex-start;<br>            width: 100%;<br>        }<br>        .wandb-col {<br>            display: flex;<br>            flex-direction: column;<br>            flex-basis: 100%;<br>            flex: 1;<br>            padding: 10px;<br>        }<br>    </style><br><div class=\"wandb-row\"><div class=\"wandb-col\"><h3>Run history:</h3><br/><table class=\"wandb\"><tr><td>batch/accuracy</td><td>▁▃▃▄▄▅▅▅▅▅▆▆▆▆▇▇▇▆▆▆▇▇▇▇▇▇▇▇▇▇▇▇▇▇███▇██</td></tr><tr><td>batch/batch_step</td><td>▁▁▁▁▁▂▂▂▃▃▃▃▃▃▃▄▄▄▄▄▅▅▅▅▅▅▅▆▆▆▆▆▇▇▇▇▇▇██</td></tr><tr><td>batch/learning_rate</td><td>▁▁▁▁▁▁▁▁▁▁▁▁▁▁▁▁▁▁▁▁▁▁▁▁▁▁▁▁▁▁▁▁▁▁▁▁▁▁▁▁</td></tr><tr><td>batch/loss</td><td>█████▇▇▇▇▇▅▅▅▅▅▄▄▄▄▅▄▄▄▄▄▄▄▄▄▄▄▄▄▄▁▄▄▃▃▃</td></tr><tr><td>epoch/accuracy</td><td>▁▅▆▇█</td></tr><tr><td>epoch/epoch</td><td>▁▃▅▆█</td></tr><tr><td>epoch/learning_rate</td><td>▁▁▁▁▁</td></tr><tr><td>epoch/loss</td><td>█▅▃▂▁</td></tr><tr><td>epoch/val_accuracy</td><td>▁▄▇▇█</td></tr><tr><td>epoch/val_loss</td><td>█▇▁▃▂</td></tr></table><br/></div><div class=\"wandb-col\"><h3>Run summary:</h3><br/><table class=\"wandb\"><tr><td>batch/accuracy</td><td>0.5371</td></tr><tr><td>batch/batch_step</td><td>2070</td></tr><tr><td>batch/learning_rate</td><td>0.001</td></tr><tr><td>batch/loss</td><td>1.11147</td></tr><tr><td>epoch/accuracy</td><td>0.53636</td></tr><tr><td>epoch/epoch</td><td>4</td></tr><tr><td>epoch/learning_rate</td><td>0.001</td></tr><tr><td>epoch/loss</td><td>1.11205</td></tr><tr><td>epoch/val_accuracy</td><td>0.5</td></tr><tr><td>epoch/val_loss</td><td>1.20245</td></tr></table><br/></div></div>"
            ],
            "text/plain": [
              "<IPython.core.display.HTML object>"
            ]
          },
          "metadata": {},
          "output_type": "display_data"
        },
        {
          "data": {
            "text/html": [
              " View run <strong style=\"color:#cdcd00\">quiet-sweep-1</strong> at: <a href='https://wandb.ai/ayoubaamir0201-ensam-casablanca/5-flowers-classification/runs/tmnn7l31' target=\"_blank\">https://wandb.ai/ayoubaamir0201-ensam-casablanca/5-flowers-classification/runs/tmnn7l31</a><br> View project at: <a href='https://wandb.ai/ayoubaamir0201-ensam-casablanca/5-flowers-classification' target=\"_blank\">https://wandb.ai/ayoubaamir0201-ensam-casablanca/5-flowers-classification</a><br>Synced 5 W&B file(s), 0 media file(s), 0 artifact file(s) and 0 other file(s)"
            ],
            "text/plain": [
              "<IPython.core.display.HTML object>"
            ]
          },
          "metadata": {},
          "output_type": "display_data"
        },
        {
          "data": {
            "text/html": [
              "Find logs at: <code>./wandb/run-20250930_223832-tmnn7l31/logs</code>"
            ],
            "text/plain": [
              "<IPython.core.display.HTML object>"
            ]
          },
          "metadata": {},
          "output_type": "display_data"
        },
        {
          "metadata": {
            "tags": null
          },
          "name": "stderr",
          "output_type": "stream",
          "text": [
            "\u001b[34m\u001b[1mwandb\u001b[0m: Agent Starting Run: zemflw6z with config:\n",
            "\u001b[34m\u001b[1mwandb\u001b[0m: \tbatch_size: 8\n",
            "\u001b[34m\u001b[1mwandb\u001b[0m: \tepochs: 5\n",
            "\u001b[34m\u001b[1mwandb\u001b[0m: \thidden_nodes: 128\n",
            "\u001b[34m\u001b[1mwandb\u001b[0m: \timg_size: 16\n",
            "\u001b[34m\u001b[1mwandb\u001b[0m: \tlearning_rate: 0.0001\n"
          ]
        },
        {
          "data": {
            "text/html": [],
            "text/plain": [
              "<IPython.core.display.HTML object>"
            ]
          },
          "metadata": {},
          "output_type": "display_data"
        },
        {
          "data": {
            "text/html": [
              "Tracking run with wandb version 0.21.4"
            ],
            "text/plain": [
              "<IPython.core.display.HTML object>"
            ]
          },
          "metadata": {},
          "output_type": "display_data"
        },
        {
          "data": {
            "text/html": [
              "Run data is saved locally in <code>/content/wandb/run-20250930_225024-zemflw6z</code>"
            ],
            "text/plain": [
              "<IPython.core.display.HTML object>"
            ]
          },
          "metadata": {},
          "output_type": "display_data"
        },
        {
          "data": {
            "text/html": [
              "Syncing run <strong><a href='https://wandb.ai/ayoubaamir0201-ensam-casablanca/5-flowers-classification/runs/zemflw6z' target=\"_blank\">restful-sweep-2</a></strong> to <a href='https://wandb.ai/ayoubaamir0201-ensam-casablanca/5-flowers-classification' target=\"_blank\">Weights & Biases</a> (<a href='https://wandb.me/developer-guide' target=\"_blank\">docs</a>)<br>Sweep page: <a href='https://wandb.ai/ayoubaamir0201-ensam-casablanca/5-flowers-classification/sweeps/tard0exk' target=\"_blank\">https://wandb.ai/ayoubaamir0201-ensam-casablanca/5-flowers-classification/sweeps/tard0exk</a>"
            ],
            "text/plain": [
              "<IPython.core.display.HTML object>"
            ]
          },
          "metadata": {},
          "output_type": "display_data"
        },
        {
          "data": {
            "text/html": [
              " View project at <a href='https://wandb.ai/ayoubaamir0201-ensam-casablanca/5-flowers-classification' target=\"_blank\">https://wandb.ai/ayoubaamir0201-ensam-casablanca/5-flowers-classification</a>"
            ],
            "text/plain": [
              "<IPython.core.display.HTML object>"
            ]
          },
          "metadata": {},
          "output_type": "display_data"
        },
        {
          "data": {
            "text/html": [
              " View sweep at <a href='https://wandb.ai/ayoubaamir0201-ensam-casablanca/5-flowers-classification/sweeps/tard0exk' target=\"_blank\">https://wandb.ai/ayoubaamir0201-ensam-casablanca/5-flowers-classification/sweeps/tard0exk</a>"
            ],
            "text/plain": [
              "<IPython.core.display.HTML object>"
            ]
          },
          "metadata": {},
          "output_type": "display_data"
        },
        {
          "data": {
            "text/html": [
              " View run at <a href='https://wandb.ai/ayoubaamir0201-ensam-casablanca/5-flowers-classification/runs/zemflw6z' target=\"_blank\">https://wandb.ai/ayoubaamir0201-ensam-casablanca/5-flowers-classification/runs/zemflw6z</a>"
            ],
            "text/plain": [
              "<IPython.core.display.HTML object>"
            ]
          },
          "metadata": {},
          "output_type": "display_data"
        },
        {
          "metadata": {
            "tags": null
          },
          "name": "stdout",
          "output_type": "stream",
          "text": [
            "Epoch 1/5\n",
            "\u001b[1m413/413\u001b[0m \u001b[32m━━━━━━━━━━━━━━━━━━━━\u001b[0m\u001b[37m\u001b[0m \u001b[1m128s\u001b[0m 309ms/step - accuracy: 0.3432 - loss: 1.5043 - val_accuracy: 0.4676 - val_loss: 1.2402\n",
            "Epoch 2/5\n",
            "\u001b[1m413/413\u001b[0m \u001b[32m━━━━━━━━━━━━━━━━━━━━\u001b[0m\u001b[37m\u001b[0m \u001b[1m123s\u001b[0m 297ms/step - accuracy: 0.4500 - loss: 1.2542 - val_accuracy: 0.4865 - val_loss: 1.1982\n",
            "Epoch 3/5\n",
            "\u001b[1m413/413\u001b[0m \u001b[32m━━━━━━━━━━━━━━━━━━━━\u001b[0m\u001b[37m\u001b[0m \u001b[1m141s\u001b[0m 296ms/step - accuracy: 0.4878 - loss: 1.1938 - val_accuracy: 0.4757 - val_loss: 1.2120\n",
            "Epoch 4/5\n",
            "\u001b[1m413/413\u001b[0m \u001b[32m━━━━━━━━━━━━━━━━━━━━\u001b[0m\u001b[37m\u001b[0m \u001b[1m134s\u001b[0m 276ms/step - accuracy: 0.5026 - loss: 1.1462 - val_accuracy: 0.4838 - val_loss: 1.2139\n",
            "Epoch 5/5\n",
            "\u001b[1m413/413\u001b[0m \u001b[32m━━━━━━━━━━━━━━━━━━━━\u001b[0m\u001b[37m\u001b[0m \u001b[1m112s\u001b[0m 272ms/step - accuracy: 0.5344 - loss: 1.0996 - val_accuracy: 0.4865 - val_loss: 1.2078\n"
          ]
        },
        {
          "data": {
            "text/html": [],
            "text/plain": [
              "<IPython.core.display.HTML object>"
            ]
          },
          "metadata": {},
          "output_type": "display_data"
        },
        {
          "data": {
            "text/html": [
              "<br>    <style><br>        .wandb-row {<br>            display: flex;<br>            flex-direction: row;<br>            flex-wrap: wrap;<br>            justify-content: flex-start;<br>            width: 100%;<br>        }<br>        .wandb-col {<br>            display: flex;<br>            flex-direction: column;<br>            flex-basis: 100%;<br>            flex: 1;<br>            padding: 10px;<br>        }<br>    </style><br><div class=\"wandb-row\"><div class=\"wandb-col\"><h3>Run history:</h3><br/><table class=\"wandb\"><tr><td>batch/accuracy</td><td>▁▂▂▂▃▄▄▄▅▅▅▅▅▅▅▅▅█▆▆▆▆▆▆▆▆▆▆▆▆▇▇▇▇▇▆▇▇▇▇</td></tr><tr><td>batch/batch_step</td><td>▁▁▁▁▂▂▂▃▃▃▄▄▄▄▄▄▄▄▄▅▅▅▅▅▆▆▆▆▆▆▇▇▇▇▇█████</td></tr><tr><td>batch/learning_rate</td><td>▁▁▁▁▁▁▁▁▁▁▁▁▁▁▁▁▁▁▁▁▁▁▁▁▁▁▁▁▁▁▁▁▁▁▁▁▁▁▁▁</td></tr><tr><td>batch/loss</td><td>██▇▇▇▇▃▅▅▅▅▅▄▅▅▄▄▄▄▄▄▄▄▄▄▁▄▃▃▃▃▃▃▃▃▃▂▂▂▂</td></tr><tr><td>epoch/accuracy</td><td>▁▄▆▇█</td></tr><tr><td>epoch/epoch</td><td>▁▃▅▆█</td></tr><tr><td>epoch/learning_rate</td><td>▁▁▁▁▁</td></tr><tr><td>epoch/loss</td><td>█▄▃▂▁</td></tr><tr><td>epoch/val_accuracy</td><td>▁█▄▇█</td></tr><tr><td>epoch/val_loss</td><td>█▁▃▄▃</td></tr></table><br/></div><div class=\"wandb-col\"><h3>Run summary:</h3><br/><table class=\"wandb\"><tr><td>batch/accuracy</td><td>0.54836</td></tr><tr><td>batch/batch_step</td><td>2070</td></tr><tr><td>batch/learning_rate</td><td>0.001</td></tr><tr><td>batch/loss</td><td>1.09166</td></tr><tr><td>epoch/accuracy</td><td>0.54727</td></tr><tr><td>epoch/epoch</td><td>4</td></tr><tr><td>epoch/learning_rate</td><td>0.001</td></tr><tr><td>epoch/loss</td><td>1.09275</td></tr><tr><td>epoch/val_accuracy</td><td>0.48649</td></tr><tr><td>epoch/val_loss</td><td>1.20781</td></tr></table><br/></div></div>"
            ],
            "text/plain": [
              "<IPython.core.display.HTML object>"
            ]
          },
          "metadata": {},
          "output_type": "display_data"
        },
        {
          "data": {
            "text/html": [
              " View run <strong style=\"color:#cdcd00\">restful-sweep-2</strong> at: <a href='https://wandb.ai/ayoubaamir0201-ensam-casablanca/5-flowers-classification/runs/zemflw6z' target=\"_blank\">https://wandb.ai/ayoubaamir0201-ensam-casablanca/5-flowers-classification/runs/zemflw6z</a><br> View project at: <a href='https://wandb.ai/ayoubaamir0201-ensam-casablanca/5-flowers-classification' target=\"_blank\">https://wandb.ai/ayoubaamir0201-ensam-casablanca/5-flowers-classification</a><br>Synced 5 W&B file(s), 0 media file(s), 0 artifact file(s) and 0 other file(s)"
            ],
            "text/plain": [
              "<IPython.core.display.HTML object>"
            ]
          },
          "metadata": {},
          "output_type": "display_data"
        },
        {
          "data": {
            "text/html": [
              "Find logs at: <code>./wandb/run-20250930_225024-zemflw6z/logs</code>"
            ],
            "text/plain": [
              "<IPython.core.display.HTML object>"
            ]
          },
          "metadata": {},
          "output_type": "display_data"
        },
        {
          "metadata": {
            "tags": null
          },
          "name": "stderr",
          "output_type": "stream",
          "text": [
            "\u001b[34m\u001b[1mwandb\u001b[0m: Agent Starting Run: fe8y5kl4 with config:\n",
            "\u001b[34m\u001b[1mwandb\u001b[0m: \tbatch_size: 8\n",
            "\u001b[34m\u001b[1mwandb\u001b[0m: \tepochs: 5\n",
            "\u001b[34m\u001b[1mwandb\u001b[0m: \thidden_nodes: 128\n",
            "\u001b[34m\u001b[1mwandb\u001b[0m: \timg_size: 224\n",
            "\u001b[34m\u001b[1mwandb\u001b[0m: \tlearning_rate: 0.001\n"
          ]
        },
        {
          "data": {
            "text/html": [],
            "text/plain": [
              "<IPython.core.display.HTML object>"
            ]
          },
          "metadata": {},
          "output_type": "display_data"
        },
        {
          "data": {
            "text/html": [
              "Tracking run with wandb version 0.21.4"
            ],
            "text/plain": [
              "<IPython.core.display.HTML object>"
            ]
          },
          "metadata": {},
          "output_type": "display_data"
        },
        {
          "data": {
            "text/html": [
              "Run data is saved locally in <code>/content/wandb/run-20250930_230111-fe8y5kl4</code>"
            ],
            "text/plain": [
              "<IPython.core.display.HTML object>"
            ]
          },
          "metadata": {},
          "output_type": "display_data"
        },
        {
          "data": {
            "text/html": [
              "Syncing run <strong><a href='https://wandb.ai/ayoubaamir0201-ensam-casablanca/5-flowers-classification/runs/fe8y5kl4' target=\"_blank\">sage-sweep-3</a></strong> to <a href='https://wandb.ai/ayoubaamir0201-ensam-casablanca/5-flowers-classification' target=\"_blank\">Weights & Biases</a> (<a href='https://wandb.me/developer-guide' target=\"_blank\">docs</a>)<br>Sweep page: <a href='https://wandb.ai/ayoubaamir0201-ensam-casablanca/5-flowers-classification/sweeps/tard0exk' target=\"_blank\">https://wandb.ai/ayoubaamir0201-ensam-casablanca/5-flowers-classification/sweeps/tard0exk</a>"
            ],
            "text/plain": [
              "<IPython.core.display.HTML object>"
            ]
          },
          "metadata": {},
          "output_type": "display_data"
        },
        {
          "data": {
            "text/html": [
              " View project at <a href='https://wandb.ai/ayoubaamir0201-ensam-casablanca/5-flowers-classification' target=\"_blank\">https://wandb.ai/ayoubaamir0201-ensam-casablanca/5-flowers-classification</a>"
            ],
            "text/plain": [
              "<IPython.core.display.HTML object>"
            ]
          },
          "metadata": {},
          "output_type": "display_data"
        },
        {
          "data": {
            "text/html": [
              " View sweep at <a href='https://wandb.ai/ayoubaamir0201-ensam-casablanca/5-flowers-classification/sweeps/tard0exk' target=\"_blank\">https://wandb.ai/ayoubaamir0201-ensam-casablanca/5-flowers-classification/sweeps/tard0exk</a>"
            ],
            "text/plain": [
              "<IPython.core.display.HTML object>"
            ]
          },
          "metadata": {},
          "output_type": "display_data"
        },
        {
          "data": {
            "text/html": [
              " View run at <a href='https://wandb.ai/ayoubaamir0201-ensam-casablanca/5-flowers-classification/runs/fe8y5kl4' target=\"_blank\">https://wandb.ai/ayoubaamir0201-ensam-casablanca/5-flowers-classification/runs/fe8y5kl4</a>"
            ],
            "text/plain": [
              "<IPython.core.display.HTML object>"
            ]
          },
          "metadata": {},
          "output_type": "display_data"
        },
        {
          "metadata": {
            "tags": null
          },
          "name": "stdout",
          "output_type": "stream",
          "text": [
            "Epoch 1/5\n",
            "\u001b[1m413/413\u001b[0m \u001b[32m━━━━━━━━━━━━━━━━━━━━\u001b[0m\u001b[37m\u001b[0m \u001b[1m201s\u001b[0m 485ms/step - accuracy: 0.2669 - loss: 13.4744 - val_accuracy: 0.2378 - val_loss: 1.6112\n",
            "Epoch 2/5\n",
            "\u001b[1m413/413\u001b[0m \u001b[32m━━━━━━━━━━━━━━━━━━━━\u001b[0m\u001b[37m\u001b[0m \u001b[1m261s\u001b[0m 630ms/step - accuracy: 0.2422 - loss: 1.6030 - val_accuracy: 0.2351 - val_loss: 1.6083\n",
            "Epoch 3/5\n",
            "\u001b[1m413/413\u001b[0m \u001b[32m━━━━━━━━━━━━━━━━━━━━\u001b[0m\u001b[37m\u001b[0m \u001b[1m203s\u001b[0m 490ms/step - accuracy: 0.2406 - loss: 1.6015 - val_accuracy: 0.2351 - val_loss: 1.6088\n",
            "Epoch 4/5\n",
            "\u001b[1m413/413\u001b[0m \u001b[32m━━━━━━━━━━━━━━━━━━━━\u001b[0m\u001b[37m\u001b[0m \u001b[1m201s\u001b[0m 487ms/step - accuracy: 0.2387 - loss: 1.6031 - val_accuracy: 0.2351 - val_loss: 1.6091\n",
            "Epoch 5/5\n",
            "\u001b[1m413/413\u001b[0m \u001b[32m━━━━━━━━━━━━━━━━━━━━\u001b[0m\u001b[37m\u001b[0m \u001b[1m201s\u001b[0m 486ms/step - accuracy: 0.2402 - loss: 1.6006 - val_accuracy: 0.2351 - val_loss: 1.6096\n"
          ]
        },
        {
          "data": {
            "text/html": [],
            "text/plain": [
              "<IPython.core.display.HTML object>"
            ]
          },
          "metadata": {},
          "output_type": "display_data"
        },
        {
          "data": {
            "text/html": [
              "<br>    <style><br>        .wandb-row {<br>            display: flex;<br>            flex-direction: row;<br>            flex-wrap: wrap;<br>            justify-content: flex-start;<br>            width: 100%;<br>        }<br>        .wandb-col {<br>            display: flex;<br>            flex-direction: column;<br>            flex-basis: 100%;<br>            flex: 1;<br>            padding: 10px;<br>        }<br>    </style><br><div class=\"wandb-row\"><div class=\"wandb-col\"><h3>Run history:</h3><br/><table class=\"wandb\"><tr><td>batch/accuracy</td><td>▅▇▆▅▅▄▁▂▂▂▃▃▃▃▃▂▂█▃▂▂▂▂▃▂▃▃█▃▂▂▂▂▂▂▂▂▃▃▃</td></tr><tr><td>batch/batch_step</td><td>▁▁▁▁▁▁▂▂▂▂▂▃▃▃▄▄▄▄▄▄▅▅▅▅▆▆▆▆▆▆▇▇▇▇▇▇▇███</td></tr><tr><td>batch/learning_rate</td><td>▁▁▁▁▁▁▁▁▁▁▁▁▁▁▁▁▁▁▁▁▁▁▁▁▁▁▁▁▁▁▁▁▁▁▁▁▁▁▁▁</td></tr><tr><td>batch/loss</td><td>█▅▃▃▂▂▂▂▁▁▁▁▁▁▁▁▁▁▁▁▁▁▁▁▁▁▁▁▁▁▁▁▁▁▁▁▁▁▁▁</td></tr><tr><td>epoch/accuracy</td><td>█▂▂▁▂</td></tr><tr><td>epoch/epoch</td><td>▁▃▅▆█</td></tr><tr><td>epoch/learning_rate</td><td>▁▁▁▁▁</td></tr><tr><td>epoch/loss</td><td>█▁▁▁▁</td></tr><tr><td>epoch/val_accuracy</td><td>█▁▁▁▁</td></tr><tr><td>epoch/val_loss</td><td>█▁▂▃▄</td></tr></table><br/></div><div class=\"wandb-col\"><h3>Run summary:</h3><br/><table class=\"wandb\"><tr><td>batch/accuracy</td><td>0.24635</td></tr><tr><td>batch/batch_step</td><td>2070</td></tr><tr><td>batch/learning_rate</td><td>0.001</td></tr><tr><td>batch/loss</td><td>1.59788</td></tr><tr><td>epoch/accuracy</td><td>0.24667</td></tr><tr><td>epoch/epoch</td><td>4</td></tr><tr><td>epoch/learning_rate</td><td>0.001</td></tr><tr><td>epoch/loss</td><td>1.59791</td></tr><tr><td>epoch/val_accuracy</td><td>0.23514</td></tr><tr><td>epoch/val_loss</td><td>1.60965</td></tr></table><br/></div></div>"
            ],
            "text/plain": [
              "<IPython.core.display.HTML object>"
            ]
          },
          "metadata": {},
          "output_type": "display_data"
        },
        {
          "data": {
            "text/html": [
              " View run <strong style=\"color:#cdcd00\">sage-sweep-3</strong> at: <a href='https://wandb.ai/ayoubaamir0201-ensam-casablanca/5-flowers-classification/runs/fe8y5kl4' target=\"_blank\">https://wandb.ai/ayoubaamir0201-ensam-casablanca/5-flowers-classification/runs/fe8y5kl4</a><br> View project at: <a href='https://wandb.ai/ayoubaamir0201-ensam-casablanca/5-flowers-classification' target=\"_blank\">https://wandb.ai/ayoubaamir0201-ensam-casablanca/5-flowers-classification</a><br>Synced 5 W&B file(s), 0 media file(s), 0 artifact file(s) and 0 other file(s)"
            ],
            "text/plain": [
              "<IPython.core.display.HTML object>"
            ]
          },
          "metadata": {},
          "output_type": "display_data"
        },
        {
          "data": {
            "text/html": [
              "Find logs at: <code>./wandb/run-20250930_230111-fe8y5kl4/logs</code>"
            ],
            "text/plain": [
              "<IPython.core.display.HTML object>"
            ]
          },
          "metadata": {},
          "output_type": "display_data"
        },
        {
          "metadata": {
            "tags": null
          },
          "name": "stderr",
          "output_type": "stream",
          "text": [
            "\u001b[34m\u001b[1mwandb\u001b[0m: Agent Starting Run: 0r2uvju7 with config:\n",
            "\u001b[34m\u001b[1mwandb\u001b[0m: \tbatch_size: 8\n",
            "\u001b[34m\u001b[1mwandb\u001b[0m: \tepochs: 5\n",
            "\u001b[34m\u001b[1mwandb\u001b[0m: \thidden_nodes: 128\n",
            "\u001b[34m\u001b[1mwandb\u001b[0m: \timg_size: 224\n",
            "\u001b[34m\u001b[1mwandb\u001b[0m: \tlearning_rate: 0.0001\n"
          ]
        },
        {
          "data": {
            "text/html": [],
            "text/plain": [
              "<IPython.core.display.HTML object>"
            ]
          },
          "metadata": {},
          "output_type": "display_data"
        },
        {
          "data": {
            "text/html": [
              "Tracking run with wandb version 0.21.4"
            ],
            "text/plain": [
              "<IPython.core.display.HTML object>"
            ]
          },
          "metadata": {},
          "output_type": "display_data"
        },
        {
          "data": {
            "text/html": [
              "Run data is saved locally in <code>/content/wandb/run-20250930_231905-0r2uvju7</code>"
            ],
            "text/plain": [
              "<IPython.core.display.HTML object>"
            ]
          },
          "metadata": {},
          "output_type": "display_data"
        },
        {
          "data": {
            "text/html": [
              "Syncing run <strong><a href='https://wandb.ai/ayoubaamir0201-ensam-casablanca/5-flowers-classification/runs/0r2uvju7' target=\"_blank\">copper-sweep-4</a></strong> to <a href='https://wandb.ai/ayoubaamir0201-ensam-casablanca/5-flowers-classification' target=\"_blank\">Weights & Biases</a> (<a href='https://wandb.me/developer-guide' target=\"_blank\">docs</a>)<br>Sweep page: <a href='https://wandb.ai/ayoubaamir0201-ensam-casablanca/5-flowers-classification/sweeps/tard0exk' target=\"_blank\">https://wandb.ai/ayoubaamir0201-ensam-casablanca/5-flowers-classification/sweeps/tard0exk</a>"
            ],
            "text/plain": [
              "<IPython.core.display.HTML object>"
            ]
          },
          "metadata": {},
          "output_type": "display_data"
        },
        {
          "data": {
            "text/html": [
              " View project at <a href='https://wandb.ai/ayoubaamir0201-ensam-casablanca/5-flowers-classification' target=\"_blank\">https://wandb.ai/ayoubaamir0201-ensam-casablanca/5-flowers-classification</a>"
            ],
            "text/plain": [
              "<IPython.core.display.HTML object>"
            ]
          },
          "metadata": {},
          "output_type": "display_data"
        },
        {
          "data": {
            "text/html": [
              " View sweep at <a href='https://wandb.ai/ayoubaamir0201-ensam-casablanca/5-flowers-classification/sweeps/tard0exk' target=\"_blank\">https://wandb.ai/ayoubaamir0201-ensam-casablanca/5-flowers-classification/sweeps/tard0exk</a>"
            ],
            "text/plain": [
              "<IPython.core.display.HTML object>"
            ]
          },
          "metadata": {},
          "output_type": "display_data"
        },
        {
          "data": {
            "text/html": [
              " View run at <a href='https://wandb.ai/ayoubaamir0201-ensam-casablanca/5-flowers-classification/runs/0r2uvju7' target=\"_blank\">https://wandb.ai/ayoubaamir0201-ensam-casablanca/5-flowers-classification/runs/0r2uvju7</a>"
            ],
            "text/plain": [
              "<IPython.core.display.HTML object>"
            ]
          },
          "metadata": {},
          "output_type": "display_data"
        },
        {
          "metadata": {
            "tags": null
          },
          "name": "stdout",
          "output_type": "stream",
          "text": [
            "Epoch 1/5\n",
            "\u001b[1m413/413\u001b[0m \u001b[32m━━━━━━━━━━━━━━━━━━━━\u001b[0m\u001b[37m\u001b[0m \u001b[1m205s\u001b[0m 494ms/step - accuracy: 0.2957 - loss: 20.2448 - val_accuracy: 0.3703 - val_loss: 2.7374\n",
            "Epoch 2/5\n",
            "\u001b[1m413/413\u001b[0m \u001b[32m━━━━━━━━━━━━━━━━━━━━\u001b[0m\u001b[37m\u001b[0m \u001b[1m262s\u001b[0m 494ms/step - accuracy: 0.3466 - loss: 2.7359 - val_accuracy: 0.2703 - val_loss: 1.5755\n",
            "Epoch 3/5\n",
            "\u001b[1m413/413\u001b[0m \u001b[32m━━━━━━━━━━━━━━━━━━━━\u001b[0m\u001b[37m\u001b[0m \u001b[1m202s\u001b[0m 488ms/step - accuracy: 0.2730 - loss: 1.5834 - val_accuracy: 0.2432 - val_loss: 1.5970\n",
            "Epoch 4/5\n",
            "\u001b[1m413/413\u001b[0m \u001b[32m━━━━━━━━━━━━━━━━━━━━\u001b[0m\u001b[37m\u001b[0m \u001b[1m208s\u001b[0m 503ms/step - accuracy: 0.2668 - loss: 1.5789 - val_accuracy: 0.2351 - val_loss: 1.6074\n",
            "Epoch 5/5\n",
            "\u001b[1m413/413\u001b[0m \u001b[32m━━━━━━━━━━━━━━━━━━━━\u001b[0m\u001b[37m\u001b[0m \u001b[1m262s\u001b[0m 634ms/step - accuracy: 0.2668 - loss: 1.5852 - val_accuracy: 0.2973 - val_loss: 1.5623\n"
          ]
        },
        {
          "data": {
            "text/html": [],
            "text/plain": [
              "<IPython.core.display.HTML object>"
            ]
          },
          "metadata": {},
          "output_type": "display_data"
        },
        {
          "data": {
            "text/html": [
              "<br>    <style><br>        .wandb-row {<br>            display: flex;<br>            flex-direction: row;<br>            flex-wrap: wrap;<br>            justify-content: flex-start;<br>            width: 100%;<br>        }<br>        .wandb-col {<br>            display: flex;<br>            flex-direction: column;<br>            flex-basis: 100%;<br>            flex: 1;<br>            padding: 10px;<br>        }<br>    </style><br><div class=\"wandb-row\"><div class=\"wandb-col\"><h3>Run history:</h3><br/><table class=\"wandb\"><tr><td>batch/accuracy</td><td>▁▅▅▅▅▅▆▆▆█▇▇▇▇▇▇▆▆█▅▅▅▅▅▅▅▅▅▅▄▄▄▅▅▅▅▅▆▅▅</td></tr><tr><td>batch/batch_step</td><td>▁▁▁▁▁▂▂▂▂▂▂▂▃▃▃▃▃▃▄▄▄▄▄▅▅▅▅▅▆▆▆▆▆▆▇▇▇███</td></tr><tr><td>batch/learning_rate</td><td>▁▁▁▁▁▁▁▁▁▁▁▁▁▁▁▁▁▁▁▁▁▁▁▁▁▁▁▁▁▁▁▁▁▁▁▁▁▁▁▁</td></tr><tr><td>batch/loss</td><td>█▅▅▄▄▃▃▁▁▁▁▁▁▁▁▁▁▁▁▁▁▁▁▁▁▁▁▁▁▁▁▁▁▁▁▁▁▁▁▁</td></tr><tr><td>epoch/accuracy</td><td>█▆▂▁▄</td></tr><tr><td>epoch/epoch</td><td>▁▃▅▆█</td></tr><tr><td>epoch/learning_rate</td><td>▁▁▁▁▁</td></tr><tr><td>epoch/loss</td><td>█▂▁▁▁</td></tr><tr><td>epoch/val_accuracy</td><td>█▃▁▁▄</td></tr><tr><td>epoch/val_loss</td><td>█▁▁▁▁</td></tr></table><br/></div><div class=\"wandb-col\"><h3>Run summary:</h3><br/><table class=\"wandb\"><tr><td>batch/accuracy</td><td>0.29106</td></tr><tr><td>batch/batch_step</td><td>2070</td></tr><tr><td>batch/learning_rate</td><td>0.001</td></tr><tr><td>batch/loss</td><td>1.57137</td></tr><tr><td>epoch/accuracy</td><td>0.29121</td></tr><tr><td>epoch/epoch</td><td>4</td></tr><tr><td>epoch/learning_rate</td><td>0.001</td></tr><tr><td>epoch/loss</td><td>1.57237</td></tr><tr><td>epoch/val_accuracy</td><td>0.2973</td></tr><tr><td>epoch/val_loss</td><td>1.5623</td></tr></table><br/></div></div>"
            ],
            "text/plain": [
              "<IPython.core.display.HTML object>"
            ]
          },
          "metadata": {},
          "output_type": "display_data"
        },
        {
          "data": {
            "text/html": [
              " View run <strong style=\"color:#cdcd00\">copper-sweep-4</strong> at: <a href='https://wandb.ai/ayoubaamir0201-ensam-casablanca/5-flowers-classification/runs/0r2uvju7' target=\"_blank\">https://wandb.ai/ayoubaamir0201-ensam-casablanca/5-flowers-classification/runs/0r2uvju7</a><br> View project at: <a href='https://wandb.ai/ayoubaamir0201-ensam-casablanca/5-flowers-classification' target=\"_blank\">https://wandb.ai/ayoubaamir0201-ensam-casablanca/5-flowers-classification</a><br>Synced 5 W&B file(s), 0 media file(s), 0 artifact file(s) and 0 other file(s)"
            ],
            "text/plain": [
              "<IPython.core.display.HTML object>"
            ]
          },
          "metadata": {},
          "output_type": "display_data"
        },
        {
          "data": {
            "text/html": [
              "Find logs at: <code>./wandb/run-20250930_231905-0r2uvju7/logs</code>"
            ],
            "text/plain": [
              "<IPython.core.display.HTML object>"
            ]
          },
          "metadata": {},
          "output_type": "display_data"
        },
        {
          "metadata": {
            "tags": null
          },
          "name": "stderr",
          "output_type": "stream",
          "text": [
            "\u001b[34m\u001b[1mwandb\u001b[0m: Agent Starting Run: geydvb2g with config:\n",
            "\u001b[34m\u001b[1mwandb\u001b[0m: \tbatch_size: 8\n",
            "\u001b[34m\u001b[1mwandb\u001b[0m: \tepochs: 5\n",
            "\u001b[34m\u001b[1mwandb\u001b[0m: \thidden_nodes: 64\n",
            "\u001b[34m\u001b[1mwandb\u001b[0m: \timg_size: 16\n",
            "\u001b[34m\u001b[1mwandb\u001b[0m: \tlearning_rate: 0.001\n"
          ]
        },
        {
          "data": {
            "text/html": [],
            "text/plain": [
              "<IPython.core.display.HTML object>"
            ]
          },
          "metadata": {},
          "output_type": "display_data"
        },
        {
          "data": {
            "text/html": [
              "Tracking run with wandb version 0.21.4"
            ],
            "text/plain": [
              "<IPython.core.display.HTML object>"
            ]
          },
          "metadata": {},
          "output_type": "display_data"
        },
        {
          "data": {
            "text/html": [
              "Run data is saved locally in <code>/content/wandb/run-20250930_233811-geydvb2g</code>"
            ],
            "text/plain": [
              "<IPython.core.display.HTML object>"
            ]
          },
          "metadata": {},
          "output_type": "display_data"
        },
        {
          "data": {
            "text/html": [
              "Syncing run <strong><a href='https://wandb.ai/ayoubaamir0201-ensam-casablanca/5-flowers-classification/runs/geydvb2g' target=\"_blank\">clean-sweep-5</a></strong> to <a href='https://wandb.ai/ayoubaamir0201-ensam-casablanca/5-flowers-classification' target=\"_blank\">Weights & Biases</a> (<a href='https://wandb.me/developer-guide' target=\"_blank\">docs</a>)<br>Sweep page: <a href='https://wandb.ai/ayoubaamir0201-ensam-casablanca/5-flowers-classification/sweeps/tard0exk' target=\"_blank\">https://wandb.ai/ayoubaamir0201-ensam-casablanca/5-flowers-classification/sweeps/tard0exk</a>"
            ],
            "text/plain": [
              "<IPython.core.display.HTML object>"
            ]
          },
          "metadata": {},
          "output_type": "display_data"
        },
        {
          "data": {
            "text/html": [
              " View project at <a href='https://wandb.ai/ayoubaamir0201-ensam-casablanca/5-flowers-classification' target=\"_blank\">https://wandb.ai/ayoubaamir0201-ensam-casablanca/5-flowers-classification</a>"
            ],
            "text/plain": [
              "<IPython.core.display.HTML object>"
            ]
          },
          "metadata": {},
          "output_type": "display_data"
        },
        {
          "data": {
            "text/html": [
              " View sweep at <a href='https://wandb.ai/ayoubaamir0201-ensam-casablanca/5-flowers-classification/sweeps/tard0exk' target=\"_blank\">https://wandb.ai/ayoubaamir0201-ensam-casablanca/5-flowers-classification/sweeps/tard0exk</a>"
            ],
            "text/plain": [
              "<IPython.core.display.HTML object>"
            ]
          },
          "metadata": {},
          "output_type": "display_data"
        },
        {
          "data": {
            "text/html": [
              " View run at <a href='https://wandb.ai/ayoubaamir0201-ensam-casablanca/5-flowers-classification/runs/geydvb2g' target=\"_blank\">https://wandb.ai/ayoubaamir0201-ensam-casablanca/5-flowers-classification/runs/geydvb2g</a>"
            ],
            "text/plain": [
              "<IPython.core.display.HTML object>"
            ]
          },
          "metadata": {},
          "output_type": "display_data"
        },
        {
          "metadata": {
            "tags": null
          },
          "name": "stdout",
          "output_type": "stream",
          "text": [
            "Epoch 1/5\n",
            "\u001b[1m413/413\u001b[0m \u001b[32m━━━━━━━━━━━━━━━━━━━━\u001b[0m\u001b[37m\u001b[0m \u001b[1m111s\u001b[0m 266ms/step - accuracy: 0.3304 - loss: 1.4860 - val_accuracy: 0.4405 - val_loss: 1.2597\n",
            "Epoch 2/5\n",
            "\u001b[1m413/413\u001b[0m \u001b[32m━━━━━━━━━━━━━━━━━━━━\u001b[0m\u001b[37m\u001b[0m \u001b[1m112s\u001b[0m 271ms/step - accuracy: 0.4420 - loss: 1.2705 - val_accuracy: 0.4622 - val_loss: 1.2225\n",
            "Epoch 3/5\n",
            "\u001b[1m413/413\u001b[0m \u001b[32m━━━━━━━━━━━━━━━━━━━━\u001b[0m\u001b[37m\u001b[0m \u001b[1m112s\u001b[0m 272ms/step - accuracy: 0.4821 - loss: 1.2230 - val_accuracy: 0.4703 - val_loss: 1.2072\n",
            "Epoch 4/5\n",
            "\u001b[1m413/413\u001b[0m \u001b[32m━━━━━━━━━━━━━━━━━━━━\u001b[0m\u001b[37m\u001b[0m \u001b[1m112s\u001b[0m 270ms/step - accuracy: 0.4976 - loss: 1.1869 - val_accuracy: 0.4703 - val_loss: 1.2103\n",
            "Epoch 5/5\n",
            "\u001b[1m413/413\u001b[0m \u001b[32m━━━━━━━━━━━━━━━━━━━━\u001b[0m\u001b[37m\u001b[0m \u001b[1m110s\u001b[0m 266ms/step - accuracy: 0.5111 - loss: 1.1496 - val_accuracy: 0.4784 - val_loss: 1.1884\n"
          ]
        },
        {
          "data": {
            "text/html": [],
            "text/plain": [
              "<IPython.core.display.HTML object>"
            ]
          },
          "metadata": {},
          "output_type": "display_data"
        },
        {
          "data": {
            "text/html": [
              "<br>    <style><br>        .wandb-row {<br>            display: flex;<br>            flex-direction: row;<br>            flex-wrap: wrap;<br>            justify-content: flex-start;<br>            width: 100%;<br>        }<br>        .wandb-col {<br>            display: flex;<br>            flex-direction: column;<br>            flex-basis: 100%;<br>            flex: 1;<br>            padding: 10px;<br>        }<br>    </style><br><div class=\"wandb-row\"><div class=\"wandb-col\"><h3>Run history:</h3><br/><table class=\"wandb\"><tr><td>batch/accuracy</td><td>▁▃▃▃▄▄▄▄▄▄▄▄▄▄▅▆▆▆▆▆▆▆█▇▆▆▆▆▇▇▇▇▇▇▇▇▇▇▇▇</td></tr><tr><td>batch/batch_step</td><td>▁▁▁▁▁▂▂▂▂▂▃▃▃▃▃▄▄▄▄▄▅▅▅▅▅▆▆▆▆▆▆▆▆▇▇▇▇███</td></tr><tr><td>batch/learning_rate</td><td>▁▁▁▁▁▁▁▁▁▁▁▁▁▁▁▁▁▁▁▁▁▁▁▁▁▁▁▁▁▁▁▁▁▁▁▁▁▁▁▁</td></tr><tr><td>batch/loss</td><td>█▇▇▆▆▆▆▆▂▄▄▄▄▄▄▄▃▄▄▃▃▃▃▃▂▃▃▃▂▂▃▁▂▂▂▂▂▂▂▂</td></tr><tr><td>epoch/accuracy</td><td>▁▄▆▇█</td></tr><tr><td>epoch/epoch</td><td>▁▃▅▆█</td></tr><tr><td>epoch/learning_rate</td><td>▁▁▁▁▁</td></tr><tr><td>epoch/loss</td><td>█▄▃▂▁</td></tr><tr><td>epoch/val_accuracy</td><td>▁▅▆▆█</td></tr><tr><td>epoch/val_loss</td><td>█▄▃▃▁</td></tr></table><br/></div><div class=\"wandb-col\"><h3>Run summary:</h3><br/><table class=\"wandb\"><tr><td>batch/accuracy</td><td>0.51916</td></tr><tr><td>batch/batch_step</td><td>2070</td></tr><tr><td>batch/learning_rate</td><td>0.001</td></tr><tr><td>batch/loss</td><td>1.15075</td></tr><tr><td>epoch/accuracy</td><td>0.51879</td></tr><tr><td>epoch/epoch</td><td>4</td></tr><tr><td>epoch/learning_rate</td><td>0.001</td></tr><tr><td>epoch/loss</td><td>1.15159</td></tr><tr><td>epoch/val_accuracy</td><td>0.47838</td></tr><tr><td>epoch/val_loss</td><td>1.18842</td></tr></table><br/></div></div>"
            ],
            "text/plain": [
              "<IPython.core.display.HTML object>"
            ]
          },
          "metadata": {},
          "output_type": "display_data"
        },
        {
          "data": {
            "text/html": [
              " View run <strong style=\"color:#cdcd00\">clean-sweep-5</strong> at: <a href='https://wandb.ai/ayoubaamir0201-ensam-casablanca/5-flowers-classification/runs/geydvb2g' target=\"_blank\">https://wandb.ai/ayoubaamir0201-ensam-casablanca/5-flowers-classification/runs/geydvb2g</a><br> View project at: <a href='https://wandb.ai/ayoubaamir0201-ensam-casablanca/5-flowers-classification' target=\"_blank\">https://wandb.ai/ayoubaamir0201-ensam-casablanca/5-flowers-classification</a><br>Synced 5 W&B file(s), 0 media file(s), 0 artifact file(s) and 0 other file(s)"
            ],
            "text/plain": [
              "<IPython.core.display.HTML object>"
            ]
          },
          "metadata": {},
          "output_type": "display_data"
        },
        {
          "data": {
            "text/html": [
              "Find logs at: <code>./wandb/run-20250930_233811-geydvb2g/logs</code>"
            ],
            "text/plain": [
              "<IPython.core.display.HTML object>"
            ]
          },
          "metadata": {},
          "output_type": "display_data"
        },
        {
          "metadata": {
            "tags": null
          },
          "name": "stderr",
          "output_type": "stream",
          "text": [
            "\u001b[34m\u001b[1mwandb\u001b[0m: Agent Starting Run: ro4t3ev7 with config:\n",
            "\u001b[34m\u001b[1mwandb\u001b[0m: \tbatch_size: 8\n",
            "\u001b[34m\u001b[1mwandb\u001b[0m: \tepochs: 5\n",
            "\u001b[34m\u001b[1mwandb\u001b[0m: \thidden_nodes: 64\n",
            "\u001b[34m\u001b[1mwandb\u001b[0m: \timg_size: 16\n",
            "\u001b[34m\u001b[1mwandb\u001b[0m: \tlearning_rate: 0.0001\n"
          ]
        },
        {
          "data": {
            "text/html": [],
            "text/plain": [
              "<IPython.core.display.HTML object>"
            ]
          },
          "metadata": {},
          "output_type": "display_data"
        },
        {
          "data": {
            "text/html": [
              "Tracking run with wandb version 0.21.4"
            ],
            "text/plain": [
              "<IPython.core.display.HTML object>"
            ]
          },
          "metadata": {},
          "output_type": "display_data"
        },
        {
          "data": {
            "text/html": [
              "Run data is saved locally in <code>/content/wandb/run-20250930_234737-ro4t3ev7</code>"
            ],
            "text/plain": [
              "<IPython.core.display.HTML object>"
            ]
          },
          "metadata": {},
          "output_type": "display_data"
        },
        {
          "data": {
            "text/html": [
              "Syncing run <strong><a href='https://wandb.ai/ayoubaamir0201-ensam-casablanca/5-flowers-classification/runs/ro4t3ev7' target=\"_blank\">glamorous-sweep-6</a></strong> to <a href='https://wandb.ai/ayoubaamir0201-ensam-casablanca/5-flowers-classification' target=\"_blank\">Weights & Biases</a> (<a href='https://wandb.me/developer-guide' target=\"_blank\">docs</a>)<br>Sweep page: <a href='https://wandb.ai/ayoubaamir0201-ensam-casablanca/5-flowers-classification/sweeps/tard0exk' target=\"_blank\">https://wandb.ai/ayoubaamir0201-ensam-casablanca/5-flowers-classification/sweeps/tard0exk</a>"
            ],
            "text/plain": [
              "<IPython.core.display.HTML object>"
            ]
          },
          "metadata": {},
          "output_type": "display_data"
        },
        {
          "data": {
            "text/html": [
              " View project at <a href='https://wandb.ai/ayoubaamir0201-ensam-casablanca/5-flowers-classification' target=\"_blank\">https://wandb.ai/ayoubaamir0201-ensam-casablanca/5-flowers-classification</a>"
            ],
            "text/plain": [
              "<IPython.core.display.HTML object>"
            ]
          },
          "metadata": {},
          "output_type": "display_data"
        },
        {
          "data": {
            "text/html": [
              " View sweep at <a href='https://wandb.ai/ayoubaamir0201-ensam-casablanca/5-flowers-classification/sweeps/tard0exk' target=\"_blank\">https://wandb.ai/ayoubaamir0201-ensam-casablanca/5-flowers-classification/sweeps/tard0exk</a>"
            ],
            "text/plain": [
              "<IPython.core.display.HTML object>"
            ]
          },
          "metadata": {},
          "output_type": "display_data"
        },
        {
          "data": {
            "text/html": [
              " View run at <a href='https://wandb.ai/ayoubaamir0201-ensam-casablanca/5-flowers-classification/runs/ro4t3ev7' target=\"_blank\">https://wandb.ai/ayoubaamir0201-ensam-casablanca/5-flowers-classification/runs/ro4t3ev7</a>"
            ],
            "text/plain": [
              "<IPython.core.display.HTML object>"
            ]
          },
          "metadata": {},
          "output_type": "display_data"
        },
        {
          "metadata": {
            "tags": null
          },
          "name": "stdout",
          "output_type": "stream",
          "text": [
            "Epoch 1/5\n",
            "\u001b[1m413/413\u001b[0m \u001b[32m━━━━━━━━━━━━━━━━━━━━\u001b[0m\u001b[37m\u001b[0m \u001b[1m112s\u001b[0m 267ms/step - accuracy: 0.3454 - loss: 1.4747 - val_accuracy: 0.4486 - val_loss: 1.2632\n",
            "Epoch 2/5\n",
            "\u001b[1m413/413\u001b[0m \u001b[32m━━━━━━━━━━━━━━━━━━━━\u001b[0m\u001b[37m\u001b[0m \u001b[1m141s\u001b[0m 342ms/step - accuracy: 0.4445 - loss: 1.2671 - val_accuracy: 0.4622 - val_loss: 1.2271\n",
            "Epoch 3/5\n",
            "\u001b[1m413/413\u001b[0m \u001b[32m━━━━━━━━━━━━━━━━━━━━\u001b[0m\u001b[37m\u001b[0m \u001b[1m139s\u001b[0m 337ms/step - accuracy: 0.4718 - loss: 1.2194 - val_accuracy: 0.4541 - val_loss: 1.2172\n",
            "Epoch 4/5\n",
            "\u001b[1m413/413\u001b[0m \u001b[32m━━━━━━━━━━━━━━━━━━━━\u001b[0m\u001b[37m\u001b[0m \u001b[1m113s\u001b[0m 274ms/step - accuracy: 0.4996 - loss: 1.1748 - val_accuracy: 0.4730 - val_loss: 1.2126\n",
            "Epoch 5/5\n",
            "\u001b[1m413/413\u001b[0m \u001b[32m━━━━━━━━━━━━━━━━━━━━\u001b[0m\u001b[37m\u001b[0m \u001b[1m141s\u001b[0m 341ms/step - accuracy: 0.5167 - loss: 1.1386 - val_accuracy: 0.4649 - val_loss: 1.2562\n"
          ]
        },
        {
          "data": {
            "text/html": [],
            "text/plain": [
              "<IPython.core.display.HTML object>"
            ]
          },
          "metadata": {},
          "output_type": "display_data"
        },
        {
          "data": {
            "text/html": [
              "<br>    <style><br>        .wandb-row {<br>            display: flex;<br>            flex-direction: row;<br>            flex-wrap: wrap;<br>            justify-content: flex-start;<br>            width: 100%;<br>        }<br>        .wandb-col {<br>            display: flex;<br>            flex-direction: column;<br>            flex-basis: 100%;<br>            flex: 1;<br>            padding: 10px;<br>        }<br>    </style><br><div class=\"wandb-row\"><div class=\"wandb-col\"><h3>Run history:</h3><br/><table class=\"wandb\"><tr><td>batch/accuracy</td><td>▂▁▂▃▃▄▄▄▅▅▆▆▆▆▆▆▇▇▇▇▇▇▇▇█▇▇███▇█████████</td></tr><tr><td>batch/batch_step</td><td>▁▁▁▁▁▂▂▂▂▂▃▃▃▃▃▄▄▄▄▅▅▅▅▅▅▆▆▆▆▆▆▇▇▇▇▇▇▇██</td></tr><tr><td>batch/learning_rate</td><td>▁▁▁▁▁▁▁▁▁▁▁▁▁▁▁▁▁▁▁▁▁▁▁▁▁▁▁▁▁▁▁▁▁▁▁▁▁▁▁▁</td></tr><tr><td>batch/loss</td><td>██▇▇▇▇▇▇▆▆▅▅▅▃▄▃▃▃▃▃▂▂▂▃▂▂▂▂▂▂▂▂▁▁▁▁▁▁▁▁</td></tr><tr><td>epoch/accuracy</td><td>▁▄▆▇█</td></tr><tr><td>epoch/epoch</td><td>▁▃▅▆█</td></tr><tr><td>epoch/learning_rate</td><td>▁▁▁▁▁</td></tr><tr><td>epoch/loss</td><td>█▄▃▂▁</td></tr><tr><td>epoch/val_accuracy</td><td>▁▅▃█▆</td></tr><tr><td>epoch/val_loss</td><td>█▃▂▁▇</td></tr></table><br/></div><div class=\"wandb-col\"><h3>Run summary:</h3><br/><table class=\"wandb\"><tr><td>batch/accuracy</td><td>0.52038</td></tr><tr><td>batch/batch_step</td><td>2070</td></tr><tr><td>batch/learning_rate</td><td>0.001</td></tr><tr><td>batch/loss</td><td>1.1388</td></tr><tr><td>epoch/accuracy</td><td>0.51939</td></tr><tr><td>epoch/epoch</td><td>4</td></tr><tr><td>epoch/learning_rate</td><td>0.001</td></tr><tr><td>epoch/loss</td><td>1.1398</td></tr><tr><td>epoch/val_accuracy</td><td>0.46486</td></tr><tr><td>epoch/val_loss</td><td>1.25621</td></tr></table><br/></div></div>"
            ],
            "text/plain": [
              "<IPython.core.display.HTML object>"
            ]
          },
          "metadata": {},
          "output_type": "display_data"
        },
        {
          "data": {
            "text/html": [
              " View run <strong style=\"color:#cdcd00\">glamorous-sweep-6</strong> at: <a href='https://wandb.ai/ayoubaamir0201-ensam-casablanca/5-flowers-classification/runs/ro4t3ev7' target=\"_blank\">https://wandb.ai/ayoubaamir0201-ensam-casablanca/5-flowers-classification/runs/ro4t3ev7</a><br> View project at: <a href='https://wandb.ai/ayoubaamir0201-ensam-casablanca/5-flowers-classification' target=\"_blank\">https://wandb.ai/ayoubaamir0201-ensam-casablanca/5-flowers-classification</a><br>Synced 5 W&B file(s), 0 media file(s), 0 artifact file(s) and 0 other file(s)"
            ],
            "text/plain": [
              "<IPython.core.display.HTML object>"
            ]
          },
          "metadata": {},
          "output_type": "display_data"
        },
        {
          "data": {
            "text/html": [
              "Find logs at: <code>./wandb/run-20250930_234737-ro4t3ev7/logs</code>"
            ],
            "text/plain": [
              "<IPython.core.display.HTML object>"
            ]
          },
          "metadata": {},
          "output_type": "display_data"
        },
        {
          "metadata": {
            "tags": null
          },
          "name": "stderr",
          "output_type": "stream",
          "text": [
            "\u001b[34m\u001b[1mwandb\u001b[0m: Agent Starting Run: ayrlrwc6 with config:\n",
            "\u001b[34m\u001b[1mwandb\u001b[0m: \tbatch_size: 8\n",
            "\u001b[34m\u001b[1mwandb\u001b[0m: \tepochs: 5\n",
            "\u001b[34m\u001b[1mwandb\u001b[0m: \thidden_nodes: 64\n",
            "\u001b[34m\u001b[1mwandb\u001b[0m: \timg_size: 224\n",
            "\u001b[34m\u001b[1mwandb\u001b[0m: \tlearning_rate: 0.001\n"
          ]
        },
        {
          "data": {
            "text/html": [],
            "text/plain": [
              "<IPython.core.display.HTML object>"
            ]
          },
          "metadata": {},
          "output_type": "display_data"
        },
        {
          "data": {
            "text/html": [
              "Tracking run with wandb version 0.21.4"
            ],
            "text/plain": [
              "<IPython.core.display.HTML object>"
            ]
          },
          "metadata": {},
          "output_type": "display_data"
        },
        {
          "data": {
            "text/html": [
              "Run data is saved locally in <code>/content/wandb/run-20250930_235834-ayrlrwc6</code>"
            ],
            "text/plain": [
              "<IPython.core.display.HTML object>"
            ]
          },
          "metadata": {},
          "output_type": "display_data"
        },
        {
          "data": {
            "text/html": [
              "Syncing run <strong><a href='https://wandb.ai/ayoubaamir0201-ensam-casablanca/5-flowers-classification/runs/ayrlrwc6' target=\"_blank\">celestial-sweep-7</a></strong> to <a href='https://wandb.ai/ayoubaamir0201-ensam-casablanca/5-flowers-classification' target=\"_blank\">Weights & Biases</a> (<a href='https://wandb.me/developer-guide' target=\"_blank\">docs</a>)<br>Sweep page: <a href='https://wandb.ai/ayoubaamir0201-ensam-casablanca/5-flowers-classification/sweeps/tard0exk' target=\"_blank\">https://wandb.ai/ayoubaamir0201-ensam-casablanca/5-flowers-classification/sweeps/tard0exk</a>"
            ],
            "text/plain": [
              "<IPython.core.display.HTML object>"
            ]
          },
          "metadata": {},
          "output_type": "display_data"
        },
        {
          "data": {
            "text/html": [
              " View project at <a href='https://wandb.ai/ayoubaamir0201-ensam-casablanca/5-flowers-classification' target=\"_blank\">https://wandb.ai/ayoubaamir0201-ensam-casablanca/5-flowers-classification</a>"
            ],
            "text/plain": [
              "<IPython.core.display.HTML object>"
            ]
          },
          "metadata": {},
          "output_type": "display_data"
        },
        {
          "data": {
            "text/html": [
              " View sweep at <a href='https://wandb.ai/ayoubaamir0201-ensam-casablanca/5-flowers-classification/sweeps/tard0exk' target=\"_blank\">https://wandb.ai/ayoubaamir0201-ensam-casablanca/5-flowers-classification/sweeps/tard0exk</a>"
            ],
            "text/plain": [
              "<IPython.core.display.HTML object>"
            ]
          },
          "metadata": {},
          "output_type": "display_data"
        },
        {
          "data": {
            "text/html": [
              " View run at <a href='https://wandb.ai/ayoubaamir0201-ensam-casablanca/5-flowers-classification/runs/ayrlrwc6' target=\"_blank\">https://wandb.ai/ayoubaamir0201-ensam-casablanca/5-flowers-classification/runs/ayrlrwc6</a>"
            ],
            "text/plain": [
              "<IPython.core.display.HTML object>"
            ]
          },
          "metadata": {},
          "output_type": "display_data"
        },
        {
          "metadata": {
            "tags": null
          },
          "name": "stdout",
          "output_type": "stream",
          "text": [
            "Epoch 1/5\n",
            "\u001b[1m413/413\u001b[0m \u001b[32m━━━━━━━━━━━━━━━━━━━━\u001b[0m\u001b[37m\u001b[0m \u001b[1m151s\u001b[0m 363ms/step - accuracy: 0.2783 - loss: 17.3871 - val_accuracy: 0.2324 - val_loss: 1.6158\n",
            "Epoch 2/5\n",
            "\u001b[1m413/413\u001b[0m \u001b[32m━━━━━━━━━━━━━━━━━━━━\u001b[0m\u001b[37m\u001b[0m \u001b[1m154s\u001b[0m 372ms/step - accuracy: 0.2505 - loss: 1.5980 - val_accuracy: 0.2378 - val_loss: 1.6072\n",
            "Epoch 3/5\n",
            "\u001b[1m413/413\u001b[0m \u001b[32m━━━━━━━━━━━━━━━━━━━━\u001b[0m\u001b[37m\u001b[0m \u001b[1m202s\u001b[0m 488ms/step - accuracy: 0.2480 - loss: 1.5986 - val_accuracy: 0.2459 - val_loss: 1.5983\n",
            "Epoch 4/5\n",
            "\u001b[1m413/413\u001b[0m \u001b[32m━━━━━━━━━━━━━━━━━━━━\u001b[0m\u001b[37m\u001b[0m \u001b[1m202s\u001b[0m 489ms/step - accuracy: 0.2644 - loss: 1.5847 - val_accuracy: 0.2405 - val_loss: 1.6028\n",
            "Epoch 5/5\n",
            "\u001b[1m413/413\u001b[0m \u001b[32m━━━━━━━━━━━━━━━━━━━━\u001b[0m\u001b[37m\u001b[0m \u001b[1m202s\u001b[0m 489ms/step - accuracy: 0.2580 - loss: 1.5846 - val_accuracy: 0.2568 - val_loss: 1.5937\n"
          ]
        },
        {
          "data": {
            "text/html": [],
            "text/plain": [
              "<IPython.core.display.HTML object>"
            ]
          },
          "metadata": {},
          "output_type": "display_data"
        },
        {
          "data": {
            "text/html": [
              "<br>    <style><br>        .wandb-row {<br>            display: flex;<br>            flex-direction: row;<br>            flex-wrap: wrap;<br>            justify-content: flex-start;<br>            width: 100%;<br>        }<br>        .wandb-col {<br>            display: flex;<br>            flex-direction: column;<br>            flex-basis: 100%;<br>            flex: 1;<br>            padding: 10px;<br>        }<br>    </style><br><div class=\"wandb-row\"><div class=\"wandb-col\"><h3>Run history:</h3><br/><table class=\"wandb\"><tr><td>batch/accuracy</td><td>▁▄▇█▇▇▇▄▃▃▃▃▄▄▄▃▃▃▄▄▅▄▄▄▅▅▅▅▄▅▅▄▃▄▄▅▅▅▅▄</td></tr><tr><td>batch/batch_step</td><td>▁▁▁▂▂▂▂▂▃▃▃▃▃▃▃▄▄▄▄▄▅▅▅▅▅▅▆▆▆▆▆▆▆▇▇▇▇███</td></tr><tr><td>batch/learning_rate</td><td>▁▁▁▁▁▁▁▁▁▁▁▁▁▁▁▁▁▁▁▁▁▁▁▁▁▁▁▁▁▁▁▁▁▁▁▁▁▁▁▁</td></tr><tr><td>batch/loss</td><td>█▇▆▅▅▄▄▁▁▁▁▁▁▁▁▁▁▁▁▁▁▁▁▁▁▁▁▁▁▁▁▁▁▁▁▁▁▁▁▁</td></tr><tr><td>epoch/accuracy</td><td>█▁▃▄▂</td></tr><tr><td>epoch/epoch</td><td>▁▃▅▆█</td></tr><tr><td>epoch/learning_rate</td><td>▁▁▁▁▁</td></tr><tr><td>epoch/loss</td><td>█▁▁▁▁</td></tr><tr><td>epoch/val_accuracy</td><td>▁▃▅▃█</td></tr><tr><td>epoch/val_loss</td><td>█▅▂▄▁</td></tr></table><br/></div><div class=\"wandb-col\"><h3>Run summary:</h3><br/><table class=\"wandb\"><tr><td>batch/accuracy</td><td>0.25852</td></tr><tr><td>batch/batch_step</td><td>2070</td></tr><tr><td>batch/learning_rate</td><td>0.001</td></tr><tr><td>batch/loss</td><td>1.58862</td></tr><tr><td>epoch/accuracy</td><td>0.25879</td></tr><tr><td>epoch/epoch</td><td>4</td></tr><tr><td>epoch/learning_rate</td><td>0.001</td></tr><tr><td>epoch/loss</td><td>1.58867</td></tr><tr><td>epoch/val_accuracy</td><td>0.25676</td></tr><tr><td>epoch/val_loss</td><td>1.59366</td></tr></table><br/></div></div>"
            ],
            "text/plain": [
              "<IPython.core.display.HTML object>"
            ]
          },
          "metadata": {},
          "output_type": "display_data"
        },
        {
          "data": {
            "text/html": [
              " View run <strong style=\"color:#cdcd00\">celestial-sweep-7</strong> at: <a href='https://wandb.ai/ayoubaamir0201-ensam-casablanca/5-flowers-classification/runs/ayrlrwc6' target=\"_blank\">https://wandb.ai/ayoubaamir0201-ensam-casablanca/5-flowers-classification/runs/ayrlrwc6</a><br> View project at: <a href='https://wandb.ai/ayoubaamir0201-ensam-casablanca/5-flowers-classification' target=\"_blank\">https://wandb.ai/ayoubaamir0201-ensam-casablanca/5-flowers-classification</a><br>Synced 5 W&B file(s), 0 media file(s), 0 artifact file(s) and 0 other file(s)"
            ],
            "text/plain": [
              "<IPython.core.display.HTML object>"
            ]
          },
          "metadata": {},
          "output_type": "display_data"
        },
        {
          "data": {
            "text/html": [
              "Find logs at: <code>./wandb/run-20250930_235834-ayrlrwc6/logs</code>"
            ],
            "text/plain": [
              "<IPython.core.display.HTML object>"
            ]
          },
          "metadata": {},
          "output_type": "display_data"
        },
        {
          "metadata": {
            "tags": null
          },
          "name": "stderr",
          "output_type": "stream",
          "text": [
            "\u001b[34m\u001b[1mwandb\u001b[0m: Agent Starting Run: znmh2qmz with config:\n",
            "\u001b[34m\u001b[1mwandb\u001b[0m: \tbatch_size: 8\n",
            "\u001b[34m\u001b[1mwandb\u001b[0m: \tepochs: 5\n",
            "\u001b[34m\u001b[1mwandb\u001b[0m: \thidden_nodes: 64\n",
            "\u001b[34m\u001b[1mwandb\u001b[0m: \timg_size: 224\n",
            "\u001b[34m\u001b[1mwandb\u001b[0m: \tlearning_rate: 0.0001\n"
          ]
        },
        {
          "data": {
            "text/html": [],
            "text/plain": [
              "<IPython.core.display.HTML object>"
            ]
          },
          "metadata": {},
          "output_type": "display_data"
        },
        {
          "data": {
            "text/html": [
              "Tracking run with wandb version 0.21.4"
            ],
            "text/plain": [
              "<IPython.core.display.HTML object>"
            ]
          },
          "metadata": {},
          "output_type": "display_data"
        },
        {
          "data": {
            "text/html": [
              "Run data is saved locally in <code>/content/wandb/run-20251001_001355-znmh2qmz</code>"
            ],
            "text/plain": [
              "<IPython.core.display.HTML object>"
            ]
          },
          "metadata": {},
          "output_type": "display_data"
        },
        {
          "data": {
            "text/html": [
              "Syncing run <strong><a href='https://wandb.ai/ayoubaamir0201-ensam-casablanca/5-flowers-classification/runs/znmh2qmz' target=\"_blank\">summer-sweep-8</a></strong> to <a href='https://wandb.ai/ayoubaamir0201-ensam-casablanca/5-flowers-classification' target=\"_blank\">Weights & Biases</a> (<a href='https://wandb.me/developer-guide' target=\"_blank\">docs</a>)<br>Sweep page: <a href='https://wandb.ai/ayoubaamir0201-ensam-casablanca/5-flowers-classification/sweeps/tard0exk' target=\"_blank\">https://wandb.ai/ayoubaamir0201-ensam-casablanca/5-flowers-classification/sweeps/tard0exk</a>"
            ],
            "text/plain": [
              "<IPython.core.display.HTML object>"
            ]
          },
          "metadata": {},
          "output_type": "display_data"
        },
        {
          "data": {
            "text/html": [
              " View project at <a href='https://wandb.ai/ayoubaamir0201-ensam-casablanca/5-flowers-classification' target=\"_blank\">https://wandb.ai/ayoubaamir0201-ensam-casablanca/5-flowers-classification</a>"
            ],
            "text/plain": [
              "<IPython.core.display.HTML object>"
            ]
          },
          "metadata": {},
          "output_type": "display_data"
        },
        {
          "data": {
            "text/html": [
              " View sweep at <a href='https://wandb.ai/ayoubaamir0201-ensam-casablanca/5-flowers-classification/sweeps/tard0exk' target=\"_blank\">https://wandb.ai/ayoubaamir0201-ensam-casablanca/5-flowers-classification/sweeps/tard0exk</a>"
            ],
            "text/plain": [
              "<IPython.core.display.HTML object>"
            ]
          },
          "metadata": {},
          "output_type": "display_data"
        },
        {
          "data": {
            "text/html": [
              " View run at <a href='https://wandb.ai/ayoubaamir0201-ensam-casablanca/5-flowers-classification/runs/znmh2qmz' target=\"_blank\">https://wandb.ai/ayoubaamir0201-ensam-casablanca/5-flowers-classification/runs/znmh2qmz</a>"
            ],
            "text/plain": [
              "<IPython.core.display.HTML object>"
            ]
          },
          "metadata": {},
          "output_type": "display_data"
        },
        {
          "metadata": {
            "tags": null
          },
          "name": "stdout",
          "output_type": "stream",
          "text": [
            "Epoch 1/5\n",
            "\u001b[1m413/413\u001b[0m \u001b[32m━━━━━━━━━━━━━━━━━━━━\u001b[0m\u001b[37m\u001b[0m \u001b[1m156s\u001b[0m 375ms/step - accuracy: 0.2964 - loss: 12.2058 - val_accuracy: 0.2324 - val_loss: 1.6088\n",
            "Epoch 2/5\n",
            "\u001b[1m413/413\u001b[0m \u001b[32m━━━━━━━━━━━━━━━━━━━━\u001b[0m\u001b[37m\u001b[0m \u001b[1m183s\u001b[0m 444ms/step - accuracy: 0.2713 - loss: 1.5778 - val_accuracy: 0.2405 - val_loss: 1.6018\n",
            "Epoch 3/5\n",
            "\u001b[1m413/413\u001b[0m \u001b[32m━━━━━━━━━━━━━━━━━━━━\u001b[0m\u001b[37m\u001b[0m \u001b[1m179s\u001b[0m 388ms/step - accuracy: 0.2747 - loss: 1.5727 - val_accuracy: 0.2351 - val_loss: 1.6047\n",
            "Epoch 4/5\n",
            "\u001b[1m413/413\u001b[0m \u001b[32m━━━━━━━━━━━━━━━━━━━━\u001b[0m\u001b[37m\u001b[0m \u001b[1m159s\u001b[0m 383ms/step - accuracy: 0.2616 - loss: 1.5720 - val_accuracy: 0.2405 - val_loss: 1.5956\n",
            "Epoch 5/5\n",
            "\u001b[1m413/413\u001b[0m \u001b[32m━━━━━━━━━━━━━━━━━━━━\u001b[0m\u001b[37m\u001b[0m \u001b[1m201s\u001b[0m 487ms/step - accuracy: 0.2679 - loss: 1.5689 - val_accuracy: 0.2459 - val_loss: 1.5968\n"
          ]
        },
        {
          "data": {
            "text/html": [],
            "text/plain": [
              "<IPython.core.display.HTML object>"
            ]
          },
          "metadata": {},
          "output_type": "display_data"
        },
        {
          "data": {
            "text/html": [
              "<br>    <style><br>        .wandb-row {<br>            display: flex;<br>            flex-direction: row;<br>            flex-wrap: wrap;<br>            justify-content: flex-start;<br>            width: 100%;<br>        }<br>        .wandb-col {<br>            display: flex;<br>            flex-direction: column;<br>            flex-basis: 100%;<br>            flex: 1;<br>            padding: 10px;<br>        }<br>    </style><br><div class=\"wandb-row\"><div class=\"wandb-col\"><h3>Run history:</h3><br/><table class=\"wandb\"><tr><td>batch/accuracy</td><td>▁▆█████▅▅▆▆▇▇▇▇▇▇▇█▅▇▇▇▇▇▆▇▆▆▅▆▆█▇▆▆▆▆▆▆</td></tr><tr><td>batch/batch_step</td><td>▁▁▁▁▁▂▂▂▂▃▃▃▄▄▄▄▅▅▅▅▅▅▅▅▅▅▆▆▆▆▇▇▇▇▇▇▇▇██</td></tr><tr><td>batch/learning_rate</td><td>▁▁▁▁▁▁▁▁▁▁▁▁▁▁▁▁▁▁▁▁▁▁▁▁▁▁▁▁▁▁▁▁▁▁▁▁▁▁▁▁</td></tr><tr><td>batch/loss</td><td>██▄▄▃▃▃▁▁▁▁▁▁▁▁▁▁▁▁▁▁▁▁▁▁▁▁▁▁▁▁▁▁▁▁▁▁▁▁▁</td></tr><tr><td>epoch/accuracy</td><td>█▅▃▂▁</td></tr><tr><td>epoch/epoch</td><td>▁▃▅▆█</td></tr><tr><td>epoch/learning_rate</td><td>▁▁▁▁▁</td></tr><tr><td>epoch/loss</td><td>█▁▁▁▁</td></tr><tr><td>epoch/val_accuracy</td><td>▁▅▂▅█</td></tr><tr><td>epoch/val_loss</td><td>█▄▆▁▂</td></tr></table><br/></div><div class=\"wandb-col\"><h3>Run summary:</h3><br/><table class=\"wandb\"><tr><td>batch/accuracy</td><td>0.25973</td></tr><tr><td>batch/batch_step</td><td>2070</td></tr><tr><td>batch/learning_rate</td><td>0.001</td></tr><tr><td>batch/loss</td><td>1.58539</td></tr><tr><td>epoch/accuracy</td><td>0.26</td></tr><tr><td>epoch/epoch</td><td>4</td></tr><tr><td>epoch/learning_rate</td><td>0.001</td></tr><tr><td>epoch/loss</td><td>1.58544</td></tr><tr><td>epoch/val_accuracy</td><td>0.24595</td></tr><tr><td>epoch/val_loss</td><td>1.59682</td></tr></table><br/></div></div>"
            ],
            "text/plain": [
              "<IPython.core.display.HTML object>"
            ]
          },
          "metadata": {},
          "output_type": "display_data"
        },
        {
          "data": {
            "text/html": [
              " View run <strong style=\"color:#cdcd00\">summer-sweep-8</strong> at: <a href='https://wandb.ai/ayoubaamir0201-ensam-casablanca/5-flowers-classification/runs/znmh2qmz' target=\"_blank\">https://wandb.ai/ayoubaamir0201-ensam-casablanca/5-flowers-classification/runs/znmh2qmz</a><br> View project at: <a href='https://wandb.ai/ayoubaamir0201-ensam-casablanca/5-flowers-classification' target=\"_blank\">https://wandb.ai/ayoubaamir0201-ensam-casablanca/5-flowers-classification</a><br>Synced 5 W&B file(s), 0 media file(s), 0 artifact file(s) and 0 other file(s)"
            ],
            "text/plain": [
              "<IPython.core.display.HTML object>"
            ]
          },
          "metadata": {},
          "output_type": "display_data"
        },
        {
          "data": {
            "text/html": [
              "Find logs at: <code>./wandb/run-20251001_001355-znmh2qmz/logs</code>"
            ],
            "text/plain": [
              "<IPython.core.display.HTML object>"
            ]
          },
          "metadata": {},
          "output_type": "display_data"
        },
        {
          "metadata": {
            "tags": null
          },
          "name": "stderr",
          "output_type": "stream",
          "text": [
            "\u001b[34m\u001b[1mwandb\u001b[0m: Agent Starting Run: 88vq9sxb with config:\n",
            "\u001b[34m\u001b[1mwandb\u001b[0m: \tbatch_size: 8\n",
            "\u001b[34m\u001b[1mwandb\u001b[0m: \tepochs: 10\n",
            "\u001b[34m\u001b[1mwandb\u001b[0m: \thidden_nodes: 128\n",
            "\u001b[34m\u001b[1mwandb\u001b[0m: \timg_size: 16\n",
            "\u001b[34m\u001b[1mwandb\u001b[0m: \tlearning_rate: 0.001\n"
          ]
        },
        {
          "data": {
            "text/html": [],
            "text/plain": [
              "<IPython.core.display.HTML object>"
            ]
          },
          "metadata": {},
          "output_type": "display_data"
        },
        {
          "data": {
            "text/html": [
              "Tracking run with wandb version 0.21.4"
            ],
            "text/plain": [
              "<IPython.core.display.HTML object>"
            ]
          },
          "metadata": {},
          "output_type": "display_data"
        },
        {
          "data": {
            "text/html": [
              "Run data is saved locally in <code>/content/wandb/run-20251001_002843-88vq9sxb</code>"
            ],
            "text/plain": [
              "<IPython.core.display.HTML object>"
            ]
          },
          "metadata": {},
          "output_type": "display_data"
        },
        {
          "data": {
            "text/html": [
              "Syncing run <strong><a href='https://wandb.ai/ayoubaamir0201-ensam-casablanca/5-flowers-classification/runs/88vq9sxb' target=\"_blank\">major-sweep-9</a></strong> to <a href='https://wandb.ai/ayoubaamir0201-ensam-casablanca/5-flowers-classification' target=\"_blank\">Weights & Biases</a> (<a href='https://wandb.me/developer-guide' target=\"_blank\">docs</a>)<br>Sweep page: <a href='https://wandb.ai/ayoubaamir0201-ensam-casablanca/5-flowers-classification/sweeps/tard0exk' target=\"_blank\">https://wandb.ai/ayoubaamir0201-ensam-casablanca/5-flowers-classification/sweeps/tard0exk</a>"
            ],
            "text/plain": [
              "<IPython.core.display.HTML object>"
            ]
          },
          "metadata": {},
          "output_type": "display_data"
        },
        {
          "data": {
            "text/html": [
              " View project at <a href='https://wandb.ai/ayoubaamir0201-ensam-casablanca/5-flowers-classification' target=\"_blank\">https://wandb.ai/ayoubaamir0201-ensam-casablanca/5-flowers-classification</a>"
            ],
            "text/plain": [
              "<IPython.core.display.HTML object>"
            ]
          },
          "metadata": {},
          "output_type": "display_data"
        },
        {
          "data": {
            "text/html": [
              " View sweep at <a href='https://wandb.ai/ayoubaamir0201-ensam-casablanca/5-flowers-classification/sweeps/tard0exk' target=\"_blank\">https://wandb.ai/ayoubaamir0201-ensam-casablanca/5-flowers-classification/sweeps/tard0exk</a>"
            ],
            "text/plain": [
              "<IPython.core.display.HTML object>"
            ]
          },
          "metadata": {},
          "output_type": "display_data"
        },
        {
          "data": {
            "text/html": [
              " View run at <a href='https://wandb.ai/ayoubaamir0201-ensam-casablanca/5-flowers-classification/runs/88vq9sxb' target=\"_blank\">https://wandb.ai/ayoubaamir0201-ensam-casablanca/5-flowers-classification/runs/88vq9sxb</a>"
            ],
            "text/plain": [
              "<IPython.core.display.HTML object>"
            ]
          },
          "metadata": {},
          "output_type": "display_data"
        },
        {
          "metadata": {
            "tags": null
          },
          "name": "stdout",
          "output_type": "stream",
          "text": [
            "Epoch 1/10\n",
            "\u001b[1m413/413\u001b[0m \u001b[32m━━━━━━━━━━━━━━━━━━━━\u001b[0m\u001b[37m\u001b[0m \u001b[1m110s\u001b[0m 264ms/step - accuracy: 0.3538 - loss: 1.4726 - val_accuracy: 0.4351 - val_loss: 1.2361\n",
            "Epoch 2/10\n",
            "\u001b[1m413/413\u001b[0m \u001b[32m━━━━━━━━━━━━━━━━━━━━\u001b[0m\u001b[37m\u001b[0m \u001b[1m110s\u001b[0m 266ms/step - accuracy: 0.4635 - loss: 1.2502 - val_accuracy: 0.4595 - val_loss: 1.2217\n",
            "Epoch 3/10\n",
            "\u001b[1m413/413\u001b[0m \u001b[32m━━━━━━━━━━━━━━━━━━━━\u001b[0m\u001b[37m\u001b[0m \u001b[1m111s\u001b[0m 269ms/step - accuracy: 0.4912 - loss: 1.1972 - val_accuracy: 0.4784 - val_loss: 1.2127\n",
            "Epoch 4/10\n",
            "\u001b[1m413/413\u001b[0m \u001b[32m━━━━━━━━━━━━━━━━━━━━\u001b[0m\u001b[37m\u001b[0m \u001b[1m110s\u001b[0m 265ms/step - accuracy: 0.5106 - loss: 1.1478 - val_accuracy: 0.4946 - val_loss: 1.2131\n",
            "Epoch 5/10\n",
            "\u001b[1m413/413\u001b[0m \u001b[32m━━━━━━━━━━━━━━━━━━━━\u001b[0m\u001b[37m\u001b[0m \u001b[1m133s\u001b[0m 321ms/step - accuracy: 0.5383 - loss: 1.1033 - val_accuracy: 0.4730 - val_loss: 1.2198\n",
            "Epoch 6/10\n",
            "\u001b[1m413/413\u001b[0m \u001b[32m━━━━━━━━━━━━━━━━━━━━\u001b[0m\u001b[37m\u001b[0m \u001b[1m168s\u001b[0m 407ms/step - accuracy: 0.5598 - loss: 1.0607 - val_accuracy: 0.5000 - val_loss: 1.2085\n",
            "Epoch 7/10\n",
            "\u001b[1m413/413\u001b[0m \u001b[32m━━━━━━━━━━━━━━━━━━━━\u001b[0m\u001b[37m\u001b[0m \u001b[1m141s\u001b[0m 259ms/step - accuracy: 0.5754 - loss: 1.0227 - val_accuracy: 0.4865 - val_loss: 1.2187\n",
            "Epoch 8/10\n",
            "\u001b[1m413/413\u001b[0m \u001b[32m━━━━━━━━━━━━━━━━━━━━\u001b[0m\u001b[37m\u001b[0m \u001b[1m176s\u001b[0m 426ms/step - accuracy: 0.6116 - loss: 0.9716 - val_accuracy: 0.5270 - val_loss: 1.2315\n",
            "Epoch 9/10\n",
            "\u001b[1m413/413\u001b[0m \u001b[32m━━━━━━━━━━━━━━━━━━━━\u001b[0m\u001b[37m\u001b[0m \u001b[1m142s\u001b[0m 343ms/step - accuracy: 0.6312 - loss: 0.9330 - val_accuracy: 0.5027 - val_loss: 1.2489\n",
            "Epoch 10/10\n",
            "\u001b[1m413/413\u001b[0m \u001b[32m━━━━━━━━━━━━━━━━━━━━\u001b[0m\u001b[37m\u001b[0m \u001b[1m107s\u001b[0m 259ms/step - accuracy: 0.6638 - loss: 0.8776 - val_accuracy: 0.4973 - val_loss: 1.2810\n"
          ]
        },
        {
          "data": {
            "text/html": [],
            "text/plain": [
              "<IPython.core.display.HTML object>"
            ]
          },
          "metadata": {},
          "output_type": "display_data"
        },
        {
          "data": {
            "text/html": [
              "<br>    <style><br>        .wandb-row {<br>            display: flex;<br>            flex-direction: row;<br>            flex-wrap: wrap;<br>            justify-content: flex-start;<br>            width: 100%;<br>        }<br>        .wandb-col {<br>            display: flex;<br>            flex-direction: column;<br>            flex-basis: 100%;<br>            flex: 1;<br>            padding: 10px;<br>        }<br>    </style><br><div class=\"wandb-row\"><div class=\"wandb-col\"><h3>Run history:</h3><br/><table class=\"wandb\"><tr><td>batch/accuracy</td><td>▁▂▃▄▄▅▅▅▅▅▅▅▅▆▆▆▆▆▆▆▆▇▆▆▆▇▇▇▇▇▇▇▇▇▇▇▇███</td></tr><tr><td>batch/batch_step</td><td>▁▁▁▂▂▂▂▂▂▃▃▃▄▄▄▄▄▄▄▅▅▅▅▅▅▅▆▆▆▆▇▇▇▇▇█████</td></tr><tr><td>batch/learning_rate</td><td>▁▁▁▁▁▁▁▁▁▁▁▁▁▁▁▁▁▁▁▁▁▁▁▁▁▁▁▁▁▁▁▁▁▁▁▁▁▁▁▁</td></tr><tr><td>batch/loss</td><td>██▇▇▇▇▅▅▅▅▄▄▄▄▄▄▄▄▃▃▃▃▃▃▃▂▃▃▂▂▂▂▂▂▂▂▂▂▁▁</td></tr><tr><td>epoch/accuracy</td><td>▁▃▄▄▅▅▆▇▇█</td></tr><tr><td>epoch/epoch</td><td>▁▂▃▃▄▅▆▆▇█</td></tr><tr><td>epoch/learning_rate</td><td>▁▁▁▁▁▁▁▁▁▁</td></tr><tr><td>epoch/loss</td><td>█▆▅▅▄▄▃▂▂▁</td></tr><tr><td>epoch/val_accuracy</td><td>▁▃▄▆▄▆▅█▆▆</td></tr><tr><td>epoch/val_loss</td><td>▄▂▁▁▂▁▂▃▅█</td></tr></table><br/></div><div class=\"wandb-col\"><h3>Run summary:</h3><br/><table class=\"wandb\"><tr><td>batch/accuracy</td><td>0.6691</td></tr><tr><td>batch/batch_step</td><td>4145</td></tr><tr><td>batch/learning_rate</td><td>0.001</td></tr><tr><td>batch/loss</td><td>0.86865</td></tr><tr><td>epoch/accuracy</td><td>0.66879</td></tr><tr><td>epoch/epoch</td><td>9</td></tr><tr><td>epoch/learning_rate</td><td>0.001</td></tr><tr><td>epoch/loss</td><td>0.86875</td></tr><tr><td>epoch/val_accuracy</td><td>0.4973</td></tr><tr><td>epoch/val_loss</td><td>1.28102</td></tr></table><br/></div></div>"
            ],
            "text/plain": [
              "<IPython.core.display.HTML object>"
            ]
          },
          "metadata": {},
          "output_type": "display_data"
        },
        {
          "data": {
            "text/html": [
              " View run <strong style=\"color:#cdcd00\">major-sweep-9</strong> at: <a href='https://wandb.ai/ayoubaamir0201-ensam-casablanca/5-flowers-classification/runs/88vq9sxb' target=\"_blank\">https://wandb.ai/ayoubaamir0201-ensam-casablanca/5-flowers-classification/runs/88vq9sxb</a><br> View project at: <a href='https://wandb.ai/ayoubaamir0201-ensam-casablanca/5-flowers-classification' target=\"_blank\">https://wandb.ai/ayoubaamir0201-ensam-casablanca/5-flowers-classification</a><br>Synced 5 W&B file(s), 0 media file(s), 0 artifact file(s) and 0 other file(s)"
            ],
            "text/plain": [
              "<IPython.core.display.HTML object>"
            ]
          },
          "metadata": {},
          "output_type": "display_data"
        },
        {
          "data": {
            "text/html": [
              "Find logs at: <code>./wandb/run-20251001_002843-88vq9sxb/logs</code>"
            ],
            "text/plain": [
              "<IPython.core.display.HTML object>"
            ]
          },
          "metadata": {},
          "output_type": "display_data"
        },
        {
          "metadata": {
            "tags": null
          },
          "name": "stderr",
          "output_type": "stream",
          "text": [
            "\u001b[34m\u001b[1mwandb\u001b[0m: Agent Starting Run: m39dmlgc with config:\n",
            "\u001b[34m\u001b[1mwandb\u001b[0m: \tbatch_size: 8\n",
            "\u001b[34m\u001b[1mwandb\u001b[0m: \tepochs: 10\n",
            "\u001b[34m\u001b[1mwandb\u001b[0m: \thidden_nodes: 128\n",
            "\u001b[34m\u001b[1mwandb\u001b[0m: \timg_size: 16\n",
            "\u001b[34m\u001b[1mwandb\u001b[0m: \tlearning_rate: 0.0001\n"
          ]
        },
        {
          "data": {
            "text/html": [],
            "text/plain": [
              "<IPython.core.display.HTML object>"
            ]
          },
          "metadata": {},
          "output_type": "display_data"
        },
        {
          "data": {
            "text/html": [
              "Tracking run with wandb version 0.21.4"
            ],
            "text/plain": [
              "<IPython.core.display.HTML object>"
            ]
          },
          "metadata": {},
          "output_type": "display_data"
        },
        {
          "data": {
            "text/html": [
              "Run data is saved locally in <code>/content/wandb/run-20251001_005038-m39dmlgc</code>"
            ],
            "text/plain": [
              "<IPython.core.display.HTML object>"
            ]
          },
          "metadata": {},
          "output_type": "display_data"
        },
        {
          "data": {
            "text/html": [
              "Syncing run <strong><a href='https://wandb.ai/ayoubaamir0201-ensam-casablanca/5-flowers-classification/runs/m39dmlgc' target=\"_blank\">absurd-sweep-10</a></strong> to <a href='https://wandb.ai/ayoubaamir0201-ensam-casablanca/5-flowers-classification' target=\"_blank\">Weights & Biases</a> (<a href='https://wandb.me/developer-guide' target=\"_blank\">docs</a>)<br>Sweep page: <a href='https://wandb.ai/ayoubaamir0201-ensam-casablanca/5-flowers-classification/sweeps/tard0exk' target=\"_blank\">https://wandb.ai/ayoubaamir0201-ensam-casablanca/5-flowers-classification/sweeps/tard0exk</a>"
            ],
            "text/plain": [
              "<IPython.core.display.HTML object>"
            ]
          },
          "metadata": {},
          "output_type": "display_data"
        },
        {
          "data": {
            "text/html": [
              " View project at <a href='https://wandb.ai/ayoubaamir0201-ensam-casablanca/5-flowers-classification' target=\"_blank\">https://wandb.ai/ayoubaamir0201-ensam-casablanca/5-flowers-classification</a>"
            ],
            "text/plain": [
              "<IPython.core.display.HTML object>"
            ]
          },
          "metadata": {},
          "output_type": "display_data"
        },
        {
          "data": {
            "text/html": [
              " View sweep at <a href='https://wandb.ai/ayoubaamir0201-ensam-casablanca/5-flowers-classification/sweeps/tard0exk' target=\"_blank\">https://wandb.ai/ayoubaamir0201-ensam-casablanca/5-flowers-classification/sweeps/tard0exk</a>"
            ],
            "text/plain": [
              "<IPython.core.display.HTML object>"
            ]
          },
          "metadata": {},
          "output_type": "display_data"
        },
        {
          "data": {
            "text/html": [
              " View run at <a href='https://wandb.ai/ayoubaamir0201-ensam-casablanca/5-flowers-classification/runs/m39dmlgc' target=\"_blank\">https://wandb.ai/ayoubaamir0201-ensam-casablanca/5-flowers-classification/runs/m39dmlgc</a>"
            ],
            "text/plain": [
              "<IPython.core.display.HTML object>"
            ]
          },
          "metadata": {},
          "output_type": "display_data"
        },
        {
          "metadata": {
            "tags": null
          },
          "name": "stdout",
          "output_type": "stream",
          "text": [
            "Epoch 1/10\n",
            "\u001b[1m413/413\u001b[0m \u001b[32m━━━━━━━━━━━━━━━━━━━━\u001b[0m\u001b[37m\u001b[0m \u001b[1m110s\u001b[0m 264ms/step - accuracy: 0.3468 - loss: 1.5203 - val_accuracy: 0.4541 - val_loss: 1.2375\n",
            "Epoch 2/10\n",
            "\u001b[1m413/413\u001b[0m \u001b[32m━━━━━━━━━━━━━━━━━━━━\u001b[0m\u001b[37m\u001b[0m \u001b[1m109s\u001b[0m 264ms/step - accuracy: 0.4420 - loss: 1.2697 - val_accuracy: 0.4703 - val_loss: 1.2123\n",
            "Epoch 3/10\n",
            "\u001b[1m413/413\u001b[0m \u001b[32m━━━━━━━━━━━━━━━━━━━━\u001b[0m\u001b[37m\u001b[0m \u001b[1m108s\u001b[0m 261ms/step - accuracy: 0.4777 - loss: 1.2045 - val_accuracy: 0.4784 - val_loss: 1.2170\n",
            "Epoch 4/10\n",
            "\u001b[1m413/413\u001b[0m \u001b[32m━━━━━━━━━━━━━━━━━━━━\u001b[0m\u001b[37m\u001b[0m \u001b[1m202s\u001b[0m 489ms/step - accuracy: 0.5057 - loss: 1.1642 - val_accuracy: 0.4892 - val_loss: 1.2040\n",
            "Epoch 5/10\n",
            "\u001b[1m413/413\u001b[0m \u001b[32m━━━━━━━━━━━━━━━━━━━━\u001b[0m\u001b[37m\u001b[0m \u001b[1m108s\u001b[0m 261ms/step - accuracy: 0.5348 - loss: 1.1128 - val_accuracy: 0.4892 - val_loss: 1.2225\n",
            "Epoch 6/10\n",
            "\u001b[1m413/413\u001b[0m \u001b[32m━━━━━━━━━━━━━━━━━━━━\u001b[0m\u001b[37m\u001b[0m \u001b[1m113s\u001b[0m 272ms/step - accuracy: 0.5476 - loss: 1.0744 - val_accuracy: 0.4784 - val_loss: 1.2323\n",
            "Epoch 7/10\n",
            "\u001b[1m413/413\u001b[0m \u001b[32m━━━━━━━━━━━━━━━━━━━━\u001b[0m\u001b[37m\u001b[0m \u001b[1m109s\u001b[0m 263ms/step - accuracy: 0.5729 - loss: 1.0282 - val_accuracy: 0.4865 - val_loss: 1.2558\n",
            "Epoch 8/10\n",
            "\u001b[1m413/413\u001b[0m \u001b[32m━━━━━━━━━━━━━━━━━━━━\u001b[0m\u001b[37m\u001b[0m \u001b[1m142s\u001b[0m 344ms/step - accuracy: 0.5924 - loss: 0.9947 - val_accuracy: 0.4865 - val_loss: 1.2433\n",
            "Epoch 9/10\n",
            "\u001b[1m413/413\u001b[0m \u001b[32m━━━━━━━━━━━━━━━━━━━━\u001b[0m\u001b[37m\u001b[0m \u001b[1m113s\u001b[0m 272ms/step - accuracy: 0.6147 - loss: 0.9506 - val_accuracy: 0.4973 - val_loss: 1.2913\n",
            "Epoch 10/10\n",
            "\u001b[1m413/413\u001b[0m \u001b[32m━━━━━━━━━━━━━━━━━━━━\u001b[0m\u001b[37m\u001b[0m \u001b[1m141s\u001b[0m 341ms/step - accuracy: 0.6439 - loss: 0.9083 - val_accuracy: 0.4946 - val_loss: 1.2862\n"
          ]
        },
        {
          "data": {
            "text/html": [],
            "text/plain": [
              "<IPython.core.display.HTML object>"
            ]
          },
          "metadata": {},
          "output_type": "display_data"
        },
        {
          "data": {
            "text/html": [
              "<br>    <style><br>        .wandb-row {<br>            display: flex;<br>            flex-direction: row;<br>            flex-wrap: wrap;<br>            justify-content: flex-start;<br>            width: 100%;<br>        }<br>        .wandb-col {<br>            display: flex;<br>            flex-direction: column;<br>            flex-basis: 100%;<br>            flex: 1;<br>            padding: 10px;<br>        }<br>    </style><br><div class=\"wandb-row\"><div class=\"wandb-col\"><h3>Run history:</h3><br/><table class=\"wandb\"><tr><td>batch/accuracy</td><td>▁▂▃▃▃▃▃▃▄▄▄▄▅▅▅▅▆▅▆▄▅▆▆▅▅▆▇▇▇▇▆▆▆▇▇▇▇▇██</td></tr><tr><td>batch/batch_step</td><td>▁▁▁▁▁▃▃▃▃▃▄▄▄▄▄▄▄▅▅▅▅▅▅▅▆▆▆▆▆▆▇▇▇▇▇▇▇███</td></tr><tr><td>batch/learning_rate</td><td>▁▁▁▁▁▁▁▁▁▁▁▁▁▁▁▁▁▁▁▁▁▁▁▁▁▁▁▁▁▁▁▁▁▁▁▁▁▁▁▁</td></tr><tr><td>batch/loss</td><td>█▇▇▆▆▅▅▅▅▅▄▄▄▄▄▄▄▄▃▃▃▃▃▃▃▃▂▂▂▂▂▂▂▂▂▂▂▂▁▁</td></tr><tr><td>epoch/accuracy</td><td>▁▃▃▄▅▆▆▇▇█</td></tr><tr><td>epoch/epoch</td><td>▁▂▃▃▄▅▆▆▇█</td></tr><tr><td>epoch/learning_rate</td><td>▁▁▁▁▁▁▁▁▁▁</td></tr><tr><td>epoch/loss</td><td>█▆▅▅▄▃▃▂▂▁</td></tr><tr><td>epoch/val_accuracy</td><td>▁▄▅▇▇▅▆▆██</td></tr><tr><td>epoch/val_loss</td><td>▄▂▂▁▂▃▅▄██</td></tr></table><br/></div><div class=\"wandb-col\"><h3>Run summary:</h3><br/><table class=\"wandb\"><tr><td>batch/accuracy</td><td>0.66575</td></tr><tr><td>batch/batch_step</td><td>4145</td></tr><tr><td>batch/learning_rate</td><td>0.001</td></tr><tr><td>batch/loss</td><td>0.88336</td></tr><tr><td>epoch/accuracy</td><td>0.66576</td></tr><tr><td>epoch/epoch</td><td>9</td></tr><tr><td>epoch/learning_rate</td><td>0.001</td></tr><tr><td>epoch/loss</td><td>0.88393</td></tr><tr><td>epoch/val_accuracy</td><td>0.49459</td></tr><tr><td>epoch/val_loss</td><td>1.28622</td></tr></table><br/></div></div>"
            ],
            "text/plain": [
              "<IPython.core.display.HTML object>"
            ]
          },
          "metadata": {},
          "output_type": "display_data"
        },
        {
          "data": {
            "text/html": [
              " View run <strong style=\"color:#cdcd00\">absurd-sweep-10</strong> at: <a href='https://wandb.ai/ayoubaamir0201-ensam-casablanca/5-flowers-classification/runs/m39dmlgc' target=\"_blank\">https://wandb.ai/ayoubaamir0201-ensam-casablanca/5-flowers-classification/runs/m39dmlgc</a><br> View project at: <a href='https://wandb.ai/ayoubaamir0201-ensam-casablanca/5-flowers-classification' target=\"_blank\">https://wandb.ai/ayoubaamir0201-ensam-casablanca/5-flowers-classification</a><br>Synced 5 W&B file(s), 0 media file(s), 0 artifact file(s) and 0 other file(s)"
            ],
            "text/plain": [
              "<IPython.core.display.HTML object>"
            ]
          },
          "metadata": {},
          "output_type": "display_data"
        },
        {
          "data": {
            "text/html": [
              "Find logs at: <code>./wandb/run-20251001_005038-m39dmlgc/logs</code>"
            ],
            "text/plain": [
              "<IPython.core.display.HTML object>"
            ]
          },
          "metadata": {},
          "output_type": "display_data"
        },
        {
          "metadata": {
            "tags": null
          },
          "name": "stderr",
          "output_type": "stream",
          "text": [
            "\u001b[34m\u001b[1mwandb\u001b[0m: Sweep Agent: Waiting for job.\n",
            "\u001b[34m\u001b[1mwandb\u001b[0m: Job received.\n",
            "\u001b[34m\u001b[1mwandb\u001b[0m: Agent Starting Run: v5nsvs99 with config:\n",
            "\u001b[34m\u001b[1mwandb\u001b[0m: \tbatch_size: 8\n",
            "\u001b[34m\u001b[1mwandb\u001b[0m: \tepochs: 10\n",
            "\u001b[34m\u001b[1mwandb\u001b[0m: \thidden_nodes: 128\n",
            "\u001b[34m\u001b[1mwandb\u001b[0m: \timg_size: 224\n",
            "\u001b[34m\u001b[1mwandb\u001b[0m: \tlearning_rate: 0.001\n"
          ]
        },
        {
          "data": {
            "text/html": [],
            "text/plain": [
              "<IPython.core.display.HTML object>"
            ]
          },
          "metadata": {},
          "output_type": "display_data"
        },
        {
          "data": {
            "text/html": [
              "Tracking run with wandb version 0.21.4"
            ],
            "text/plain": [
              "<IPython.core.display.HTML object>"
            ]
          },
          "metadata": {},
          "output_type": "display_data"
        },
        {
          "data": {
            "text/html": [
              "Run data is saved locally in <code>/content/wandb/run-20251001_011146-v5nsvs99</code>"
            ],
            "text/plain": [
              "<IPython.core.display.HTML object>"
            ]
          },
          "metadata": {},
          "output_type": "display_data"
        },
        {
          "data": {
            "text/html": [
              "Syncing run <strong><a href='https://wandb.ai/ayoubaamir0201-ensam-casablanca/5-flowers-classification/runs/v5nsvs99' target=\"_blank\">warm-sweep-11</a></strong> to <a href='https://wandb.ai/ayoubaamir0201-ensam-casablanca/5-flowers-classification' target=\"_blank\">Weights & Biases</a> (<a href='https://wandb.me/developer-guide' target=\"_blank\">docs</a>)<br>Sweep page: <a href='https://wandb.ai/ayoubaamir0201-ensam-casablanca/5-flowers-classification/sweeps/tard0exk' target=\"_blank\">https://wandb.ai/ayoubaamir0201-ensam-casablanca/5-flowers-classification/sweeps/tard0exk</a>"
            ],
            "text/plain": [
              "<IPython.core.display.HTML object>"
            ]
          },
          "metadata": {},
          "output_type": "display_data"
        },
        {
          "data": {
            "text/html": [
              " View project at <a href='https://wandb.ai/ayoubaamir0201-ensam-casablanca/5-flowers-classification' target=\"_blank\">https://wandb.ai/ayoubaamir0201-ensam-casablanca/5-flowers-classification</a>"
            ],
            "text/plain": [
              "<IPython.core.display.HTML object>"
            ]
          },
          "metadata": {},
          "output_type": "display_data"
        },
        {
          "data": {
            "text/html": [
              " View sweep at <a href='https://wandb.ai/ayoubaamir0201-ensam-casablanca/5-flowers-classification/sweeps/tard0exk' target=\"_blank\">https://wandb.ai/ayoubaamir0201-ensam-casablanca/5-flowers-classification/sweeps/tard0exk</a>"
            ],
            "text/plain": [
              "<IPython.core.display.HTML object>"
            ]
          },
          "metadata": {},
          "output_type": "display_data"
        },
        {
          "data": {
            "text/html": [
              " View run at <a href='https://wandb.ai/ayoubaamir0201-ensam-casablanca/5-flowers-classification/runs/v5nsvs99' target=\"_blank\">https://wandb.ai/ayoubaamir0201-ensam-casablanca/5-flowers-classification/runs/v5nsvs99</a>"
            ],
            "text/plain": [
              "<IPython.core.display.HTML object>"
            ]
          },
          "metadata": {},
          "output_type": "display_data"
        },
        {
          "metadata": {
            "tags": null
          },
          "name": "stdout",
          "output_type": "stream",
          "text": [
            "Epoch 1/10\n",
            "\u001b[1m413/413\u001b[0m \u001b[32m━━━━━━━━━━━━━━━━━━━━\u001b[0m\u001b[37m\u001b[0m \u001b[1m206s\u001b[0m 494ms/step - accuracy: 0.2588 - loss: 17.0277 - val_accuracy: 0.1838 - val_loss: 1.6064\n",
            "Epoch 2/10\n",
            "\u001b[1m413/413\u001b[0m \u001b[32m━━━━━━━━━━━━━━━━━━━━\u001b[0m\u001b[37m\u001b[0m \u001b[1m260s\u001b[0m 630ms/step - accuracy: 0.2318 - loss: 1.6044 - val_accuracy: 0.2378 - val_loss: 1.6037\n",
            "Epoch 3/10\n",
            "\u001b[1m413/413\u001b[0m \u001b[32m━━━━━━━━━━━━━━━━━━━━\u001b[0m\u001b[37m\u001b[0m \u001b[1m262s\u001b[0m 633ms/step - accuracy: 0.2484 - loss: 1.5965 - val_accuracy: 0.2405 - val_loss: 1.6002\n",
            "Epoch 4/10\n",
            "\u001b[1m413/413\u001b[0m \u001b[32m━━━━━━━━━━━━━━━━━━━━\u001b[0m\u001b[37m\u001b[0m \u001b[1m203s\u001b[0m 489ms/step - accuracy: 0.2515 - loss: 1.5927 - val_accuracy: 0.2378 - val_loss: 1.6067\n",
            "Epoch 5/10\n",
            "\u001b[1m413/413\u001b[0m \u001b[32m━━━━━━━━━━━━━━━━━━━━\u001b[0m\u001b[37m\u001b[0m \u001b[1m206s\u001b[0m 498ms/step - accuracy: 0.2514 - loss: 1.5849 - val_accuracy: 0.2378 - val_loss: 1.6061\n",
            "Epoch 6/10\n",
            "\u001b[1m413/413\u001b[0m \u001b[32m━━━━━━━━━━━━━━━━━━━━\u001b[0m\u001b[37m\u001b[0m \u001b[1m260s\u001b[0m 630ms/step - accuracy: 0.2516 - loss: 1.5840 - val_accuracy: 0.2378 - val_loss: 1.6047\n",
            "Epoch 7/10\n",
            "\u001b[1m413/413\u001b[0m \u001b[32m━━━━━━━━━━━━━━━━━━━━\u001b[0m\u001b[37m\u001b[0m \u001b[1m203s\u001b[0m 490ms/step - accuracy: 0.2507 - loss: 1.5850 - val_accuracy: 0.2378 - val_loss: 1.6073\n",
            "Epoch 8/10\n",
            "\u001b[1m413/413\u001b[0m \u001b[32m━━━━━━━━━━━━━━━━━━━━\u001b[0m\u001b[37m\u001b[0m \u001b[1m204s\u001b[0m 493ms/step - accuracy: 0.2497 - loss: 1.5887 - val_accuracy: 0.2459 - val_loss: 1.5936\n",
            "Epoch 9/10\n",
            "\u001b[1m413/413\u001b[0m \u001b[32m━━━━━━━━━━━━━━━━━━━━\u001b[0m\u001b[37m\u001b[0m \u001b[1m261s\u001b[0m 631ms/step - accuracy: 0.2553 - loss: 1.5964 - val_accuracy: 0.2351 - val_loss: 1.6101\n",
            "Epoch 10/10\n",
            "\u001b[1m413/413\u001b[0m \u001b[32m━━━━━━━━━━━━━━━━━━━━\u001b[0m\u001b[37m\u001b[0m \u001b[1m203s\u001b[0m 490ms/step - accuracy: 0.2456 - loss: 1.5951 - val_accuracy: 0.2459 - val_loss: 1.5946\n"
          ]
        },
        {
          "data": {
            "text/html": [],
            "text/plain": [
              "<IPython.core.display.HTML object>"
            ]
          },
          "metadata": {},
          "output_type": "display_data"
        },
        {
          "data": {
            "text/html": [
              "<br>    <style><br>        .wandb-row {<br>            display: flex;<br>            flex-direction: row;<br>            flex-wrap: wrap;<br>            justify-content: flex-start;<br>            width: 100%;<br>        }<br>        .wandb-col {<br>            display: flex;<br>            flex-direction: column;<br>            flex-basis: 100%;<br>            flex: 1;<br>            padding: 10px;<br>        }<br>    </style><br><div class=\"wandb-row\"><div class=\"wandb-col\"><h3>Run history:</h3><br/><table class=\"wandb\"><tr><td>batch/accuracy</td><td>▁▁▃▃▂▂▄▂▂▂▂▃▂▅▂▂▂▂▂▂▂▂▂▂▂▂█▂▂▂▃▂▂▂▂▂▂▂▂▂</td></tr><tr><td>batch/batch_step</td><td>▁▁▁▂▂▂▃▃▃▃▃▃▄▄▄▄▅▅▅▅▅▆▆▆▆▇▇▇▇▇▇▇▇███████</td></tr><tr><td>batch/learning_rate</td><td>▁▁▁▁▁▁▁▁▁▁▁▁▁▁▁▁▁▁▁▁▁▁▁▁▁▁▁▁▁▁▁▁▁▁▁▁▁▁▁▁</td></tr><tr><td>batch/loss</td><td>██▁▁▁▁▁▁▁▁▁▁▁▁▁▁▁▁▁▁▁▁▁▁▁▁▁▁▁▁▁▁▁▁▁▁▁▁▁▁</td></tr><tr><td>epoch/accuracy</td><td>█▁▃▄▃▄▃▄▄▃</td></tr><tr><td>epoch/epoch</td><td>▁▂▃▃▄▅▆▆▇█</td></tr><tr><td>epoch/learning_rate</td><td>▁▁▁▁▁▁▁▁▁▁</td></tr><tr><td>epoch/loss</td><td>█▁▁▁▁▁▁▁▁▁</td></tr><tr><td>epoch/val_accuracy</td><td>▁▇▇▇▇▇▇█▇█</td></tr><tr><td>epoch/val_loss</td><td>▆▅▄▇▆▆▇▁█▁</td></tr></table><br/></div><div class=\"wandb-col\"><h3>Run summary:</h3><br/><table class=\"wandb\"><tr><td>batch/accuracy</td><td>0.25487</td></tr><tr><td>batch/batch_step</td><td>4145</td></tr><tr><td>batch/learning_rate</td><td>0.001</td></tr><tr><td>batch/loss</td><td>1.58965</td></tr><tr><td>epoch/accuracy</td><td>0.25515</td></tr><tr><td>epoch/epoch</td><td>9</td></tr><tr><td>epoch/learning_rate</td><td>0.001</td></tr><tr><td>epoch/loss</td><td>1.5897</td></tr><tr><td>epoch/val_accuracy</td><td>0.24595</td></tr><tr><td>epoch/val_loss</td><td>1.59462</td></tr></table><br/></div></div>"
            ],
            "text/plain": [
              "<IPython.core.display.HTML object>"
            ]
          },
          "metadata": {},
          "output_type": "display_data"
        },
        {
          "data": {
            "text/html": [
              " View run <strong style=\"color:#cdcd00\">warm-sweep-11</strong> at: <a href='https://wandb.ai/ayoubaamir0201-ensam-casablanca/5-flowers-classification/runs/v5nsvs99' target=\"_blank\">https://wandb.ai/ayoubaamir0201-ensam-casablanca/5-flowers-classification/runs/v5nsvs99</a><br> View project at: <a href='https://wandb.ai/ayoubaamir0201-ensam-casablanca/5-flowers-classification' target=\"_blank\">https://wandb.ai/ayoubaamir0201-ensam-casablanca/5-flowers-classification</a><br>Synced 5 W&B file(s), 0 media file(s), 0 artifact file(s) and 0 other file(s)"
            ],
            "text/plain": [
              "<IPython.core.display.HTML object>"
            ]
          },
          "metadata": {},
          "output_type": "display_data"
        },
        {
          "data": {
            "text/html": [
              "Find logs at: <code>./wandb/run-20251001_011146-v5nsvs99/logs</code>"
            ],
            "text/plain": [
              "<IPython.core.display.HTML object>"
            ]
          },
          "metadata": {},
          "output_type": "display_data"
        },
        {
          "metadata": {
            "tags": null
          },
          "name": "stderr",
          "output_type": "stream",
          "text": [
            "\u001b[34m\u001b[1mwandb\u001b[0m: Agent Starting Run: hdwjyptq with config:\n",
            "\u001b[34m\u001b[1mwandb\u001b[0m: \tbatch_size: 8\n",
            "\u001b[34m\u001b[1mwandb\u001b[0m: \tepochs: 10\n",
            "\u001b[34m\u001b[1mwandb\u001b[0m: \thidden_nodes: 128\n",
            "\u001b[34m\u001b[1mwandb\u001b[0m: \timg_size: 224\n",
            "\u001b[34m\u001b[1mwandb\u001b[0m: \tlearning_rate: 0.0001\n"
          ]
        },
        {
          "data": {
            "text/html": [],
            "text/plain": [
              "<IPython.core.display.HTML object>"
            ]
          },
          "metadata": {},
          "output_type": "display_data"
        },
        {
          "data": {
            "text/html": [
              "Tracking run with wandb version 0.21.4"
            ],
            "text/plain": [
              "<IPython.core.display.HTML object>"
            ]
          },
          "metadata": {},
          "output_type": "display_data"
        },
        {
          "data": {
            "text/html": [
              "Run data is saved locally in <code>/content/wandb/run-20251001_014938-hdwjyptq</code>"
            ],
            "text/plain": [
              "<IPython.core.display.HTML object>"
            ]
          },
          "metadata": {},
          "output_type": "display_data"
        },
        {
          "data": {
            "text/html": [
              "Syncing run <strong><a href='https://wandb.ai/ayoubaamir0201-ensam-casablanca/5-flowers-classification/runs/hdwjyptq' target=\"_blank\">woven-sweep-12</a></strong> to <a href='https://wandb.ai/ayoubaamir0201-ensam-casablanca/5-flowers-classification' target=\"_blank\">Weights & Biases</a> (<a href='https://wandb.me/developer-guide' target=\"_blank\">docs</a>)<br>Sweep page: <a href='https://wandb.ai/ayoubaamir0201-ensam-casablanca/5-flowers-classification/sweeps/tard0exk' target=\"_blank\">https://wandb.ai/ayoubaamir0201-ensam-casablanca/5-flowers-classification/sweeps/tard0exk</a>"
            ],
            "text/plain": [
              "<IPython.core.display.HTML object>"
            ]
          },
          "metadata": {},
          "output_type": "display_data"
        },
        {
          "data": {
            "text/html": [
              " View project at <a href='https://wandb.ai/ayoubaamir0201-ensam-casablanca/5-flowers-classification' target=\"_blank\">https://wandb.ai/ayoubaamir0201-ensam-casablanca/5-flowers-classification</a>"
            ],
            "text/plain": [
              "<IPython.core.display.HTML object>"
            ]
          },
          "metadata": {},
          "output_type": "display_data"
        },
        {
          "data": {
            "text/html": [
              " View sweep at <a href='https://wandb.ai/ayoubaamir0201-ensam-casablanca/5-flowers-classification/sweeps/tard0exk' target=\"_blank\">https://wandb.ai/ayoubaamir0201-ensam-casablanca/5-flowers-classification/sweeps/tard0exk</a>"
            ],
            "text/plain": [
              "<IPython.core.display.HTML object>"
            ]
          },
          "metadata": {},
          "output_type": "display_data"
        },
        {
          "data": {
            "text/html": [
              " View run at <a href='https://wandb.ai/ayoubaamir0201-ensam-casablanca/5-flowers-classification/runs/hdwjyptq' target=\"_blank\">https://wandb.ai/ayoubaamir0201-ensam-casablanca/5-flowers-classification/runs/hdwjyptq</a>"
            ],
            "text/plain": [
              "<IPython.core.display.HTML object>"
            ]
          },
          "metadata": {},
          "output_type": "display_data"
        },
        {
          "metadata": {
            "tags": null
          },
          "name": "stdout",
          "output_type": "stream",
          "text": [
            "Epoch 1/10\n",
            "\u001b[1m413/413\u001b[0m \u001b[32m━━━━━━━━━━━━━━━━━━━━\u001b[0m\u001b[37m\u001b[0m \u001b[1m208s\u001b[0m 502ms/step - accuracy: 0.2644 - loss: 18.3645 - val_accuracy: 0.2405 - val_loss: 1.6056\n",
            "Epoch 2/10\n",
            "\u001b[1m413/413\u001b[0m \u001b[32m━━━━━━━━━━━━━━━━━━━━\u001b[0m\u001b[37m\u001b[0m \u001b[1m202s\u001b[0m 487ms/step - accuracy: 0.2570 - loss: 1.5915 - val_accuracy: 0.3081 - val_loss: 1.5538\n",
            "Epoch 3/10\n",
            "\u001b[1m413/413\u001b[0m \u001b[32m━━━━━━━━━━━━━━━━━━━━\u001b[0m\u001b[37m\u001b[0m \u001b[1m201s\u001b[0m 486ms/step - accuracy: 0.2513 - loss: 1.5933 - val_accuracy: 0.2378 - val_loss: 1.6067\n",
            "Epoch 4/10\n",
            "\u001b[1m413/413\u001b[0m \u001b[32m━━━━━━━━━━━━━━━━━━━━\u001b[0m\u001b[37m\u001b[0m \u001b[1m262s\u001b[0m 631ms/step - accuracy: 0.2479 - loss: 1.5934 - val_accuracy: 0.2486 - val_loss: 1.5891\n",
            "Epoch 5/10\n",
            "\u001b[1m413/413\u001b[0m \u001b[32m━━━━━━━━━━━━━━━━━━━━\u001b[0m\u001b[37m\u001b[0m \u001b[1m207s\u001b[0m 501ms/step - accuracy: 0.2678 - loss: 1.5688 - val_accuracy: 0.2378 - val_loss: 1.6045\n",
            "Epoch 6/10\n",
            "\u001b[1m413/413\u001b[0m \u001b[32m━━━━━━━━━━━━━━━━━━━━\u001b[0m\u001b[37m\u001b[0m \u001b[1m203s\u001b[0m 490ms/step - accuracy: 0.2502 - loss: 1.5860 - val_accuracy: 0.2351 - val_loss: 1.5948\n",
            "Epoch 7/10\n",
            "\u001b[1m413/413\u001b[0m \u001b[32m━━━━━━━━━━━━━━━━━━━━\u001b[0m\u001b[37m\u001b[0m \u001b[1m210s\u001b[0m 509ms/step - accuracy: 0.2453 - loss: 1.5932 - val_accuracy: 0.2405 - val_loss: 1.6033\n",
            "Epoch 8/10\n",
            "\u001b[1m413/413\u001b[0m \u001b[32m━━━━━━━━━━━━━━━━━━━━\u001b[0m\u001b[37m\u001b[0m \u001b[1m201s\u001b[0m 486ms/step - accuracy: 0.2536 - loss: 1.5855 - val_accuracy: 0.2595 - val_loss: 1.5802\n",
            "Epoch 9/10\n",
            "\u001b[1m413/413\u001b[0m \u001b[32m━━━━━━━━━━━━━━━━━━━━\u001b[0m\u001b[37m\u001b[0m \u001b[1m262s\u001b[0m 633ms/step - accuracy: 0.2536 - loss: 1.5852 - val_accuracy: 0.2432 - val_loss: 1.6003\n",
            "Epoch 10/10\n",
            "\u001b[1m413/413\u001b[0m \u001b[32m━━━━━━━━━━━━━━━━━━━━\u001b[0m\u001b[37m\u001b[0m \u001b[1m262s\u001b[0m 635ms/step - accuracy: 0.2462 - loss: 1.5939 - val_accuracy: 0.2405 - val_loss: 1.6025\n"
          ]
        },
        {
          "data": {
            "text/html": [],
            "text/plain": [
              "<IPython.core.display.HTML object>"
            ]
          },
          "metadata": {},
          "output_type": "display_data"
        },
        {
          "data": {
            "text/html": [
              "<br>    <style><br>        .wandb-row {<br>            display: flex;<br>            flex-direction: row;<br>            flex-wrap: wrap;<br>            justify-content: flex-start;<br>            width: 100%;<br>        }<br>        .wandb-col {<br>            display: flex;<br>            flex-direction: column;<br>            flex-basis: 100%;<br>            flex: 1;<br>            padding: 10px;<br>        }<br>    </style><br><div class=\"wandb-row\"><div class=\"wandb-col\"><h3>Run history:</h3><br/><table class=\"wandb\"><tr><td>batch/accuracy</td><td>▁▁█▇▆▃▆▇▃▂▃▂▅▅▅▇▆▇▇▄▄▄▅▅▂▃▄▄▅▅▄▄▄▄▆▄▆▆▆▄</td></tr><tr><td>batch/batch_step</td><td>▁▁▁▁▁▂▂▂▂▂▃▃▃▃▃▄▄▄▄▄▄▄▅▅▅▅▅▅▆▆▆▆▆▆▆▇▇███</td></tr><tr><td>batch/learning_rate</td><td>▁▁▁▁▁▁▁▁▁▁▁▁▁▁▁▁▁▁▁▁▁▁▁▁▁▁▁▁▁▁▁▁▁▁▁▁▁▁▁▁</td></tr><tr><td>batch/loss</td><td>█▆▅▅▄▄▃▁▁▁▁▁▁▁▁▁▁▁▁▁▁▁▁▁▁▁▁▁▁▁▁▁▁▁▁▁▁▁▁▁</td></tr><tr><td>epoch/accuracy</td><td>▆█▂▃█▃▂▅▆▁</td></tr><tr><td>epoch/epoch</td><td>▁▂▃▃▄▅▆▆▇█</td></tr><tr><td>epoch/learning_rate</td><td>▁▁▁▁▁▁▁▁▁▁</td></tr><tr><td>epoch/loss</td><td>█▁▁▁▁▁▁▁▁▁</td></tr><tr><td>epoch/val_accuracy</td><td>▂█▁▂▁▁▂▃▂▂</td></tr><tr><td>epoch/val_loss</td><td>█▁█▆█▆█▄▇▇</td></tr></table><br/></div><div class=\"wandb-col\"><h3>Run summary:</h3><br/><table class=\"wandb\"><tr><td>batch/accuracy</td><td>0.24939</td></tr><tr><td>batch/batch_step</td><td>4145</td></tr><tr><td>batch/learning_rate</td><td>0.001</td></tr><tr><td>batch/loss</td><td>1.59475</td></tr><tr><td>epoch/accuracy</td><td>0.2497</td></tr><tr><td>epoch/epoch</td><td>9</td></tr><tr><td>epoch/learning_rate</td><td>0.001</td></tr><tr><td>epoch/loss</td><td>1.59479</td></tr><tr><td>epoch/val_accuracy</td><td>0.24054</td></tr><tr><td>epoch/val_loss</td><td>1.60247</td></tr></table><br/></div></div>"
            ],
            "text/plain": [
              "<IPython.core.display.HTML object>"
            ]
          },
          "metadata": {},
          "output_type": "display_data"
        },
        {
          "data": {
            "text/html": [
              " View run <strong style=\"color:#cdcd00\">woven-sweep-12</strong> at: <a href='https://wandb.ai/ayoubaamir0201-ensam-casablanca/5-flowers-classification/runs/hdwjyptq' target=\"_blank\">https://wandb.ai/ayoubaamir0201-ensam-casablanca/5-flowers-classification/runs/hdwjyptq</a><br> View project at: <a href='https://wandb.ai/ayoubaamir0201-ensam-casablanca/5-flowers-classification' target=\"_blank\">https://wandb.ai/ayoubaamir0201-ensam-casablanca/5-flowers-classification</a><br>Synced 5 W&B file(s), 0 media file(s), 0 artifact file(s) and 0 other file(s)"
            ],
            "text/plain": [
              "<IPython.core.display.HTML object>"
            ]
          },
          "metadata": {},
          "output_type": "display_data"
        },
        {
          "data": {
            "text/html": [
              "Find logs at: <code>./wandb/run-20251001_014938-hdwjyptq/logs</code>"
            ],
            "text/plain": [
              "<IPython.core.display.HTML object>"
            ]
          },
          "metadata": {},
          "output_type": "display_data"
        },
        {
          "metadata": {
            "tags": null
          },
          "name": "stderr",
          "output_type": "stream",
          "text": [
            "\u001b[34m\u001b[1mwandb\u001b[0m: Agent Starting Run: m1dxj9i4 with config:\n",
            "\u001b[34m\u001b[1mwandb\u001b[0m: \tbatch_size: 8\n",
            "\u001b[34m\u001b[1mwandb\u001b[0m: \tepochs: 10\n",
            "\u001b[34m\u001b[1mwandb\u001b[0m: \thidden_nodes: 64\n",
            "\u001b[34m\u001b[1mwandb\u001b[0m: \timg_size: 16\n",
            "\u001b[34m\u001b[1mwandb\u001b[0m: \tlearning_rate: 0.001\n"
          ]
        },
        {
          "data": {
            "text/html": [],
            "text/plain": [
              "<IPython.core.display.HTML object>"
            ]
          },
          "metadata": {},
          "output_type": "display_data"
        },
        {
          "data": {
            "text/html": [
              "Tracking run with wandb version 0.21.4"
            ],
            "text/plain": [
              "<IPython.core.display.HTML object>"
            ]
          },
          "metadata": {},
          "output_type": "display_data"
        },
        {
          "data": {
            "text/html": [
              "Run data is saved locally in <code>/content/wandb/run-20251001_022650-m1dxj9i4</code>"
            ],
            "text/plain": [
              "<IPython.core.display.HTML object>"
            ]
          },
          "metadata": {},
          "output_type": "display_data"
        },
        {
          "data": {
            "text/html": [
              "Syncing run <strong><a href='https://wandb.ai/ayoubaamir0201-ensam-casablanca/5-flowers-classification/runs/m1dxj9i4' target=\"_blank\">genial-sweep-13</a></strong> to <a href='https://wandb.ai/ayoubaamir0201-ensam-casablanca/5-flowers-classification' target=\"_blank\">Weights & Biases</a> (<a href='https://wandb.me/developer-guide' target=\"_blank\">docs</a>)<br>Sweep page: <a href='https://wandb.ai/ayoubaamir0201-ensam-casablanca/5-flowers-classification/sweeps/tard0exk' target=\"_blank\">https://wandb.ai/ayoubaamir0201-ensam-casablanca/5-flowers-classification/sweeps/tard0exk</a>"
            ],
            "text/plain": [
              "<IPython.core.display.HTML object>"
            ]
          },
          "metadata": {},
          "output_type": "display_data"
        },
        {
          "data": {
            "text/html": [
              " View project at <a href='https://wandb.ai/ayoubaamir0201-ensam-casablanca/5-flowers-classification' target=\"_blank\">https://wandb.ai/ayoubaamir0201-ensam-casablanca/5-flowers-classification</a>"
            ],
            "text/plain": [
              "<IPython.core.display.HTML object>"
            ]
          },
          "metadata": {},
          "output_type": "display_data"
        },
        {
          "data": {
            "text/html": [
              " View sweep at <a href='https://wandb.ai/ayoubaamir0201-ensam-casablanca/5-flowers-classification/sweeps/tard0exk' target=\"_blank\">https://wandb.ai/ayoubaamir0201-ensam-casablanca/5-flowers-classification/sweeps/tard0exk</a>"
            ],
            "text/plain": [
              "<IPython.core.display.HTML object>"
            ]
          },
          "metadata": {},
          "output_type": "display_data"
        },
        {
          "data": {
            "text/html": [
              " View run at <a href='https://wandb.ai/ayoubaamir0201-ensam-casablanca/5-flowers-classification/runs/m1dxj9i4' target=\"_blank\">https://wandb.ai/ayoubaamir0201-ensam-casablanca/5-flowers-classification/runs/m1dxj9i4</a>"
            ],
            "text/plain": [
              "<IPython.core.display.HTML object>"
            ]
          },
          "metadata": {},
          "output_type": "display_data"
        },
        {
          "metadata": {
            "tags": null
          },
          "name": "stdout",
          "output_type": "stream",
          "text": [
            "Epoch 1/10\n",
            "\u001b[1m413/413\u001b[0m \u001b[32m━━━━━━━━━━━━━━━━━━━━\u001b[0m\u001b[37m\u001b[0m \u001b[1m114s\u001b[0m 275ms/step - accuracy: 0.3527 - loss: 1.4878 - val_accuracy: 0.4459 - val_loss: 1.2609\n",
            "Epoch 2/10\n",
            "\u001b[1m413/413\u001b[0m \u001b[32m━━━━━━━━━━━━━━━━━━━━\u001b[0m\u001b[37m\u001b[0m \u001b[1m143s\u001b[0m 345ms/step - accuracy: 0.4279 - loss: 1.2680 - val_accuracy: 0.4568 - val_loss: 1.2160\n",
            "Epoch 3/10\n",
            "\u001b[1m413/413\u001b[0m \u001b[32m━━━━━━━━━━━━━━━━━━━━\u001b[0m\u001b[37m\u001b[0m \u001b[1m114s\u001b[0m 276ms/step - accuracy: 0.4632 - loss: 1.2152 - val_accuracy: 0.4622 - val_loss: 1.2161\n",
            "Epoch 4/10\n",
            "\u001b[1m413/413\u001b[0m \u001b[32m━━━━━━━━━━━━━━━━━━━━\u001b[0m\u001b[37m\u001b[0m \u001b[1m118s\u001b[0m 285ms/step - accuracy: 0.4836 - loss: 1.1755 - val_accuracy: 0.4703 - val_loss: 1.2125\n",
            "Epoch 5/10\n",
            "\u001b[1m413/413\u001b[0m \u001b[32m━━━━━━━━━━━━━━━━━━━━\u001b[0m\u001b[37m\u001b[0m \u001b[1m121s\u001b[0m 293ms/step - accuracy: 0.5152 - loss: 1.1417 - val_accuracy: 0.4946 - val_loss: 1.2201\n",
            "Epoch 6/10\n",
            "\u001b[1m413/413\u001b[0m \u001b[32m━━━━━━━━━━━━━━━━━━━━\u001b[0m\u001b[37m\u001b[0m \u001b[1m109s\u001b[0m 264ms/step - accuracy: 0.5327 - loss: 1.1137 - val_accuracy: 0.4973 - val_loss: 1.2114\n",
            "Epoch 7/10\n",
            "\u001b[1m413/413\u001b[0m \u001b[32m━━━━━━━━━━━━━━━━━━━━\u001b[0m\u001b[37m\u001b[0m \u001b[1m143s\u001b[0m 347ms/step - accuracy: 0.5458 - loss: 1.0754 - val_accuracy: 0.4892 - val_loss: 1.2171\n",
            "Epoch 8/10\n",
            "\u001b[1m413/413\u001b[0m \u001b[32m━━━━━━━━━━━━━━━━━━━━\u001b[0m\u001b[37m\u001b[0m \u001b[1m112s\u001b[0m 271ms/step - accuracy: 0.5721 - loss: 1.0414 - val_accuracy: 0.4892 - val_loss: 1.2264\n",
            "Epoch 9/10\n",
            "\u001b[1m413/413\u001b[0m \u001b[32m━━━━━━━━━━━━━━━━━━━━\u001b[0m\u001b[37m\u001b[0m \u001b[1m200s\u001b[0m 413ms/step - accuracy: 0.5793 - loss: 1.0214 - val_accuracy: 0.4919 - val_loss: 1.2345\n",
            "Epoch 10/10\n",
            "\u001b[1m413/413\u001b[0m \u001b[32m━━━━━━━━━━━━━━━━━━━━\u001b[0m\u001b[37m\u001b[0m \u001b[1m116s\u001b[0m 280ms/step - accuracy: 0.5977 - loss: 0.9829 - val_accuracy: 0.4919 - val_loss: 1.2456\n"
          ]
        },
        {
          "data": {
            "text/html": [],
            "text/plain": [
              "<IPython.core.display.HTML object>"
            ]
          },
          "metadata": {},
          "output_type": "display_data"
        },
        {
          "data": {
            "text/html": [
              "<br>    <style><br>        .wandb-row {<br>            display: flex;<br>            flex-direction: row;<br>            flex-wrap: wrap;<br>            justify-content: flex-start;<br>            width: 100%;<br>        }<br>        .wandb-col {<br>            display: flex;<br>            flex-direction: column;<br>            flex-basis: 100%;<br>            flex: 1;<br>            padding: 10px;<br>        }<br>    </style><br><div class=\"wandb-row\"><div class=\"wandb-col\"><h3>Run history:</h3><br/><table class=\"wandb\"><tr><td>batch/accuracy</td><td>▁▁▂▂▂▃▄▄▅▃▅▅▅▅▃▅▅▅▅▅▆▅▇▇▆▇▇▇▇▇████▇▇████</td></tr><tr><td>batch/batch_step</td><td>▁▁▁▁▁▂▂▂▂▂▂▂▃▃▃▃▃▃▄▄▄▅▅▅▅▅▆▆▆▆▆▆▆▆▇▇▇▇▇█</td></tr><tr><td>batch/learning_rate</td><td>▁▁▁▁▁▁▁▁▁▁▁▁▁▁▁▁▁▁▁▁▁▁▁▁▁▁▁▁▁▁▁▁▁▁▁▁▁▁▁▁</td></tr><tr><td>batch/loss</td><td>██▇▆▆▄▄▄▃▃▃▃▃▃▃▂▂▂▃▃▂▂▂▂▂▂▂▂▂▂▁▁▁▂▂▁▁▁▁▁</td></tr><tr><td>epoch/accuracy</td><td>▁▃▄▅▅▆▆▇▇█</td></tr><tr><td>epoch/epoch</td><td>▁▂▃▃▄▅▆▆▇█</td></tr><tr><td>epoch/learning_rate</td><td>▁▁▁▁▁▁▁▁▁▁</td></tr><tr><td>epoch/loss</td><td>█▆▅▄▄▃▃▂▂▁</td></tr><tr><td>epoch/val_accuracy</td><td>▁▂▃▄██▇▇▇▇</td></tr><tr><td>epoch/val_loss</td><td>█▂▂▁▂▁▂▃▄▆</td></tr></table><br/></div><div class=\"wandb-col\"><h3>Run summary:</h3><br/><table class=\"wandb\"><tr><td>batch/accuracy</td><td>0.60827</td></tr><tr><td>batch/batch_step</td><td>4145</td></tr><tr><td>batch/learning_rate</td><td>0.001</td></tr><tr><td>batch/loss</td><td>0.97629</td></tr><tr><td>epoch/accuracy</td><td>0.60727</td></tr><tr><td>epoch/epoch</td><td>9</td></tr><tr><td>epoch/learning_rate</td><td>0.001</td></tr><tr><td>epoch/loss</td><td>0.977</td></tr><tr><td>epoch/val_accuracy</td><td>0.49189</td></tr><tr><td>epoch/val_loss</td><td>1.24558</td></tr></table><br/></div></div>"
            ],
            "text/plain": [
              "<IPython.core.display.HTML object>"
            ]
          },
          "metadata": {},
          "output_type": "display_data"
        },
        {
          "data": {
            "text/html": [
              " View run <strong style=\"color:#cdcd00\">genial-sweep-13</strong> at: <a href='https://wandb.ai/ayoubaamir0201-ensam-casablanca/5-flowers-classification/runs/m1dxj9i4' target=\"_blank\">https://wandb.ai/ayoubaamir0201-ensam-casablanca/5-flowers-classification/runs/m1dxj9i4</a><br> View project at: <a href='https://wandb.ai/ayoubaamir0201-ensam-casablanca/5-flowers-classification' target=\"_blank\">https://wandb.ai/ayoubaamir0201-ensam-casablanca/5-flowers-classification</a><br>Synced 5 W&B file(s), 0 media file(s), 0 artifact file(s) and 0 other file(s)"
            ],
            "text/plain": [
              "<IPython.core.display.HTML object>"
            ]
          },
          "metadata": {},
          "output_type": "display_data"
        },
        {
          "data": {
            "text/html": [
              "Find logs at: <code>./wandb/run-20251001_022650-m1dxj9i4/logs</code>"
            ],
            "text/plain": [
              "<IPython.core.display.HTML object>"
            ]
          },
          "metadata": {},
          "output_type": "display_data"
        },
        {
          "metadata": {
            "tags": null
          },
          "name": "stderr",
          "output_type": "stream",
          "text": [
            "\u001b[34m\u001b[1mwandb\u001b[0m: Agent Starting Run: hvecgbiq with config:\n",
            "\u001b[34m\u001b[1mwandb\u001b[0m: \tbatch_size: 8\n",
            "\u001b[34m\u001b[1mwandb\u001b[0m: \tepochs: 10\n",
            "\u001b[34m\u001b[1mwandb\u001b[0m: \thidden_nodes: 64\n",
            "\u001b[34m\u001b[1mwandb\u001b[0m: \timg_size: 16\n",
            "\u001b[34m\u001b[1mwandb\u001b[0m: \tlearning_rate: 0.0001\n"
          ]
        },
        {
          "data": {
            "text/html": [],
            "text/plain": [
              "<IPython.core.display.HTML object>"
            ]
          },
          "metadata": {},
          "output_type": "display_data"
        },
        {
          "data": {
            "text/html": [
              "Tracking run with wandb version 0.21.4"
            ],
            "text/plain": [
              "<IPython.core.display.HTML object>"
            ]
          },
          "metadata": {},
          "output_type": "display_data"
        },
        {
          "data": {
            "text/html": [
              "Run data is saved locally in <code>/content/wandb/run-20251001_024824-hvecgbiq</code>"
            ],
            "text/plain": [
              "<IPython.core.display.HTML object>"
            ]
          },
          "metadata": {},
          "output_type": "display_data"
        },
        {
          "data": {
            "text/html": [
              "Syncing run <strong><a href='https://wandb.ai/ayoubaamir0201-ensam-casablanca/5-flowers-classification/runs/hvecgbiq' target=\"_blank\">honest-sweep-14</a></strong> to <a href='https://wandb.ai/ayoubaamir0201-ensam-casablanca/5-flowers-classification' target=\"_blank\">Weights & Biases</a> (<a href='https://wandb.me/developer-guide' target=\"_blank\">docs</a>)<br>Sweep page: <a href='https://wandb.ai/ayoubaamir0201-ensam-casablanca/5-flowers-classification/sweeps/tard0exk' target=\"_blank\">https://wandb.ai/ayoubaamir0201-ensam-casablanca/5-flowers-classification/sweeps/tard0exk</a>"
            ],
            "text/plain": [
              "<IPython.core.display.HTML object>"
            ]
          },
          "metadata": {},
          "output_type": "display_data"
        },
        {
          "data": {
            "text/html": [
              " View project at <a href='https://wandb.ai/ayoubaamir0201-ensam-casablanca/5-flowers-classification' target=\"_blank\">https://wandb.ai/ayoubaamir0201-ensam-casablanca/5-flowers-classification</a>"
            ],
            "text/plain": [
              "<IPython.core.display.HTML object>"
            ]
          },
          "metadata": {},
          "output_type": "display_data"
        },
        {
          "data": {
            "text/html": [
              " View sweep at <a href='https://wandb.ai/ayoubaamir0201-ensam-casablanca/5-flowers-classification/sweeps/tard0exk' target=\"_blank\">https://wandb.ai/ayoubaamir0201-ensam-casablanca/5-flowers-classification/sweeps/tard0exk</a>"
            ],
            "text/plain": [
              "<IPython.core.display.HTML object>"
            ]
          },
          "metadata": {},
          "output_type": "display_data"
        },
        {
          "data": {
            "text/html": [
              " View run at <a href='https://wandb.ai/ayoubaamir0201-ensam-casablanca/5-flowers-classification/runs/hvecgbiq' target=\"_blank\">https://wandb.ai/ayoubaamir0201-ensam-casablanca/5-flowers-classification/runs/hvecgbiq</a>"
            ],
            "text/plain": [
              "<IPython.core.display.HTML object>"
            ]
          },
          "metadata": {},
          "output_type": "display_data"
        },
        {
          "metadata": {
            "tags": null
          },
          "name": "stdout",
          "output_type": "stream",
          "text": [
            "Epoch 1/10\n",
            "\u001b[1m413/413\u001b[0m \u001b[32m━━━━━━━━━━━━━━━━━━━━\u001b[0m\u001b[37m\u001b[0m \u001b[1m115s\u001b[0m 277ms/step - accuracy: 0.3261 - loss: 1.5098 - val_accuracy: 0.4541 - val_loss: 1.2743\n",
            "Epoch 2/10\n",
            "\u001b[1m413/413\u001b[0m \u001b[32m━━━━━━━━━━━━━━━━━━━━\u001b[0m\u001b[37m\u001b[0m \u001b[1m142s\u001b[0m 344ms/step - accuracy: 0.4488 - loss: 1.2721 - val_accuracy: 0.4757 - val_loss: 1.2268\n",
            "Epoch 3/10\n",
            "\u001b[1m413/413\u001b[0m \u001b[32m━━━━━━━━━━━━━━━━━━━━\u001b[0m\u001b[37m\u001b[0m \u001b[1m202s\u001b[0m 345ms/step - accuracy: 0.4740 - loss: 1.2155 - val_accuracy: 0.4649 - val_loss: 1.2332\n",
            "Epoch 4/10\n",
            "\u001b[1m413/413\u001b[0m \u001b[32m━━━━━━━━━━━━━━━━━━━━\u001b[0m\u001b[37m\u001b[0m \u001b[1m201s\u001b[0m 343ms/step - accuracy: 0.4909 - loss: 1.1812 - val_accuracy: 0.4730 - val_loss: 1.2085\n",
            "Epoch 5/10\n",
            "\u001b[1m413/413\u001b[0m \u001b[32m━━━━━━━━━━━━━━━━━━━━\u001b[0m\u001b[37m\u001b[0m \u001b[1m119s\u001b[0m 287ms/step - accuracy: 0.5271 - loss: 1.1329 - val_accuracy: 0.4892 - val_loss: 1.1972\n",
            "Epoch 6/10\n",
            "\u001b[1m413/413\u001b[0m \u001b[32m━━━━━━━━━━━━━━━━━━━━\u001b[0m\u001b[37m\u001b[0m \u001b[1m115s\u001b[0m 279ms/step - accuracy: 0.5441 - loss: 1.0966 - val_accuracy: 0.4892 - val_loss: 1.1947\n",
            "Epoch 7/10\n",
            "\u001b[1m413/413\u001b[0m \u001b[32m━━━━━━━━━━━━━━━━━━━━\u001b[0m\u001b[37m\u001b[0m \u001b[1m120s\u001b[0m 292ms/step - accuracy: 0.5713 - loss: 1.0658 - val_accuracy: 0.4946 - val_loss: 1.1883\n",
            "Epoch 8/10\n",
            "\u001b[1m413/413\u001b[0m \u001b[32m━━━━━━━━━━━━━━━━━━━━\u001b[0m\u001b[37m\u001b[0m \u001b[1m143s\u001b[0m 347ms/step - accuracy: 0.5860 - loss: 1.0351 - val_accuracy: 0.4784 - val_loss: 1.2137\n",
            "Epoch 9/10\n",
            "\u001b[1m413/413\u001b[0m \u001b[32m━━━━━━━━━━━━━━━━━━━━\u001b[0m\u001b[37m\u001b[0m \u001b[1m142s\u001b[0m 344ms/step - accuracy: 0.5978 - loss: 1.0085 - val_accuracy: 0.4676 - val_loss: 1.2191\n",
            "Epoch 10/10\n",
            "\u001b[1m413/413\u001b[0m \u001b[32m━━━━━━━━━━━━━━━━━━━━\u001b[0m\u001b[37m\u001b[0m \u001b[1m143s\u001b[0m 345ms/step - accuracy: 0.6100 - loss: 0.9704 - val_accuracy: 0.5054 - val_loss: 1.2303\n"
          ]
        },
        {
          "data": {
            "text/html": [],
            "text/plain": [
              "<IPython.core.display.HTML object>"
            ]
          },
          "metadata": {},
          "output_type": "display_data"
        },
        {
          "data": {
            "text/html": [
              "<br>    <style><br>        .wandb-row {<br>            display: flex;<br>            flex-direction: row;<br>            flex-wrap: wrap;<br>            justify-content: flex-start;<br>            width: 100%;<br>        }<br>        .wandb-col {<br>            display: flex;<br>            flex-direction: column;<br>            flex-basis: 100%;<br>            flex: 1;<br>            padding: 10px;<br>        }<br>    </style><br><div class=\"wandb-row\"><div class=\"wandb-col\"><h3>Run history:</h3><br/><table class=\"wandb\"><tr><td>batch/accuracy</td><td>▁▂▂▃▃▃▃▃▃▃▃▃▃▅▃▃▄▄▄▄▄▄▄▅▄█▅▅▅▅▅▅▅▅▅▅▅▆▆▆</td></tr><tr><td>batch/batch_step</td><td>▁▁▁▂▂▂▂▂▂▂▃▃▃▃▃▃▃▃▄▄▄▄▄▄▅▅▅▅▅▆▆▆▆▆▆▆▆▇▇█</td></tr><tr><td>batch/learning_rate</td><td>▁▁▁▁▁▁▁▁▁▁▁▁▁▁▁▁▁▁▁▁▁▁▁▁▁▁▁▁▁▁▁▁▁▁▁▁▁▁▁▁</td></tr><tr><td>batch/loss</td><td>█▇▄▄▄▄▄▄▂▃▃▃▃▃▃▃▃▃▂▂▂▂▂▂▂▂▂▂▂▂▂▁▁▁▁▁▁▂▂▁</td></tr><tr><td>epoch/accuracy</td><td>▁▃▄▅▆▆▇▇██</td></tr><tr><td>epoch/epoch</td><td>▁▂▃▃▄▅▆▆▇█</td></tr><tr><td>epoch/learning_rate</td><td>▁▁▁▁▁▁▁▁▁▁</td></tr><tr><td>epoch/loss</td><td>█▆▅▄▄▃▂▂▂▁</td></tr><tr><td>epoch/val_accuracy</td><td>▁▄▂▄▆▆▇▄▃█</td></tr><tr><td>epoch/val_loss</td><td>█▄▅▃▂▂▁▃▄▄</td></tr></table><br/></div><div class=\"wandb-col\"><h3>Run summary:</h3><br/><table class=\"wandb\"><tr><td>batch/accuracy</td><td>0.618</td></tr><tr><td>batch/batch_step</td><td>4145</td></tr><tr><td>batch/learning_rate</td><td>0.001</td></tr><tr><td>batch/loss</td><td>0.96236</td></tr><tr><td>epoch/accuracy</td><td>0.61788</td></tr><tr><td>epoch/epoch</td><td>9</td></tr><tr><td>epoch/learning_rate</td><td>0.001</td></tr><tr><td>epoch/loss</td><td>0.96306</td></tr><tr><td>epoch/val_accuracy</td><td>0.50541</td></tr><tr><td>epoch/val_loss</td><td>1.23026</td></tr></table><br/></div></div>"
            ],
            "text/plain": [
              "<IPython.core.display.HTML object>"
            ]
          },
          "metadata": {},
          "output_type": "display_data"
        },
        {
          "data": {
            "text/html": [
              " View run <strong style=\"color:#cdcd00\">honest-sweep-14</strong> at: <a href='https://wandb.ai/ayoubaamir0201-ensam-casablanca/5-flowers-classification/runs/hvecgbiq' target=\"_blank\">https://wandb.ai/ayoubaamir0201-ensam-casablanca/5-flowers-classification/runs/hvecgbiq</a><br> View project at: <a href='https://wandb.ai/ayoubaamir0201-ensam-casablanca/5-flowers-classification' target=\"_blank\">https://wandb.ai/ayoubaamir0201-ensam-casablanca/5-flowers-classification</a><br>Synced 5 W&B file(s), 0 media file(s), 0 artifact file(s) and 0 other file(s)"
            ],
            "text/plain": [
              "<IPython.core.display.HTML object>"
            ]
          },
          "metadata": {},
          "output_type": "display_data"
        },
        {
          "data": {
            "text/html": [
              "Find logs at: <code>./wandb/run-20251001_024824-hvecgbiq/logs</code>"
            ],
            "text/plain": [
              "<IPython.core.display.HTML object>"
            ]
          },
          "metadata": {},
          "output_type": "display_data"
        },
        {
          "metadata": {
            "tags": null
          },
          "name": "stderr",
          "output_type": "stream",
          "text": [
            "\u001b[34m\u001b[1mwandb\u001b[0m: Agent Starting Run: 8h6iag47 with config:\n",
            "\u001b[34m\u001b[1mwandb\u001b[0m: \tbatch_size: 8\n",
            "\u001b[34m\u001b[1mwandb\u001b[0m: \tepochs: 10\n",
            "\u001b[34m\u001b[1mwandb\u001b[0m: \thidden_nodes: 64\n",
            "\u001b[34m\u001b[1mwandb\u001b[0m: \timg_size: 224\n",
            "\u001b[34m\u001b[1mwandb\u001b[0m: \tlearning_rate: 0.001\n"
          ]
        },
        {
          "data": {
            "text/html": [],
            "text/plain": [
              "<IPython.core.display.HTML object>"
            ]
          },
          "metadata": {},
          "output_type": "display_data"
        },
        {
          "data": {
            "text/html": [
              "Tracking run with wandb version 0.21.4"
            ],
            "text/plain": [
              "<IPython.core.display.HTML object>"
            ]
          },
          "metadata": {},
          "output_type": "display_data"
        },
        {
          "data": {
            "text/html": [
              "Run data is saved locally in <code>/content/wandb/run-20251001_031231-8h6iag47</code>"
            ],
            "text/plain": [
              "<IPython.core.display.HTML object>"
            ]
          },
          "metadata": {},
          "output_type": "display_data"
        },
        {
          "data": {
            "text/html": [
              "Syncing run <strong><a href='https://wandb.ai/ayoubaamir0201-ensam-casablanca/5-flowers-classification/runs/8h6iag47' target=\"_blank\">ethereal-sweep-15</a></strong> to <a href='https://wandb.ai/ayoubaamir0201-ensam-casablanca/5-flowers-classification' target=\"_blank\">Weights & Biases</a> (<a href='https://wandb.me/developer-guide' target=\"_blank\">docs</a>)<br>Sweep page: <a href='https://wandb.ai/ayoubaamir0201-ensam-casablanca/5-flowers-classification/sweeps/tard0exk' target=\"_blank\">https://wandb.ai/ayoubaamir0201-ensam-casablanca/5-flowers-classification/sweeps/tard0exk</a>"
            ],
            "text/plain": [
              "<IPython.core.display.HTML object>"
            ]
          },
          "metadata": {},
          "output_type": "display_data"
        },
        {
          "data": {
            "text/html": [
              " View project at <a href='https://wandb.ai/ayoubaamir0201-ensam-casablanca/5-flowers-classification' target=\"_blank\">https://wandb.ai/ayoubaamir0201-ensam-casablanca/5-flowers-classification</a>"
            ],
            "text/plain": [
              "<IPython.core.display.HTML object>"
            ]
          },
          "metadata": {},
          "output_type": "display_data"
        },
        {
          "data": {
            "text/html": [
              " View sweep at <a href='https://wandb.ai/ayoubaamir0201-ensam-casablanca/5-flowers-classification/sweeps/tard0exk' target=\"_blank\">https://wandb.ai/ayoubaamir0201-ensam-casablanca/5-flowers-classification/sweeps/tard0exk</a>"
            ],
            "text/plain": [
              "<IPython.core.display.HTML object>"
            ]
          },
          "metadata": {},
          "output_type": "display_data"
        },
        {
          "data": {
            "text/html": [
              " View run at <a href='https://wandb.ai/ayoubaamir0201-ensam-casablanca/5-flowers-classification/runs/8h6iag47' target=\"_blank\">https://wandb.ai/ayoubaamir0201-ensam-casablanca/5-flowers-classification/runs/8h6iag47</a>"
            ],
            "text/plain": [
              "<IPython.core.display.HTML object>"
            ]
          },
          "metadata": {},
          "output_type": "display_data"
        },
        {
          "metadata": {
            "tags": null
          },
          "name": "stdout",
          "output_type": "stream",
          "text": [
            "Epoch 1/10\n",
            "\u001b[1m413/413\u001b[0m \u001b[32m━━━━━━━━━━━━━━━━━━━━\u001b[0m\u001b[37m\u001b[0m \u001b[1m168s\u001b[0m 404ms/step - accuracy: 0.2535 - loss: 8.4198 - val_accuracy: 0.2378 - val_loss: 1.6084\n",
            "Epoch 2/10\n",
            "\u001b[1m413/413\u001b[0m \u001b[32m━━━━━━━━━━━━━━━━━━━━\u001b[0m\u001b[37m\u001b[0m \u001b[1m171s\u001b[0m 413ms/step - accuracy: 0.2438 - loss: 1.6039 - val_accuracy: 0.2351 - val_loss: 1.6007\n",
            "Epoch 3/10\n",
            "\u001b[1m413/413\u001b[0m \u001b[32m━━━━━━━━━━━━━━━━━━━━\u001b[0m\u001b[37m\u001b[0m \u001b[1m156s\u001b[0m 377ms/step - accuracy: 0.2621 - loss: 1.5787 - val_accuracy: 0.2378 - val_loss: 1.6040\n",
            "Epoch 4/10\n",
            "\u001b[1m413/413\u001b[0m \u001b[32m━━━━━━━━━━━━━━━━━━━━\u001b[0m\u001b[37m\u001b[0m \u001b[1m164s\u001b[0m 396ms/step - accuracy: 0.2523 - loss: 1.5882 - val_accuracy: 0.2919 - val_loss: 1.5436\n",
            "Epoch 5/10\n",
            "\u001b[1m413/413\u001b[0m \u001b[32m━━━━━━━━━━━━━━━━━━━━\u001b[0m\u001b[37m\u001b[0m \u001b[1m202s\u001b[0m 396ms/step - accuracy: 0.2617 - loss: 1.5835 - val_accuracy: 0.2378 - val_loss: 1.6039\n",
            "Epoch 6/10\n",
            "\u001b[1m413/413\u001b[0m \u001b[32m━━━━━━━━━━━━━━━━━━━━\u001b[0m\u001b[37m\u001b[0m \u001b[1m196s\u001b[0m 475ms/step - accuracy: 0.2585 - loss: 1.5792 - val_accuracy: 0.2378 - val_loss: 1.6044\n",
            "Epoch 7/10\n",
            "\u001b[1m413/413\u001b[0m \u001b[32m━━━━━━━━━━━━━━━━━━━━\u001b[0m\u001b[37m\u001b[0m \u001b[1m262s\u001b[0m 633ms/step - accuracy: 0.2703 - loss: 1.5693 - val_accuracy: 0.2568 - val_loss: 1.5783\n",
            "Epoch 8/10\n",
            "\u001b[1m413/413\u001b[0m \u001b[32m━━━━━━━━━━━━━━━━━━━━\u001b[0m\u001b[37m\u001b[0m \u001b[1m202s\u001b[0m 489ms/step - accuracy: 0.2893 - loss: 1.5471 - val_accuracy: 0.3054 - val_loss: 1.8976\n",
            "Epoch 9/10\n",
            "\u001b[1m413/413\u001b[0m \u001b[32m━━━━━━━━━━━━━━━━━━━━\u001b[0m\u001b[37m\u001b[0m \u001b[1m262s\u001b[0m 490ms/step - accuracy: 0.2656 - loss: 1.5709 - val_accuracy: 0.2973 - val_loss: 1.6905\n",
            "Epoch 10/10\n",
            "\u001b[1m413/413\u001b[0m \u001b[32m━━━━━━━━━━━━━━━━━━━━\u001b[0m\u001b[37m\u001b[0m \u001b[1m201s\u001b[0m 486ms/step - accuracy: 0.2589 - loss: 1.5843 - val_accuracy: 0.3216 - val_loss: 1.5415\n"
          ]
        },
        {
          "data": {
            "text/html": [],
            "text/plain": [
              "<IPython.core.display.HTML object>"
            ]
          },
          "metadata": {},
          "output_type": "display_data"
        },
        {
          "data": {
            "text/html": [
              "<br>    <style><br>        .wandb-row {<br>            display: flex;<br>            flex-direction: row;<br>            flex-wrap: wrap;<br>            justify-content: flex-start;<br>            width: 100%;<br>        }<br>        .wandb-col {<br>            display: flex;<br>            flex-direction: column;<br>            flex-basis: 100%;<br>            flex: 1;<br>            padding: 10px;<br>        }<br>    </style><br><div class=\"wandb-row\"><div class=\"wandb-col\"><h3>Run history:</h3><br/><table class=\"wandb\"><tr><td>batch/accuracy</td><td>▃▁▁▁▂▂▃▃▃▂▄▃▃▄▄▂▃▃▄▂▂▃▃▃█▃▃▃▃▃▅▅▅▂▄▂▂▂▃▄</td></tr><tr><td>batch/batch_step</td><td>▁▁▂▂▂▂▂▂▂▂▃▃▃▃▃▃▄▄▄▄▄▄▄▅▅▅▅▅▅▆▆▆▆▆▆▇▇▇██</td></tr><tr><td>batch/learning_rate</td><td>▁▁▁▁▁▁▁▁▁▁▁▁▁▁▁▁▁▁▁▁▁▁▁▁▁▁▁▁▁▁▁▁▁▁▁▁▁▁▁▁</td></tr><tr><td>batch/loss</td><td>█▆▅▄▄▁▁▁▁▁▁▁▁▁▁▁▁▁▁▁▁▁▁▁▁▁▁▁▁▁▁▁▁▁▁▁▁▁▁▁</td></tr><tr><td>epoch/accuracy</td><td>▁▁▃▅▃▄▇█▇▅</td></tr><tr><td>epoch/epoch</td><td>▁▂▃▃▄▅▆▆▇█</td></tr><tr><td>epoch/learning_rate</td><td>▁▁▁▁▁▁▁▁▁▁</td></tr><tr><td>epoch/loss</td><td>█▁▁▁▁▁▁▁▁▁</td></tr><tr><td>epoch/val_accuracy</td><td>▁▁▁▆▁▁▃▇▆█</td></tr><tr><td>epoch/val_loss</td><td>▂▂▂▁▂▂▂█▄▁</td></tr></table><br/></div><div class=\"wandb-col\"><h3>Run summary:</h3><br/><table class=\"wandb\"><tr><td>batch/accuracy</td><td>0.2792</td></tr><tr><td>batch/batch_step</td><td>4145</td></tr><tr><td>batch/learning_rate</td><td>0.001</td></tr><tr><td>batch/loss</td><td>1.54849</td></tr><tr><td>epoch/accuracy</td><td>0.27939</td></tr><tr><td>epoch/epoch</td><td>9</td></tr><tr><td>epoch/learning_rate</td><td>0.001</td></tr><tr><td>epoch/loss</td><td>1.54842</td></tr><tr><td>epoch/val_accuracy</td><td>0.32162</td></tr><tr><td>epoch/val_loss</td><td>1.5415</td></tr></table><br/></div></div>"
            ],
            "text/plain": [
              "<IPython.core.display.HTML object>"
            ]
          },
          "metadata": {},
          "output_type": "display_data"
        },
        {
          "data": {
            "text/html": [
              " View run <strong style=\"color:#cdcd00\">ethereal-sweep-15</strong> at: <a href='https://wandb.ai/ayoubaamir0201-ensam-casablanca/5-flowers-classification/runs/8h6iag47' target=\"_blank\">https://wandb.ai/ayoubaamir0201-ensam-casablanca/5-flowers-classification/runs/8h6iag47</a><br> View project at: <a href='https://wandb.ai/ayoubaamir0201-ensam-casablanca/5-flowers-classification' target=\"_blank\">https://wandb.ai/ayoubaamir0201-ensam-casablanca/5-flowers-classification</a><br>Synced 5 W&B file(s), 0 media file(s), 0 artifact file(s) and 0 other file(s)"
            ],
            "text/plain": [
              "<IPython.core.display.HTML object>"
            ]
          },
          "metadata": {},
          "output_type": "display_data"
        },
        {
          "data": {
            "text/html": [
              "Find logs at: <code>./wandb/run-20251001_031231-8h6iag47/logs</code>"
            ],
            "text/plain": [
              "<IPython.core.display.HTML object>"
            ]
          },
          "metadata": {},
          "output_type": "display_data"
        },
        {
          "metadata": {
            "tags": null
          },
          "name": "stderr",
          "output_type": "stream",
          "text": [
            "\u001b[34m\u001b[1mwandb\u001b[0m: Agent Starting Run: 4cb8h5wo with config:\n",
            "\u001b[34m\u001b[1mwandb\u001b[0m: \tbatch_size: 8\n",
            "\u001b[34m\u001b[1mwandb\u001b[0m: \tepochs: 10\n",
            "\u001b[34m\u001b[1mwandb\u001b[0m: \thidden_nodes: 64\n",
            "\u001b[34m\u001b[1mwandb\u001b[0m: \timg_size: 224\n",
            "\u001b[34m\u001b[1mwandb\u001b[0m: \tlearning_rate: 0.0001\n"
          ]
        },
        {
          "data": {
            "text/html": [],
            "text/plain": [
              "<IPython.core.display.HTML object>"
            ]
          },
          "metadata": {},
          "output_type": "display_data"
        },
        {
          "data": {
            "text/html": [
              "Tracking run with wandb version 0.21.4"
            ],
            "text/plain": [
              "<IPython.core.display.HTML object>"
            ]
          },
          "metadata": {},
          "output_type": "display_data"
        },
        {
          "data": {
            "text/html": [
              "Run data is saved locally in <code>/content/wandb/run-20251001_034540-4cb8h5wo</code>"
            ],
            "text/plain": [
              "<IPython.core.display.HTML object>"
            ]
          },
          "metadata": {},
          "output_type": "display_data"
        },
        {
          "data": {
            "text/html": [
              "Syncing run <strong><a href='https://wandb.ai/ayoubaamir0201-ensam-casablanca/5-flowers-classification/runs/4cb8h5wo' target=\"_blank\">toasty-sweep-16</a></strong> to <a href='https://wandb.ai/ayoubaamir0201-ensam-casablanca/5-flowers-classification' target=\"_blank\">Weights & Biases</a> (<a href='https://wandb.me/developer-guide' target=\"_blank\">docs</a>)<br>Sweep page: <a href='https://wandb.ai/ayoubaamir0201-ensam-casablanca/5-flowers-classification/sweeps/tard0exk' target=\"_blank\">https://wandb.ai/ayoubaamir0201-ensam-casablanca/5-flowers-classification/sweeps/tard0exk</a>"
            ],
            "text/plain": [
              "<IPython.core.display.HTML object>"
            ]
          },
          "metadata": {},
          "output_type": "display_data"
        },
        {
          "data": {
            "text/html": [
              " View project at <a href='https://wandb.ai/ayoubaamir0201-ensam-casablanca/5-flowers-classification' target=\"_blank\">https://wandb.ai/ayoubaamir0201-ensam-casablanca/5-flowers-classification</a>"
            ],
            "text/plain": [
              "<IPython.core.display.HTML object>"
            ]
          },
          "metadata": {},
          "output_type": "display_data"
        },
        {
          "data": {
            "text/html": [
              " View sweep at <a href='https://wandb.ai/ayoubaamir0201-ensam-casablanca/5-flowers-classification/sweeps/tard0exk' target=\"_blank\">https://wandb.ai/ayoubaamir0201-ensam-casablanca/5-flowers-classification/sweeps/tard0exk</a>"
            ],
            "text/plain": [
              "<IPython.core.display.HTML object>"
            ]
          },
          "metadata": {},
          "output_type": "display_data"
        },
        {
          "data": {
            "text/html": [
              " View run at <a href='https://wandb.ai/ayoubaamir0201-ensam-casablanca/5-flowers-classification/runs/4cb8h5wo' target=\"_blank\">https://wandb.ai/ayoubaamir0201-ensam-casablanca/5-flowers-classification/runs/4cb8h5wo</a>"
            ],
            "text/plain": [
              "<IPython.core.display.HTML object>"
            ]
          },
          "metadata": {},
          "output_type": "display_data"
        },
        {
          "metadata": {
            "tags": null
          },
          "name": "stdout",
          "output_type": "stream",
          "text": [
            "Epoch 1/10\n",
            "\u001b[1m413/413\u001b[0m \u001b[32m━━━━━━━━━━━━━━━━━━━━\u001b[0m\u001b[37m\u001b[0m \u001b[1m167s\u001b[0m 399ms/step - accuracy: 0.2528 - loss: 10.9764 - val_accuracy: 0.1784 - val_loss: 1.6104\n",
            "Epoch 2/10\n",
            "\u001b[1m413/413\u001b[0m \u001b[32m━━━━━━━━━━━━━━━━━━━━\u001b[0m\u001b[37m\u001b[0m \u001b[1m201s\u001b[0m 486ms/step - accuracy: 0.2310 - loss: 1.6204 - val_accuracy: 0.2351 - val_loss: 1.6146\n",
            "Epoch 3/10\n",
            "\u001b[1m413/413\u001b[0m \u001b[32m━━━━━━━━━━━━━━━━━━━━\u001b[0m\u001b[37m\u001b[0m \u001b[1m201s\u001b[0m 485ms/step - accuracy: 0.2397 - loss: 1.6042 - val_accuracy: 0.2351 - val_loss: 1.6113\n",
            "Epoch 4/10\n",
            "\u001b[1m413/413\u001b[0m \u001b[32m━━━━━━━━━━━━━━━━━━━━\u001b[0m\u001b[37m\u001b[0m \u001b[1m203s\u001b[0m 487ms/step - accuracy: 0.2397 - loss: 1.6017 - val_accuracy: 0.2351 - val_loss: 1.6146\n",
            "Epoch 5/10\n",
            "\u001b[1m413/413\u001b[0m \u001b[32m━━━━━━━━━━━━━━━━━━━━\u001b[0m\u001b[37m\u001b[0m \u001b[1m201s\u001b[0m 487ms/step - accuracy: 0.2397 - loss: 1.5991 - val_accuracy: 0.2351 - val_loss: 1.6095\n",
            "Epoch 6/10\n",
            "\u001b[1m413/413\u001b[0m \u001b[32m━━━━━━━━━━━━━━━━━━━━\u001b[0m\u001b[37m\u001b[0m \u001b[1m155s\u001b[0m 374ms/step - accuracy: 0.2397 - loss: 1.6014 - val_accuracy: 0.2351 - val_loss: 1.6099\n",
            "Epoch 7/10\n",
            "\u001b[1m413/413\u001b[0m \u001b[32m━━━━━━━━━━━━━━━━━━━━\u001b[0m\u001b[37m\u001b[0m \u001b[1m160s\u001b[0m 388ms/step - accuracy: 0.2397 - loss: 1.6015 - val_accuracy: 0.2351 - val_loss: 1.6101\n",
            "Epoch 8/10\n",
            "\u001b[1m413/413\u001b[0m \u001b[32m━━━━━━━━━━━━━━━━━━━━\u001b[0m\u001b[37m\u001b[0m \u001b[1m203s\u001b[0m 490ms/step - accuracy: 0.2397 - loss: 1.6016 - val_accuracy: 0.2351 - val_loss: 1.6103\n",
            "Epoch 9/10\n",
            "\u001b[1m413/413\u001b[0m \u001b[32m━━━━━━━━━━━━━━━━━━━━\u001b[0m\u001b[37m\u001b[0m \u001b[1m261s\u001b[0m 489ms/step - accuracy: 0.2397 - loss: 1.6016 - val_accuracy: 0.2351 - val_loss: 1.6104\n",
            "Epoch 10/10\n",
            "\u001b[1m413/413\u001b[0m \u001b[32m━━━━━━━━━━━━━━━━━━━━\u001b[0m\u001b[37m\u001b[0m \u001b[1m221s\u001b[0m 390ms/step - accuracy: 0.2397 - loss: 1.6017 - val_accuracy: 0.2351 - val_loss: 1.6105\n"
          ]
        },
        {
          "data": {
            "text/html": [],
            "text/plain": [
              "<IPython.core.display.HTML object>"
            ]
          },
          "metadata": {},
          "output_type": "display_data"
        },
        {
          "data": {
            "text/html": [
              "<br>    <style><br>        .wandb-row {<br>            display: flex;<br>            flex-direction: row;<br>            flex-wrap: wrap;<br>            justify-content: flex-start;<br>            width: 100%;<br>        }<br>        .wandb-col {<br>            display: flex;<br>            flex-direction: column;<br>            flex-basis: 100%;<br>            flex: 1;<br>            padding: 10px;<br>        }<br>    </style><br><div class=\"wandb-row\"><div class=\"wandb-col\"><h3>Run history:</h3><br/><table class=\"wandb\"><tr><td>batch/accuracy</td><td>▁█▄▄▄▅▅▆▅▅▆▆▆▅▅▆▆▆▆▅▆▆▆▆▅▆▆▆▄▄▆▄▅▆▆▅▆▆▅▆</td></tr><tr><td>batch/batch_step</td><td>▁▁▁▁▁▂▂▂▃▃▄▄▄▄▄▄▅▅▅▅▅▅▅▅▅▆▆▆▆▆▆▇▇▇▇▇▇███</td></tr><tr><td>batch/learning_rate</td><td>▁▁▁▁▁▁▁▁▁▁▁▁▁▁▁▁▁▁▁▁▁▁▁▁▁▁▁▁▁▁▁▁▁▁▁▁▁▁▁▁</td></tr><tr><td>batch/loss</td><td>█▁▁▁▁▁▁▁▁▁▁▁▁▁▁▁▁▁▁▁▁▁▁▁▁▁▁▁▁▁▁▁▁▁▁▁▁▁▁▁</td></tr><tr><td>epoch/accuracy</td><td>█▁▃▃▃▃▃▃▃▃</td></tr><tr><td>epoch/epoch</td><td>▁▂▃▃▄▅▆▆▇█</td></tr><tr><td>epoch/learning_rate</td><td>▁▁▁▁▁▁▁▁▁▁</td></tr><tr><td>epoch/loss</td><td>█▁▁▁▁▁▁▁▁▁</td></tr><tr><td>epoch/val_accuracy</td><td>▁█████████</td></tr><tr><td>epoch/val_loss</td><td>▂█▃█▁▂▂▂▂▂</td></tr></table><br/></div><div class=\"wandb-col\"><h3>Run summary:</h3><br/><table class=\"wandb\"><tr><td>batch/accuracy</td><td>0.24544</td></tr><tr><td>batch/batch_step</td><td>4145</td></tr><tr><td>batch/learning_rate</td><td>0.001</td></tr><tr><td>batch/loss</td><td>1.59935</td></tr><tr><td>epoch/accuracy</td><td>0.24576</td></tr><tr><td>epoch/epoch</td><td>9</td></tr><tr><td>epoch/learning_rate</td><td>0.001</td></tr><tr><td>epoch/loss</td><td>1.59937</td></tr><tr><td>epoch/val_accuracy</td><td>0.23514</td></tr><tr><td>epoch/val_loss</td><td>1.61049</td></tr></table><br/></div></div>"
            ],
            "text/plain": [
              "<IPython.core.display.HTML object>"
            ]
          },
          "metadata": {},
          "output_type": "display_data"
        },
        {
          "data": {
            "text/html": [
              " View run <strong style=\"color:#cdcd00\">toasty-sweep-16</strong> at: <a href='https://wandb.ai/ayoubaamir0201-ensam-casablanca/5-flowers-classification/runs/4cb8h5wo' target=\"_blank\">https://wandb.ai/ayoubaamir0201-ensam-casablanca/5-flowers-classification/runs/4cb8h5wo</a><br> View project at: <a href='https://wandb.ai/ayoubaamir0201-ensam-casablanca/5-flowers-classification' target=\"_blank\">https://wandb.ai/ayoubaamir0201-ensam-casablanca/5-flowers-classification</a><br>Synced 5 W&B file(s), 0 media file(s), 0 artifact file(s) and 0 other file(s)"
            ],
            "text/plain": [
              "<IPython.core.display.HTML object>"
            ]
          },
          "metadata": {},
          "output_type": "display_data"
        },
        {
          "data": {
            "text/html": [
              "Find logs at: <code>./wandb/run-20251001_034540-4cb8h5wo/logs</code>"
            ],
            "text/plain": [
              "<IPython.core.display.HTML object>"
            ]
          },
          "metadata": {},
          "output_type": "display_data"
        },
        {
          "metadata": {
            "tags": null
          },
          "name": "stderr",
          "output_type": "stream",
          "text": [
            "\u001b[34m\u001b[1mwandb\u001b[0m: Agent Starting Run: g5nd0swa with config:\n",
            "\u001b[34m\u001b[1mwandb\u001b[0m: \tbatch_size: 16\n",
            "\u001b[34m\u001b[1mwandb\u001b[0m: \tepochs: 5\n",
            "\u001b[34m\u001b[1mwandb\u001b[0m: \thidden_nodes: 128\n",
            "\u001b[34m\u001b[1mwandb\u001b[0m: \timg_size: 16\n",
            "\u001b[34m\u001b[1mwandb\u001b[0m: \tlearning_rate: 0.001\n"
          ]
        },
        {
          "data": {
            "text/html": [],
            "text/plain": [
              "<IPython.core.display.HTML object>"
            ]
          },
          "metadata": {},
          "output_type": "display_data"
        },
        {
          "data": {
            "text/html": [
              "Tracking run with wandb version 0.21.4"
            ],
            "text/plain": [
              "<IPython.core.display.HTML object>"
            ]
          },
          "metadata": {},
          "output_type": "display_data"
        },
        {
          "data": {
            "text/html": [
              "Run data is saved locally in <code>/content/wandb/run-20251001_041838-g5nd0swa</code>"
            ],
            "text/plain": [
              "<IPython.core.display.HTML object>"
            ]
          },
          "metadata": {},
          "output_type": "display_data"
        },
        {
          "data": {
            "text/html": [
              "Syncing run <strong><a href='https://wandb.ai/ayoubaamir0201-ensam-casablanca/5-flowers-classification/runs/g5nd0swa' target=\"_blank\">stellar-sweep-17</a></strong> to <a href='https://wandb.ai/ayoubaamir0201-ensam-casablanca/5-flowers-classification' target=\"_blank\">Weights & Biases</a> (<a href='https://wandb.me/developer-guide' target=\"_blank\">docs</a>)<br>Sweep page: <a href='https://wandb.ai/ayoubaamir0201-ensam-casablanca/5-flowers-classification/sweeps/tard0exk' target=\"_blank\">https://wandb.ai/ayoubaamir0201-ensam-casablanca/5-flowers-classification/sweeps/tard0exk</a>"
            ],
            "text/plain": [
              "<IPython.core.display.HTML object>"
            ]
          },
          "metadata": {},
          "output_type": "display_data"
        },
        {
          "data": {
            "text/html": [
              " View project at <a href='https://wandb.ai/ayoubaamir0201-ensam-casablanca/5-flowers-classification' target=\"_blank\">https://wandb.ai/ayoubaamir0201-ensam-casablanca/5-flowers-classification</a>"
            ],
            "text/plain": [
              "<IPython.core.display.HTML object>"
            ]
          },
          "metadata": {},
          "output_type": "display_data"
        },
        {
          "data": {
            "text/html": [
              " View sweep at <a href='https://wandb.ai/ayoubaamir0201-ensam-casablanca/5-flowers-classification/sweeps/tard0exk' target=\"_blank\">https://wandb.ai/ayoubaamir0201-ensam-casablanca/5-flowers-classification/sweeps/tard0exk</a>"
            ],
            "text/plain": [
              "<IPython.core.display.HTML object>"
            ]
          },
          "metadata": {},
          "output_type": "display_data"
        },
        {
          "data": {
            "text/html": [
              " View run at <a href='https://wandb.ai/ayoubaamir0201-ensam-casablanca/5-flowers-classification/runs/g5nd0swa' target=\"_blank\">https://wandb.ai/ayoubaamir0201-ensam-casablanca/5-flowers-classification/runs/g5nd0swa</a>"
            ],
            "text/plain": [
              "<IPython.core.display.HTML object>"
            ]
          },
          "metadata": {},
          "output_type": "display_data"
        },
        {
          "metadata": {
            "tags": null
          },
          "name": "stdout",
          "output_type": "stream",
          "text": [
            "Epoch 1/5\n",
            "\u001b[1m207/207\u001b[0m \u001b[32m━━━━━━━━━━━━━━━━━━━━\u001b[0m\u001b[37m\u001b[0m \u001b[1m115s\u001b[0m 549ms/step - accuracy: 0.3405 - loss: 1.4927 - val_accuracy: 0.4324 - val_loss: 1.2843\n",
            "Epoch 2/5\n",
            "\u001b[1m207/207\u001b[0m \u001b[32m━━━━━━━━━━━━━━━━━━━━\u001b[0m\u001b[37m\u001b[0m \u001b[1m112s\u001b[0m 542ms/step - accuracy: 0.4418 - loss: 1.2626 - val_accuracy: 0.4541 - val_loss: 1.2631\n",
            "Epoch 3/5\n",
            "\u001b[1m207/207\u001b[0m \u001b[32m━━━━━━━━━━━━━━━━━━━━\u001b[0m\u001b[37m\u001b[0m \u001b[1m143s\u001b[0m 691ms/step - accuracy: 0.4818 - loss: 1.2012 - val_accuracy: 0.4811 - val_loss: 1.2298\n",
            "Epoch 4/5\n",
            "\u001b[1m207/207\u001b[0m \u001b[32m━━━━━━━━━━━━━━━━━━━━\u001b[0m\u001b[37m\u001b[0m \u001b[1m114s\u001b[0m 550ms/step - accuracy: 0.5112 - loss: 1.1574 - val_accuracy: 0.4568 - val_loss: 1.2454\n",
            "Epoch 5/5\n",
            "\u001b[1m207/207\u001b[0m \u001b[32m━━━━━━━━━━━━━━━━━━━━\u001b[0m\u001b[37m\u001b[0m \u001b[1m145s\u001b[0m 700ms/step - accuracy: 0.5248 - loss: 1.1245 - val_accuracy: 0.4811 - val_loss: 1.2083\n"
          ]
        },
        {
          "data": {
            "text/html": [],
            "text/plain": [
              "<IPython.core.display.HTML object>"
            ]
          },
          "metadata": {},
          "output_type": "display_data"
        },
        {
          "data": {
            "text/html": [
              "<br>    <style><br>        .wandb-row {<br>            display: flex;<br>            flex-direction: row;<br>            flex-wrap: wrap;<br>            justify-content: flex-start;<br>            width: 100%;<br>        }<br>        .wandb-col {<br>            display: flex;<br>            flex-direction: column;<br>            flex-basis: 100%;<br>            flex: 1;<br>            padding: 10px;<br>        }<br>    </style><br><div class=\"wandb-row\"><div class=\"wandb-col\"><h3>Run history:</h3><br/><table class=\"wandb\"><tr><td>batch/accuracy</td><td>▁▃▃▄▄▅▅▅▅▅▅▅▅▅▆▆▇▆▇▇▆▇▇▇▇▇▇▇▇▇███▇▇█████</td></tr><tr><td>batch/batch_step</td><td>▁▁▁▁▁▂▂▂▂▂▂▃▃▃▃▃▃▃▃▄▄▅▅▅▅▆▆▆▆▆▇▇▇▇▇▇████</td></tr><tr><td>batch/learning_rate</td><td>▁▁▁▁▁▁▁▁▁▁▁▁▁▁▁▁▁▁▁▁▁▁▁▁▁▁▁▁▁▁▁▁▁▁▁▁▁▁▁▁</td></tr><tr><td>batch/loss</td><td>████▇▆▅▅▅▅▅▅▄▃▃▃▃▃▃▂▂▂▂▂▂▂▁▁▂▂▂▂▁▁▁▁▁▁▁▁</td></tr><tr><td>epoch/accuracy</td><td>▁▄▆▇█</td></tr><tr><td>epoch/epoch</td><td>▁▃▅▆█</td></tr><tr><td>epoch/learning_rate</td><td>▁▁▁▁▁</td></tr><tr><td>epoch/loss</td><td>█▄▃▂▁</td></tr><tr><td>epoch/val_accuracy</td><td>▁▄█▅█</td></tr><tr><td>epoch/val_loss</td><td>█▆▃▄▁</td></tr></table><br/></div><div class=\"wandb-col\"><h3>Run summary:</h3><br/><table class=\"wandb\"><tr><td>batch/accuracy</td><td>0.54551</td></tr><tr><td>batch/batch_step</td><td>1045</td></tr><tr><td>batch/learning_rate</td><td>0.001</td></tr><tr><td>batch/loss</td><td>1.11096</td></tr><tr><td>epoch/accuracy</td><td>0.54515</td></tr><tr><td>epoch/epoch</td><td>4</td></tr><tr><td>epoch/learning_rate</td><td>0.001</td></tr><tr><td>epoch/loss</td><td>1.1111</td></tr><tr><td>epoch/val_accuracy</td><td>0.48108</td></tr><tr><td>epoch/val_loss</td><td>1.20833</td></tr></table><br/></div></div>"
            ],
            "text/plain": [
              "<IPython.core.display.HTML object>"
            ]
          },
          "metadata": {},
          "output_type": "display_data"
        },
        {
          "data": {
            "text/html": [
              " View run <strong style=\"color:#cdcd00\">stellar-sweep-17</strong> at: <a href='https://wandb.ai/ayoubaamir0201-ensam-casablanca/5-flowers-classification/runs/g5nd0swa' target=\"_blank\">https://wandb.ai/ayoubaamir0201-ensam-casablanca/5-flowers-classification/runs/g5nd0swa</a><br> View project at: <a href='https://wandb.ai/ayoubaamir0201-ensam-casablanca/5-flowers-classification' target=\"_blank\">https://wandb.ai/ayoubaamir0201-ensam-casablanca/5-flowers-classification</a><br>Synced 5 W&B file(s), 0 media file(s), 0 artifact file(s) and 0 other file(s)"
            ],
            "text/plain": [
              "<IPython.core.display.HTML object>"
            ]
          },
          "metadata": {},
          "output_type": "display_data"
        },
        {
          "data": {
            "text/html": [
              "Find logs at: <code>./wandb/run-20251001_041838-g5nd0swa/logs</code>"
            ],
            "text/plain": [
              "<IPython.core.display.HTML object>"
            ]
          },
          "metadata": {},
          "output_type": "display_data"
        },
        {
          "metadata": {
            "tags": null
          },
          "name": "stderr",
          "output_type": "stream",
          "text": [
            "\u001b[34m\u001b[1mwandb\u001b[0m: Agent Starting Run: nwzf31ce with config:\n",
            "\u001b[34m\u001b[1mwandb\u001b[0m: \tbatch_size: 16\n",
            "\u001b[34m\u001b[1mwandb\u001b[0m: \tepochs: 5\n",
            "\u001b[34m\u001b[1mwandb\u001b[0m: \thidden_nodes: 128\n",
            "\u001b[34m\u001b[1mwandb\u001b[0m: \timg_size: 16\n",
            "\u001b[34m\u001b[1mwandb\u001b[0m: \tlearning_rate: 0.0001\n"
          ]
        },
        {
          "data": {
            "text/html": [],
            "text/plain": [
              "<IPython.core.display.HTML object>"
            ]
          },
          "metadata": {},
          "output_type": "display_data"
        },
        {
          "data": {
            "text/html": [
              "Tracking run with wandb version 0.21.4"
            ],
            "text/plain": [
              "<IPython.core.display.HTML object>"
            ]
          },
          "metadata": {},
          "output_type": "display_data"
        },
        {
          "data": {
            "text/html": [
              "Run data is saved locally in <code>/content/wandb/run-20251001_042912-nwzf31ce</code>"
            ],
            "text/plain": [
              "<IPython.core.display.HTML object>"
            ]
          },
          "metadata": {},
          "output_type": "display_data"
        },
        {
          "data": {
            "text/html": [
              "Syncing run <strong><a href='https://wandb.ai/ayoubaamir0201-ensam-casablanca/5-flowers-classification/runs/nwzf31ce' target=\"_blank\">dashing-sweep-18</a></strong> to <a href='https://wandb.ai/ayoubaamir0201-ensam-casablanca/5-flowers-classification' target=\"_blank\">Weights & Biases</a> (<a href='https://wandb.me/developer-guide' target=\"_blank\">docs</a>)<br>Sweep page: <a href='https://wandb.ai/ayoubaamir0201-ensam-casablanca/5-flowers-classification/sweeps/tard0exk' target=\"_blank\">https://wandb.ai/ayoubaamir0201-ensam-casablanca/5-flowers-classification/sweeps/tard0exk</a>"
            ],
            "text/plain": [
              "<IPython.core.display.HTML object>"
            ]
          },
          "metadata": {},
          "output_type": "display_data"
        },
        {
          "data": {
            "text/html": [
              " View project at <a href='https://wandb.ai/ayoubaamir0201-ensam-casablanca/5-flowers-classification' target=\"_blank\">https://wandb.ai/ayoubaamir0201-ensam-casablanca/5-flowers-classification</a>"
            ],
            "text/plain": [
              "<IPython.core.display.HTML object>"
            ]
          },
          "metadata": {},
          "output_type": "display_data"
        },
        {
          "data": {
            "text/html": [
              " View sweep at <a href='https://wandb.ai/ayoubaamir0201-ensam-casablanca/5-flowers-classification/sweeps/tard0exk' target=\"_blank\">https://wandb.ai/ayoubaamir0201-ensam-casablanca/5-flowers-classification/sweeps/tard0exk</a>"
            ],
            "text/plain": [
              "<IPython.core.display.HTML object>"
            ]
          },
          "metadata": {},
          "output_type": "display_data"
        },
        {
          "data": {
            "text/html": [
              " View run at <a href='https://wandb.ai/ayoubaamir0201-ensam-casablanca/5-flowers-classification/runs/nwzf31ce' target=\"_blank\">https://wandb.ai/ayoubaamir0201-ensam-casablanca/5-flowers-classification/runs/nwzf31ce</a>"
            ],
            "text/plain": [
              "<IPython.core.display.HTML object>"
            ]
          },
          "metadata": {},
          "output_type": "display_data"
        },
        {
          "metadata": {
            "tags": null
          },
          "name": "stdout",
          "output_type": "stream",
          "text": [
            "Epoch 1/5\n",
            "\u001b[1m207/207\u001b[0m \u001b[32m━━━━━━━━━━━━━━━━━━━━\u001b[0m\u001b[37m\u001b[0m \u001b[1m112s\u001b[0m 534ms/step - accuracy: 0.3510 - loss: 1.4710 - val_accuracy: 0.4351 - val_loss: 1.2827\n",
            "Epoch 2/5\n",
            "\u001b[1m207/207\u001b[0m \u001b[32m━━━━━━━━━━━━━━━━━━━━\u001b[0m\u001b[37m\u001b[0m \u001b[1m114s\u001b[0m 548ms/step - accuracy: 0.4461 - loss: 1.2755 - val_accuracy: 0.4703 - val_loss: 1.2207\n",
            "Epoch 3/5\n",
            "\u001b[1m207/207\u001b[0m \u001b[32m━━━━━━━━━━━━━━━━━━━━\u001b[0m\u001b[37m\u001b[0m \u001b[1m113s\u001b[0m 545ms/step - accuracy: 0.4741 - loss: 1.2029 - val_accuracy: 0.4784 - val_loss: 1.2071\n",
            "Epoch 4/5\n",
            "\u001b[1m207/207\u001b[0m \u001b[32m━━━━━━━━━━━━━━━━━━━━\u001b[0m\u001b[37m\u001b[0m \u001b[1m142s\u001b[0m 546ms/step - accuracy: 0.4999 - loss: 1.1565 - val_accuracy: 0.4865 - val_loss: 1.1937\n",
            "Epoch 5/5\n",
            "\u001b[1m207/207\u001b[0m \u001b[32m━━━━━━━━━━━━━━━━━━━━\u001b[0m\u001b[37m\u001b[0m \u001b[1m115s\u001b[0m 554ms/step - accuracy: 0.5364 - loss: 1.1195 - val_accuracy: 0.4838 - val_loss: 1.2226\n"
          ]
        },
        {
          "data": {
            "text/html": [],
            "text/plain": [
              "<IPython.core.display.HTML object>"
            ]
          },
          "metadata": {},
          "output_type": "display_data"
        },
        {
          "data": {
            "text/html": [
              "<br>    <style><br>        .wandb-row {<br>            display: flex;<br>            flex-direction: row;<br>            flex-wrap: wrap;<br>            justify-content: flex-start;<br>            width: 100%;<br>        }<br>        .wandb-col {<br>            display: flex;<br>            flex-direction: column;<br>            flex-basis: 100%;<br>            flex: 1;<br>            padding: 10px;<br>        }<br>    </style><br><div class=\"wandb-row\"><div class=\"wandb-col\"><h3>Run history:</h3><br/><table class=\"wandb\"><tr><td>batch/accuracy</td><td>▁▂▂▂▃▄▄▄▄▄▄▄▄▄▅▆▆▆▆▆▅▆▇▇▇▆▇▇▇▇▇▇▇▇██████</td></tr><tr><td>batch/batch_step</td><td>▁▁▁▁▁▂▂▂▃▃▃▃▃▃▃▄▄▄▄▄▅▅▅▅▅▆▆▆▆▆▆▆▇▇▇▇▇▇██</td></tr><tr><td>batch/learning_rate</td><td>▁▁▁▁▁▁▁▁▁▁▁▁▁▁▁▁▁▁▁▁▁▁▁▁▁▁▁▁▁▁▁▁▁▁▁▁▁▁▁▁</td></tr><tr><td>batch/loss</td><td>█▇▇▆▆▆▅▅▅▄▄▄▃▃▂▂▂▃▂▃▂▂▂▂▂▂▂▂▂▂▂▂▂▂▂▁▁▁▁▁</td></tr><tr><td>epoch/accuracy</td><td>▁▄▆▇█</td></tr><tr><td>epoch/epoch</td><td>▁▃▅▆█</td></tr><tr><td>epoch/learning_rate</td><td>▁▁▁▁▁</td></tr><tr><td>epoch/loss</td><td>█▅▃▂▁</td></tr><tr><td>epoch/val_accuracy</td><td>▁▆▇██</td></tr><tr><td>epoch/val_loss</td><td>█▃▂▁▃</td></tr></table><br/></div><div class=\"wandb-col\"><h3>Run summary:</h3><br/><table class=\"wandb\"><tr><td>batch/accuracy</td><td>0.54339</td></tr><tr><td>batch/batch_step</td><td>1045</td></tr><tr><td>batch/learning_rate</td><td>0.001</td></tr><tr><td>batch/loss</td><td>1.11674</td></tr><tr><td>epoch/accuracy</td><td>0.54303</td></tr><tr><td>epoch/epoch</td><td>4</td></tr><tr><td>epoch/learning_rate</td><td>0.001</td></tr><tr><td>epoch/loss</td><td>1.11698</td></tr><tr><td>epoch/val_accuracy</td><td>0.48378</td></tr><tr><td>epoch/val_loss</td><td>1.22256</td></tr></table><br/></div></div>"
            ],
            "text/plain": [
              "<IPython.core.display.HTML object>"
            ]
          },
          "metadata": {},
          "output_type": "display_data"
        },
        {
          "data": {
            "text/html": [
              " View run <strong style=\"color:#cdcd00\">dashing-sweep-18</strong> at: <a href='https://wandb.ai/ayoubaamir0201-ensam-casablanca/5-flowers-classification/runs/nwzf31ce' target=\"_blank\">https://wandb.ai/ayoubaamir0201-ensam-casablanca/5-flowers-classification/runs/nwzf31ce</a><br> View project at: <a href='https://wandb.ai/ayoubaamir0201-ensam-casablanca/5-flowers-classification' target=\"_blank\">https://wandb.ai/ayoubaamir0201-ensam-casablanca/5-flowers-classification</a><br>Synced 5 W&B file(s), 0 media file(s), 0 artifact file(s) and 0 other file(s)"
            ],
            "text/plain": [
              "<IPython.core.display.HTML object>"
            ]
          },
          "metadata": {},
          "output_type": "display_data"
        },
        {
          "data": {
            "text/html": [
              "Find logs at: <code>./wandb/run-20251001_042912-nwzf31ce/logs</code>"
            ],
            "text/plain": [
              "<IPython.core.display.HTML object>"
            ]
          },
          "metadata": {},
          "output_type": "display_data"
        },
        {
          "metadata": {
            "tags": null
          },
          "name": "stderr",
          "output_type": "stream",
          "text": [
            "\u001b[34m\u001b[1mwandb\u001b[0m: Agent Starting Run: e0hf0tua with config:\n",
            "\u001b[34m\u001b[1mwandb\u001b[0m: \tbatch_size: 16\n",
            "\u001b[34m\u001b[1mwandb\u001b[0m: \tepochs: 5\n",
            "\u001b[34m\u001b[1mwandb\u001b[0m: \thidden_nodes: 128\n",
            "\u001b[34m\u001b[1mwandb\u001b[0m: \timg_size: 224\n",
            "\u001b[34m\u001b[1mwandb\u001b[0m: \tlearning_rate: 0.001\n"
          ]
        },
        {
          "data": {
            "text/html": [],
            "text/plain": [
              "<IPython.core.display.HTML object>"
            ]
          },
          "metadata": {},
          "output_type": "display_data"
        },
        {
          "data": {
            "text/html": [
              "Tracking run with wandb version 0.21.4"
            ],
            "text/plain": [
              "<IPython.core.display.HTML object>"
            ]
          },
          "metadata": {},
          "output_type": "display_data"
        },
        {
          "data": {
            "text/html": [
              "Run data is saved locally in <code>/content/wandb/run-20251001_043936-e0hf0tua</code>"
            ],
            "text/plain": [
              "<IPython.core.display.HTML object>"
            ]
          },
          "metadata": {},
          "output_type": "display_data"
        },
        {
          "data": {
            "text/html": [
              "Syncing run <strong><a href='https://wandb.ai/ayoubaamir0201-ensam-casablanca/5-flowers-classification/runs/e0hf0tua' target=\"_blank\">fiery-sweep-19</a></strong> to <a href='https://wandb.ai/ayoubaamir0201-ensam-casablanca/5-flowers-classification' target=\"_blank\">Weights & Biases</a> (<a href='https://wandb.me/developer-guide' target=\"_blank\">docs</a>)<br>Sweep page: <a href='https://wandb.ai/ayoubaamir0201-ensam-casablanca/5-flowers-classification/sweeps/tard0exk' target=\"_blank\">https://wandb.ai/ayoubaamir0201-ensam-casablanca/5-flowers-classification/sweeps/tard0exk</a>"
            ],
            "text/plain": [
              "<IPython.core.display.HTML object>"
            ]
          },
          "metadata": {},
          "output_type": "display_data"
        },
        {
          "data": {
            "text/html": [
              " View project at <a href='https://wandb.ai/ayoubaamir0201-ensam-casablanca/5-flowers-classification' target=\"_blank\">https://wandb.ai/ayoubaamir0201-ensam-casablanca/5-flowers-classification</a>"
            ],
            "text/plain": [
              "<IPython.core.display.HTML object>"
            ]
          },
          "metadata": {},
          "output_type": "display_data"
        },
        {
          "data": {
            "text/html": [
              " View sweep at <a href='https://wandb.ai/ayoubaamir0201-ensam-casablanca/5-flowers-classification/sweeps/tard0exk' target=\"_blank\">https://wandb.ai/ayoubaamir0201-ensam-casablanca/5-flowers-classification/sweeps/tard0exk</a>"
            ],
            "text/plain": [
              "<IPython.core.display.HTML object>"
            ]
          },
          "metadata": {},
          "output_type": "display_data"
        },
        {
          "data": {
            "text/html": [
              " View run at <a href='https://wandb.ai/ayoubaamir0201-ensam-casablanca/5-flowers-classification/runs/e0hf0tua' target=\"_blank\">https://wandb.ai/ayoubaamir0201-ensam-casablanca/5-flowers-classification/runs/e0hf0tua</a>"
            ],
            "text/plain": [
              "<IPython.core.display.HTML object>"
            ]
          },
          "metadata": {},
          "output_type": "display_data"
        },
        {
          "metadata": {
            "tags": null
          },
          "name": "stdout",
          "output_type": "stream",
          "text": [
            "Epoch 1/5\n",
            "\u001b[1m207/207\u001b[0m \u001b[32m━━━━━━━━━━━━━━━━━━━━\u001b[0m\u001b[37m\u001b[0m \u001b[1m158s\u001b[0m 756ms/step - accuracy: 0.3015 - loss: 16.8153 - val_accuracy: 0.3189 - val_loss: 7.3636\n",
            "Epoch 2/5\n",
            "\u001b[1m207/207\u001b[0m \u001b[32m━━━━━━━━━━━━━━━━━━━━\u001b[0m\u001b[37m\u001b[0m \u001b[1m159s\u001b[0m 766ms/step - accuracy: 0.3795 - loss: 5.9305 - val_accuracy: 0.4054 - val_loss: 1.7950\n",
            "Epoch 3/5\n",
            "\u001b[1m207/207\u001b[0m \u001b[32m━━━━━━━━━━━━━━━━━━━━\u001b[0m\u001b[37m\u001b[0m \u001b[1m159s\u001b[0m 768ms/step - accuracy: 0.4347 - loss: 2.0877 - val_accuracy: 0.2919 - val_loss: 1.6907\n",
            "Epoch 4/5\n",
            "\u001b[1m207/207\u001b[0m \u001b[32m━━━━━━━━━━━━━━━━━━━━\u001b[0m\u001b[37m\u001b[0m \u001b[1m163s\u001b[0m 786ms/step - accuracy: 0.3189 - loss: 1.4672 - val_accuracy: 0.3432 - val_loss: 1.5330\n",
            "Epoch 5/5\n",
            "\u001b[1m207/207\u001b[0m \u001b[32m━━━━━━━━━━━━━━━━━━━━\u001b[0m\u001b[37m\u001b[0m \u001b[1m162s\u001b[0m 781ms/step - accuracy: 0.4083 - loss: 1.4132 - val_accuracy: 0.3622 - val_loss: 1.4775\n"
          ]
        },
        {
          "data": {
            "text/html": [],
            "text/plain": [
              "<IPython.core.display.HTML object>"
            ]
          },
          "metadata": {},
          "output_type": "display_data"
        },
        {
          "data": {
            "text/html": [
              "<br>    <style><br>        .wandb-row {<br>            display: flex;<br>            flex-direction: row;<br>            flex-wrap: wrap;<br>            justify-content: flex-start;<br>            width: 100%;<br>        }<br>        .wandb-col {<br>            display: flex;<br>            flex-direction: column;<br>            flex-basis: 100%;<br>            flex: 1;<br>            padding: 10px;<br>        }<br>    </style><br><div class=\"wandb-row\"><div class=\"wandb-col\"><h3>Run history:</h3><br/><table class=\"wandb\"><tr><td>batch/accuracy</td><td>▁▃▃▃▃▃▃▄▄▄▄▅▅▅▅▅▅▅▇▆▆▆▇▇▇▇▇▆▅▄▄▄▄▄█▅▆▆▅▅</td></tr><tr><td>batch/batch_step</td><td>▁▁▁▂▂▂▂▂▂▃▃▃▃▃▃▄▄▄▄▄▅▅▅▅▅▆▆▆▆▆▆▇▇▇▇▇████</td></tr><tr><td>batch/learning_rate</td><td>▁▁▁▁▁▁▁▁▁▁▁▁▁▁▁▁▁▁▁▁▁▁▁▁▁▁▁▁▁▁▁▁▁▁▁▁▁▁▁▁</td></tr><tr><td>batch/loss</td><td>█▃▂▂▂▂▂▂▂▂▂▂▁▁▁▁▁▁▁▁▁▁▁▁▁▁▁▁▁▁▁▁▁▁▁▁▁▁▁▁</td></tr><tr><td>epoch/accuracy</td><td>▁▅█▁▅</td></tr><tr><td>epoch/epoch</td><td>▁▃▅▆█</td></tr><tr><td>epoch/learning_rate</td><td>▁▁▁▁▁</td></tr><tr><td>epoch/loss</td><td>█▄▁▁▁</td></tr><tr><td>epoch/val_accuracy</td><td>▃█▁▄▅</td></tr><tr><td>epoch/val_loss</td><td>█▁▁▁▁</td></tr></table><br/></div><div class=\"wandb-col\"><h3>Run summary:</h3><br/><table class=\"wandb\"><tr><td>batch/accuracy</td><td>0.38441</td></tr><tr><td>batch/batch_step</td><td>1045</td></tr><tr><td>batch/learning_rate</td><td>0.001</td></tr><tr><td>batch/loss</td><td>1.42562</td></tr><tr><td>epoch/accuracy</td><td>0.38424</td></tr><tr><td>epoch/epoch</td><td>4</td></tr><tr><td>epoch/learning_rate</td><td>0.001</td></tr><tr><td>epoch/loss</td><td>1.4254</td></tr><tr><td>epoch/val_accuracy</td><td>0.36216</td></tr><tr><td>epoch/val_loss</td><td>1.47752</td></tr></table><br/></div></div>"
            ],
            "text/plain": [
              "<IPython.core.display.HTML object>"
            ]
          },
          "metadata": {},
          "output_type": "display_data"
        },
        {
          "data": {
            "text/html": [
              " View run <strong style=\"color:#cdcd00\">fiery-sweep-19</strong> at: <a href='https://wandb.ai/ayoubaamir0201-ensam-casablanca/5-flowers-classification/runs/e0hf0tua' target=\"_blank\">https://wandb.ai/ayoubaamir0201-ensam-casablanca/5-flowers-classification/runs/e0hf0tua</a><br> View project at: <a href='https://wandb.ai/ayoubaamir0201-ensam-casablanca/5-flowers-classification' target=\"_blank\">https://wandb.ai/ayoubaamir0201-ensam-casablanca/5-flowers-classification</a><br>Synced 5 W&B file(s), 0 media file(s), 0 artifact file(s) and 0 other file(s)"
            ],
            "text/plain": [
              "<IPython.core.display.HTML object>"
            ]
          },
          "metadata": {},
          "output_type": "display_data"
        },
        {
          "data": {
            "text/html": [
              "Find logs at: <code>./wandb/run-20251001_043936-e0hf0tua/logs</code>"
            ],
            "text/plain": [
              "<IPython.core.display.HTML object>"
            ]
          },
          "metadata": {},
          "output_type": "display_data"
        },
        {
          "metadata": {
            "tags": null
          },
          "name": "stderr",
          "output_type": "stream",
          "text": [
            "\u001b[34m\u001b[1mwandb\u001b[0m: Agent Starting Run: ld4g8aqq with config:\n",
            "\u001b[34m\u001b[1mwandb\u001b[0m: \tbatch_size: 16\n",
            "\u001b[34m\u001b[1mwandb\u001b[0m: \tepochs: 5\n",
            "\u001b[34m\u001b[1mwandb\u001b[0m: \thidden_nodes: 128\n",
            "\u001b[34m\u001b[1mwandb\u001b[0m: \timg_size: 224\n",
            "\u001b[34m\u001b[1mwandb\u001b[0m: \tlearning_rate: 0.0001\n"
          ]
        },
        {
          "data": {
            "text/html": [],
            "text/plain": [
              "<IPython.core.display.HTML object>"
            ]
          },
          "metadata": {},
          "output_type": "display_data"
        },
        {
          "data": {
            "text/html": [
              "Tracking run with wandb version 0.21.4"
            ],
            "text/plain": [
              "<IPython.core.display.HTML object>"
            ]
          },
          "metadata": {},
          "output_type": "display_data"
        },
        {
          "data": {
            "text/html": [
              "Run data is saved locally in <code>/content/wandb/run-20251001_045302-ld4g8aqq</code>"
            ],
            "text/plain": [
              "<IPython.core.display.HTML object>"
            ]
          },
          "metadata": {},
          "output_type": "display_data"
        },
        {
          "data": {
            "text/html": [
              "Syncing run <strong><a href='https://wandb.ai/ayoubaamir0201-ensam-casablanca/5-flowers-classification/runs/ld4g8aqq' target=\"_blank\">polar-sweep-20</a></strong> to <a href='https://wandb.ai/ayoubaamir0201-ensam-casablanca/5-flowers-classification' target=\"_blank\">Weights & Biases</a> (<a href='https://wandb.me/developer-guide' target=\"_blank\">docs</a>)<br>Sweep page: <a href='https://wandb.ai/ayoubaamir0201-ensam-casablanca/5-flowers-classification/sweeps/tard0exk' target=\"_blank\">https://wandb.ai/ayoubaamir0201-ensam-casablanca/5-flowers-classification/sweeps/tard0exk</a>"
            ],
            "text/plain": [
              "<IPython.core.display.HTML object>"
            ]
          },
          "metadata": {},
          "output_type": "display_data"
        },
        {
          "data": {
            "text/html": [
              " View project at <a href='https://wandb.ai/ayoubaamir0201-ensam-casablanca/5-flowers-classification' target=\"_blank\">https://wandb.ai/ayoubaamir0201-ensam-casablanca/5-flowers-classification</a>"
            ],
            "text/plain": [
              "<IPython.core.display.HTML object>"
            ]
          },
          "metadata": {},
          "output_type": "display_data"
        },
        {
          "data": {
            "text/html": [
              " View sweep at <a href='https://wandb.ai/ayoubaamir0201-ensam-casablanca/5-flowers-classification/sweeps/tard0exk' target=\"_blank\">https://wandb.ai/ayoubaamir0201-ensam-casablanca/5-flowers-classification/sweeps/tard0exk</a>"
            ],
            "text/plain": [
              "<IPython.core.display.HTML object>"
            ]
          },
          "metadata": {},
          "output_type": "display_data"
        },
        {
          "data": {
            "text/html": [
              " View run at <a href='https://wandb.ai/ayoubaamir0201-ensam-casablanca/5-flowers-classification/runs/ld4g8aqq' target=\"_blank\">https://wandb.ai/ayoubaamir0201-ensam-casablanca/5-flowers-classification/runs/ld4g8aqq</a>"
            ],
            "text/plain": [
              "<IPython.core.display.HTML object>"
            ]
          },
          "metadata": {},
          "output_type": "display_data"
        },
        {
          "metadata": {
            "tags": null
          },
          "name": "stdout",
          "output_type": "stream",
          "text": [
            "Epoch 1/5\n",
            "\u001b[1m207/207\u001b[0m \u001b[32m━━━━━━━━━━━━━━━━━━━━\u001b[0m\u001b[37m\u001b[0m \u001b[1m162s\u001b[0m 775ms/step - accuracy: 0.2948 - loss: 21.5210 - val_accuracy: 0.3973 - val_loss: 3.3951\n",
            "Epoch 2/5\n",
            "\u001b[1m207/207\u001b[0m \u001b[32m━━━━━━━━━━━━━━━━━━━━\u001b[0m\u001b[37m\u001b[0m \u001b[1m160s\u001b[0m 770ms/step - accuracy: 0.4073 - loss: 3.6647 - val_accuracy: 0.3243 - val_loss: 4.6648\n",
            "Epoch 3/5\n",
            "\u001b[1m207/207\u001b[0m \u001b[32m━━━━━━━━━━━━━━━━━━━━\u001b[0m\u001b[37m\u001b[0m \u001b[1m161s\u001b[0m 779ms/step - accuracy: 0.4414 - loss: 2.8766 - val_accuracy: 0.3784 - val_loss: 3.1534\n",
            "Epoch 4/5\n",
            "\u001b[1m207/207\u001b[0m \u001b[32m━━━━━━━━━━━━━━━━━━━━\u001b[0m\u001b[37m\u001b[0m \u001b[1m167s\u001b[0m 806ms/step - accuracy: 0.4667 - loss: 2.1789 - val_accuracy: 0.3595 - val_loss: 2.9308\n",
            "Epoch 5/5\n",
            "\u001b[1m207/207\u001b[0m \u001b[32m━━━━━━━━━━━━━━━━━━━━\u001b[0m\u001b[37m\u001b[0m \u001b[1m165s\u001b[0m 796ms/step - accuracy: 0.4342 - loss: 2.1002 - val_accuracy: 0.3811 - val_loss: 3.1065\n"
          ]
        },
        {
          "data": {
            "text/html": [],
            "text/plain": [
              "<IPython.core.display.HTML object>"
            ]
          },
          "metadata": {},
          "output_type": "display_data"
        },
        {
          "data": {
            "text/html": [
              "<br>    <style><br>        .wandb-row {<br>            display: flex;<br>            flex-direction: row;<br>            flex-wrap: wrap;<br>            justify-content: flex-start;<br>            width: 100%;<br>        }<br>        .wandb-col {<br>            display: flex;<br>            flex-direction: column;<br>            flex-basis: 100%;<br>            flex: 1;<br>            padding: 10px;<br>        }<br>    </style><br><div class=\"wandb-row\"><div class=\"wandb-col\"><h3>Run history:</h3><br/><table class=\"wandb\"><tr><td>batch/accuracy</td><td>▁▃▃▄▄▄▄▄▄▄▅▅▅▆▆▆▆▆▆▆▇▇▆▇▇▇▇██▇██▄▅▇▇▇▇▇▇</td></tr><tr><td>batch/batch_step</td><td>▁▁▁▁▂▂▂▂▂▂▃▃▃▃▃▄▄▄▄▄▄▄▅▅▅▅▅▅▆▆▆▆▆▇▇▇▇▇██</td></tr><tr><td>batch/learning_rate</td><td>▁▁▁▁▁▁▁▁▁▁▁▁▁▁▁▁▁▁▁▁▁▁▁▁▁▁▁▁▁▁▁▁▁▁▁▁▁▁▁▁</td></tr><tr><td>batch/loss</td><td>▁█▃▂▂▂▂▁▁▁▁▁▁▁▁▁▁▁▁▁▁▁▁▁▁▁▁▁▁▁▁▁▁▁▁▁▁▁▁▁</td></tr><tr><td>epoch/accuracy</td><td>▁▅▇█▇</td></tr><tr><td>epoch/epoch</td><td>▁▃▅▆█</td></tr><tr><td>epoch/learning_rate</td><td>▁▁▁▁▁</td></tr><tr><td>epoch/loss</td><td>█▂▂▁▁</td></tr><tr><td>epoch/val_accuracy</td><td>█▁▆▄▆</td></tr><tr><td>epoch/val_loss</td><td>▃█▂▁▂</td></tr></table><br/></div><div class=\"wandb-col\"><h3>Run summary:</h3><br/><table class=\"wandb\"><tr><td>batch/accuracy</td><td>0.45328</td></tr><tr><td>batch/batch_step</td><td>1045</td></tr><tr><td>batch/learning_rate</td><td>0.001</td></tr><tr><td>batch/loss</td><td>1.8101</td></tr><tr><td>epoch/accuracy</td><td>0.45333</td></tr><tr><td>epoch/epoch</td><td>4</td></tr><tr><td>epoch/learning_rate</td><td>0.001</td></tr><tr><td>epoch/loss</td><td>1.81001</td></tr><tr><td>epoch/val_accuracy</td><td>0.38108</td></tr><tr><td>epoch/val_loss</td><td>3.1065</td></tr></table><br/></div></div>"
            ],
            "text/plain": [
              "<IPython.core.display.HTML object>"
            ]
          },
          "metadata": {},
          "output_type": "display_data"
        },
        {
          "data": {
            "text/html": [
              " View run <strong style=\"color:#cdcd00\">polar-sweep-20</strong> at: <a href='https://wandb.ai/ayoubaamir0201-ensam-casablanca/5-flowers-classification/runs/ld4g8aqq' target=\"_blank\">https://wandb.ai/ayoubaamir0201-ensam-casablanca/5-flowers-classification/runs/ld4g8aqq</a><br> View project at: <a href='https://wandb.ai/ayoubaamir0201-ensam-casablanca/5-flowers-classification' target=\"_blank\">https://wandb.ai/ayoubaamir0201-ensam-casablanca/5-flowers-classification</a><br>Synced 5 W&B file(s), 0 media file(s), 0 artifact file(s) and 0 other file(s)"
            ],
            "text/plain": [
              "<IPython.core.display.HTML object>"
            ]
          },
          "metadata": {},
          "output_type": "display_data"
        },
        {
          "data": {
            "text/html": [
              "Find logs at: <code>./wandb/run-20251001_045302-ld4g8aqq/logs</code>"
            ],
            "text/plain": [
              "<IPython.core.display.HTML object>"
            ]
          },
          "metadata": {},
          "output_type": "display_data"
        },
        {
          "metadata": {
            "tags": null
          },
          "name": "stderr",
          "output_type": "stream",
          "text": [
            "\u001b[34m\u001b[1mwandb\u001b[0m: Agent Starting Run: fb26cykd with config:\n",
            "\u001b[34m\u001b[1mwandb\u001b[0m: \tbatch_size: 16\n",
            "\u001b[34m\u001b[1mwandb\u001b[0m: \tepochs: 5\n",
            "\u001b[34m\u001b[1mwandb\u001b[0m: \thidden_nodes: 64\n",
            "\u001b[34m\u001b[1mwandb\u001b[0m: \timg_size: 16\n",
            "\u001b[34m\u001b[1mwandb\u001b[0m: \tlearning_rate: 0.001\n"
          ]
        },
        {
          "data": {
            "text/html": [],
            "text/plain": [
              "<IPython.core.display.HTML object>"
            ]
          },
          "metadata": {},
          "output_type": "display_data"
        },
        {
          "data": {
            "text/html": [
              "Tracking run with wandb version 0.21.4"
            ],
            "text/plain": [
              "<IPython.core.display.HTML object>"
            ]
          },
          "metadata": {},
          "output_type": "display_data"
        },
        {
          "data": {
            "text/html": [
              "Run data is saved locally in <code>/content/wandb/run-20251001_050642-fb26cykd</code>"
            ],
            "text/plain": [
              "<IPython.core.display.HTML object>"
            ]
          },
          "metadata": {},
          "output_type": "display_data"
        },
        {
          "data": {
            "text/html": [
              "Syncing run <strong><a href='https://wandb.ai/ayoubaamir0201-ensam-casablanca/5-flowers-classification/runs/fb26cykd' target=\"_blank\">mild-sweep-21</a></strong> to <a href='https://wandb.ai/ayoubaamir0201-ensam-casablanca/5-flowers-classification' target=\"_blank\">Weights & Biases</a> (<a href='https://wandb.me/developer-guide' target=\"_blank\">docs</a>)<br>Sweep page: <a href='https://wandb.ai/ayoubaamir0201-ensam-casablanca/5-flowers-classification/sweeps/tard0exk' target=\"_blank\">https://wandb.ai/ayoubaamir0201-ensam-casablanca/5-flowers-classification/sweeps/tard0exk</a>"
            ],
            "text/plain": [
              "<IPython.core.display.HTML object>"
            ]
          },
          "metadata": {},
          "output_type": "display_data"
        },
        {
          "data": {
            "text/html": [
              " View project at <a href='https://wandb.ai/ayoubaamir0201-ensam-casablanca/5-flowers-classification' target=\"_blank\">https://wandb.ai/ayoubaamir0201-ensam-casablanca/5-flowers-classification</a>"
            ],
            "text/plain": [
              "<IPython.core.display.HTML object>"
            ]
          },
          "metadata": {},
          "output_type": "display_data"
        },
        {
          "data": {
            "text/html": [
              " View sweep at <a href='https://wandb.ai/ayoubaamir0201-ensam-casablanca/5-flowers-classification/sweeps/tard0exk' target=\"_blank\">https://wandb.ai/ayoubaamir0201-ensam-casablanca/5-flowers-classification/sweeps/tard0exk</a>"
            ],
            "text/plain": [
              "<IPython.core.display.HTML object>"
            ]
          },
          "metadata": {},
          "output_type": "display_data"
        },
        {
          "data": {
            "text/html": [
              " View run at <a href='https://wandb.ai/ayoubaamir0201-ensam-casablanca/5-flowers-classification/runs/fb26cykd' target=\"_blank\">https://wandb.ai/ayoubaamir0201-ensam-casablanca/5-flowers-classification/runs/fb26cykd</a>"
            ],
            "text/plain": [
              "<IPython.core.display.HTML object>"
            ]
          },
          "metadata": {},
          "output_type": "display_data"
        },
        {
          "metadata": {
            "tags": null
          },
          "name": "stdout",
          "output_type": "stream",
          "text": [
            "Epoch 1/5\n",
            "\u001b[1m207/207\u001b[0m \u001b[32m━━━━━━━━━━━━━━━━━━━━\u001b[0m\u001b[37m\u001b[0m \u001b[1m117s\u001b[0m 561ms/step - accuracy: 0.3385 - loss: 1.4934 - val_accuracy: 0.4730 - val_loss: 1.2638\n",
            "Epoch 2/5\n",
            "\u001b[1m207/207\u001b[0m \u001b[32m━━━━━━━━━━━━━━━━━━━━\u001b[0m\u001b[37m\u001b[0m \u001b[1m140s\u001b[0m 549ms/step - accuracy: 0.4516 - loss: 1.2697 - val_accuracy: 0.4595 - val_loss: 1.2214\n",
            "Epoch 3/5\n",
            "\u001b[1m207/207\u001b[0m \u001b[32m━━━━━━━━━━━━━━━━━━━━\u001b[0m\u001b[37m\u001b[0m \u001b[1m114s\u001b[0m 552ms/step - accuracy: 0.4872 - loss: 1.2147 - val_accuracy: 0.4730 - val_loss: 1.2057\n",
            "Epoch 4/5\n",
            "\u001b[1m207/207\u001b[0m \u001b[32m━━━━━━━━━━━━━━━━━━━━\u001b[0m\u001b[37m\u001b[0m \u001b[1m143s\u001b[0m 691ms/step - accuracy: 0.5074 - loss: 1.1659 - val_accuracy: 0.4865 - val_loss: 1.1949\n",
            "Epoch 5/5\n",
            "\u001b[1m207/207\u001b[0m \u001b[32m━━━━━━━━━━━━━━━━━━━━\u001b[0m\u001b[37m\u001b[0m \u001b[1m113s\u001b[0m 548ms/step - accuracy: 0.5343 - loss: 1.1320 - val_accuracy: 0.4811 - val_loss: 1.1919\n"
          ]
        },
        {
          "data": {
            "text/html": [],
            "text/plain": [
              "<IPython.core.display.HTML object>"
            ]
          },
          "metadata": {},
          "output_type": "display_data"
        },
        {
          "data": {
            "text/html": [
              "<br>    <style><br>        .wandb-row {<br>            display: flex;<br>            flex-direction: row;<br>            flex-wrap: wrap;<br>            justify-content: flex-start;<br>            width: 100%;<br>        }<br>        .wandb-col {<br>            display: flex;<br>            flex-direction: column;<br>            flex-basis: 100%;<br>            flex: 1;<br>            padding: 10px;<br>        }<br>    </style><br><div class=\"wandb-row\"><div class=\"wandb-col\"><h3>Run history:</h3><br/><table class=\"wandb\"><tr><td>batch/accuracy</td><td>▁▃▃▃▃▃▃▄▄▄▅▅▆▅▅▅▆▅▆▆▆▆▆▆▆▆▇▇▇▇▇█▇▇▇████▇</td></tr><tr><td>batch/batch_step</td><td>▁▁▁▁▁▂▂▂▂▂▂▂▃▃▃▃▃▃▄▄▄▄▅▅▅▅▅▆▆▆▆▇▇▇▇▇▇▇▇█</td></tr><tr><td>batch/learning_rate</td><td>▁▁▁▁▁▁▁▁▁▁▁▁▁▁▁▁▁▁▁▁▁▁▁▁▁▁▁▁▁▁▁▁▁▁▁▁▁▁▁▁</td></tr><tr><td>batch/loss</td><td>█▇▆▆▆▅▅▅▃▄▃▃▃▃▃▃▃▃▃▃▃▃▃▃▃▃▃▁▃▂▂▂▂▂▂▂▂▂▂▂</td></tr><tr><td>epoch/accuracy</td><td>▁▄▆▇█</td></tr><tr><td>epoch/epoch</td><td>▁▃▅▆█</td></tr><tr><td>epoch/learning_rate</td><td>▁▁▁▁▁</td></tr><tr><td>epoch/loss</td><td>█▄▃▂▁</td></tr><tr><td>epoch/val_accuracy</td><td>▄▁▄█▇</td></tr><tr><td>epoch/val_loss</td><td>█▄▂▁▁</td></tr></table><br/></div><div class=\"wandb-col\"><h3>Run summary:</h3><br/><table class=\"wandb\"><tr><td>batch/accuracy</td><td>0.53641</td></tr><tr><td>batch/batch_step</td><td>1045</td></tr><tr><td>batch/learning_rate</td><td>0.001</td></tr><tr><td>batch/loss</td><td>1.14025</td></tr><tr><td>epoch/accuracy</td><td>0.53606</td></tr><tr><td>epoch/epoch</td><td>4</td></tr><tr><td>epoch/learning_rate</td><td>0.001</td></tr><tr><td>epoch/loss</td><td>1.14054</td></tr><tr><td>epoch/val_accuracy</td><td>0.48108</td></tr><tr><td>epoch/val_loss</td><td>1.19186</td></tr></table><br/></div></div>"
            ],
            "text/plain": [
              "<IPython.core.display.HTML object>"
            ]
          },
          "metadata": {},
          "output_type": "display_data"
        },
        {
          "data": {
            "text/html": [
              " View run <strong style=\"color:#cdcd00\">mild-sweep-21</strong> at: <a href='https://wandb.ai/ayoubaamir0201-ensam-casablanca/5-flowers-classification/runs/fb26cykd' target=\"_blank\">https://wandb.ai/ayoubaamir0201-ensam-casablanca/5-flowers-classification/runs/fb26cykd</a><br> View project at: <a href='https://wandb.ai/ayoubaamir0201-ensam-casablanca/5-flowers-classification' target=\"_blank\">https://wandb.ai/ayoubaamir0201-ensam-casablanca/5-flowers-classification</a><br>Synced 5 W&B file(s), 0 media file(s), 0 artifact file(s) and 0 other file(s)"
            ],
            "text/plain": [
              "<IPython.core.display.HTML object>"
            ]
          },
          "metadata": {},
          "output_type": "display_data"
        },
        {
          "data": {
            "text/html": [
              "Find logs at: <code>./wandb/run-20251001_050642-fb26cykd/logs</code>"
            ],
            "text/plain": [
              "<IPython.core.display.HTML object>"
            ]
          },
          "metadata": {},
          "output_type": "display_data"
        },
        {
          "metadata": {
            "tags": null
          },
          "name": "stderr",
          "output_type": "stream",
          "text": [
            "\u001b[34m\u001b[1mwandb\u001b[0m: Agent Starting Run: cuvnghnj with config:\n",
            "\u001b[34m\u001b[1mwandb\u001b[0m: \tbatch_size: 16\n",
            "\u001b[34m\u001b[1mwandb\u001b[0m: \tepochs: 5\n",
            "\u001b[34m\u001b[1mwandb\u001b[0m: \thidden_nodes: 64\n",
            "\u001b[34m\u001b[1mwandb\u001b[0m: \timg_size: 16\n",
            "\u001b[34m\u001b[1mwandb\u001b[0m: \tlearning_rate: 0.0001\n"
          ]
        },
        {
          "data": {
            "text/html": [],
            "text/plain": [
              "<IPython.core.display.HTML object>"
            ]
          },
          "metadata": {},
          "output_type": "display_data"
        },
        {
          "data": {
            "text/html": [
              "Tracking run with wandb version 0.21.4"
            ],
            "text/plain": [
              "<IPython.core.display.HTML object>"
            ]
          },
          "metadata": {},
          "output_type": "display_data"
        },
        {
          "data": {
            "text/html": [
              "Run data is saved locally in <code>/content/wandb/run-20251001_051713-cuvnghnj</code>"
            ],
            "text/plain": [
              "<IPython.core.display.HTML object>"
            ]
          },
          "metadata": {},
          "output_type": "display_data"
        },
        {
          "data": {
            "text/html": [
              "Syncing run <strong><a href='https://wandb.ai/ayoubaamir0201-ensam-casablanca/5-flowers-classification/runs/cuvnghnj' target=\"_blank\">driven-sweep-22</a></strong> to <a href='https://wandb.ai/ayoubaamir0201-ensam-casablanca/5-flowers-classification' target=\"_blank\">Weights & Biases</a> (<a href='https://wandb.me/developer-guide' target=\"_blank\">docs</a>)<br>Sweep page: <a href='https://wandb.ai/ayoubaamir0201-ensam-casablanca/5-flowers-classification/sweeps/tard0exk' target=\"_blank\">https://wandb.ai/ayoubaamir0201-ensam-casablanca/5-flowers-classification/sweeps/tard0exk</a>"
            ],
            "text/plain": [
              "<IPython.core.display.HTML object>"
            ]
          },
          "metadata": {},
          "output_type": "display_data"
        },
        {
          "data": {
            "text/html": [
              " View project at <a href='https://wandb.ai/ayoubaamir0201-ensam-casablanca/5-flowers-classification' target=\"_blank\">https://wandb.ai/ayoubaamir0201-ensam-casablanca/5-flowers-classification</a>"
            ],
            "text/plain": [
              "<IPython.core.display.HTML object>"
            ]
          },
          "metadata": {},
          "output_type": "display_data"
        },
        {
          "data": {
            "text/html": [
              " View sweep at <a href='https://wandb.ai/ayoubaamir0201-ensam-casablanca/5-flowers-classification/sweeps/tard0exk' target=\"_blank\">https://wandb.ai/ayoubaamir0201-ensam-casablanca/5-flowers-classification/sweeps/tard0exk</a>"
            ],
            "text/plain": [
              "<IPython.core.display.HTML object>"
            ]
          },
          "metadata": {},
          "output_type": "display_data"
        },
        {
          "data": {
            "text/html": [
              " View run at <a href='https://wandb.ai/ayoubaamir0201-ensam-casablanca/5-flowers-classification/runs/cuvnghnj' target=\"_blank\">https://wandb.ai/ayoubaamir0201-ensam-casablanca/5-flowers-classification/runs/cuvnghnj</a>"
            ],
            "text/plain": [
              "<IPython.core.display.HTML object>"
            ]
          },
          "metadata": {},
          "output_type": "display_data"
        },
        {
          "metadata": {
            "tags": null
          },
          "name": "stdout",
          "output_type": "stream",
          "text": [
            "Epoch 1/5\n",
            "\u001b[1m207/207\u001b[0m \u001b[32m━━━━━━━━━━━━━━━━━━━━\u001b[0m\u001b[37m\u001b[0m \u001b[1m115s\u001b[0m 550ms/step - accuracy: 0.3386 - loss: 1.4759 - val_accuracy: 0.4432 - val_loss: 1.2686\n",
            "Epoch 2/5\n",
            "\u001b[1m207/207\u001b[0m \u001b[32m━━━━━━━━━━━━━━━━━━━━\u001b[0m\u001b[37m\u001b[0m \u001b[1m141s\u001b[0m 680ms/step - accuracy: 0.4493 - loss: 1.2672 - val_accuracy: 0.4514 - val_loss: 1.2271\n",
            "Epoch 3/5\n",
            "\u001b[1m207/207\u001b[0m \u001b[32m━━━━━━━━━━━━━━━━━━━━\u001b[0m\u001b[37m\u001b[0m \u001b[1m115s\u001b[0m 557ms/step - accuracy: 0.4888 - loss: 1.2101 - val_accuracy: 0.4811 - val_loss: 1.2393\n",
            "Epoch 4/5\n",
            "\u001b[1m207/207\u001b[0m \u001b[32m━━━━━━━━━━━━━━━━━━━━\u001b[0m\u001b[37m\u001b[0m \u001b[1m114s\u001b[0m 553ms/step - accuracy: 0.4962 - loss: 1.1774 - val_accuracy: 0.4703 - val_loss: 1.2254\n",
            "Epoch 5/5\n",
            "\u001b[1m207/207\u001b[0m \u001b[32m━━━━━━━━━━━━━━━━━━━━\u001b[0m\u001b[37m\u001b[0m \u001b[1m108s\u001b[0m 523ms/step - accuracy: 0.5275 - loss: 1.1371 - val_accuracy: 0.4622 - val_loss: 1.2006\n"
          ]
        },
        {
          "data": {
            "text/html": [],
            "text/plain": [
              "<IPython.core.display.HTML object>"
            ]
          },
          "metadata": {},
          "output_type": "display_data"
        },
        {
          "data": {
            "text/html": [
              "<br>    <style><br>        .wandb-row {<br>            display: flex;<br>            flex-direction: row;<br>            flex-wrap: wrap;<br>            justify-content: flex-start;<br>            width: 100%;<br>        }<br>        .wandb-col {<br>            display: flex;<br>            flex-direction: column;<br>            flex-basis: 100%;<br>            flex: 1;<br>            padding: 10px;<br>        }<br>    </style><br><div class=\"wandb-row\"><div class=\"wandb-col\"><h3>Run history:</h3><br/><table class=\"wandb\"><tr><td>batch/accuracy</td><td>▁▂▂▃▃▃▃▃▃▄▆▆▆▆▆▅▇▇▇▇▇▇▆▆▇▇▇▇▇▇▇▇▇▇██████</td></tr><tr><td>batch/batch_step</td><td>▁▁▁▁▁▂▂▃▃▃▃▃▃▃▄▄▄▄▅▅▅▅▅▆▆▆▆▆▆▆▇▇▇▇▇▇████</td></tr><tr><td>batch/learning_rate</td><td>▁▁▁▁▁▁▁▁▁▁▁▁▁▁▁▁▁▁▁▁▁▁▁▁▁▁▁▁▁▁▁▁▁▁▁▁▁▁▁▁</td></tr><tr><td>batch/loss</td><td>█▇▆▅▅▁▃▄▃▃▃▃▃▃▃▂▂▂▂▂▂▂▂▃▂▂▂▂▂▂▂▂▂▁▁▁▁▁▁▁</td></tr><tr><td>epoch/accuracy</td><td>▁▄▆▇█</td></tr><tr><td>epoch/epoch</td><td>▁▃▅▆█</td></tr><tr><td>epoch/learning_rate</td><td>▁▁▁▁▁</td></tr><tr><td>epoch/loss</td><td>█▄▃▂▁</td></tr><tr><td>epoch/val_accuracy</td><td>▁▃█▆▅</td></tr><tr><td>epoch/val_loss</td><td>█▄▅▄▁</td></tr></table><br/></div><div class=\"wandb-col\"><h3>Run summary:</h3><br/><table class=\"wandb\"><tr><td>batch/accuracy</td><td>0.53428</td></tr><tr><td>batch/batch_step</td><td>1045</td></tr><tr><td>batch/learning_rate</td><td>0.001</td></tr><tr><td>batch/loss</td><td>1.1338</td></tr><tr><td>epoch/accuracy</td><td>0.53394</td></tr><tr><td>epoch/epoch</td><td>4</td></tr><tr><td>epoch/learning_rate</td><td>0.001</td></tr><tr><td>epoch/loss</td><td>1.134</td></tr><tr><td>epoch/val_accuracy</td><td>0.46216</td></tr><tr><td>epoch/val_loss</td><td>1.20062</td></tr></table><br/></div></div>"
            ],
            "text/plain": [
              "<IPython.core.display.HTML object>"
            ]
          },
          "metadata": {},
          "output_type": "display_data"
        },
        {
          "data": {
            "text/html": [
              " View run <strong style=\"color:#cdcd00\">driven-sweep-22</strong> at: <a href='https://wandb.ai/ayoubaamir0201-ensam-casablanca/5-flowers-classification/runs/cuvnghnj' target=\"_blank\">https://wandb.ai/ayoubaamir0201-ensam-casablanca/5-flowers-classification/runs/cuvnghnj</a><br> View project at: <a href='https://wandb.ai/ayoubaamir0201-ensam-casablanca/5-flowers-classification' target=\"_blank\">https://wandb.ai/ayoubaamir0201-ensam-casablanca/5-flowers-classification</a><br>Synced 5 W&B file(s), 0 media file(s), 0 artifact file(s) and 0 other file(s)"
            ],
            "text/plain": [
              "<IPython.core.display.HTML object>"
            ]
          },
          "metadata": {},
          "output_type": "display_data"
        },
        {
          "data": {
            "text/html": [
              "Find logs at: <code>./wandb/run-20251001_051713-cuvnghnj/logs</code>"
            ],
            "text/plain": [
              "<IPython.core.display.HTML object>"
            ]
          },
          "metadata": {},
          "output_type": "display_data"
        },
        {
          "metadata": {
            "tags": null
          },
          "name": "stderr",
          "output_type": "stream",
          "text": [
            "\u001b[34m\u001b[1mwandb\u001b[0m: Agent Starting Run: qkwmaafp with config:\n",
            "\u001b[34m\u001b[1mwandb\u001b[0m: \tbatch_size: 16\n",
            "\u001b[34m\u001b[1mwandb\u001b[0m: \tepochs: 5\n",
            "\u001b[34m\u001b[1mwandb\u001b[0m: \thidden_nodes: 64\n",
            "\u001b[34m\u001b[1mwandb\u001b[0m: \timg_size: 224\n",
            "\u001b[34m\u001b[1mwandb\u001b[0m: \tlearning_rate: 0.001\n"
          ]
        },
        {
          "data": {
            "text/html": [],
            "text/plain": [
              "<IPython.core.display.HTML object>"
            ]
          },
          "metadata": {},
          "output_type": "display_data"
        },
        {
          "data": {
            "text/html": [
              "Tracking run with wandb version 0.21.4"
            ],
            "text/plain": [
              "<IPython.core.display.HTML object>"
            ]
          },
          "metadata": {},
          "output_type": "display_data"
        },
        {
          "data": {
            "text/html": [
              "Run data is saved locally in <code>/content/wandb/run-20251001_052712-qkwmaafp</code>"
            ],
            "text/plain": [
              "<IPython.core.display.HTML object>"
            ]
          },
          "metadata": {},
          "output_type": "display_data"
        },
        {
          "data": {
            "text/html": [
              "Syncing run <strong><a href='https://wandb.ai/ayoubaamir0201-ensam-casablanca/5-flowers-classification/runs/qkwmaafp' target=\"_blank\">deft-sweep-23</a></strong> to <a href='https://wandb.ai/ayoubaamir0201-ensam-casablanca/5-flowers-classification' target=\"_blank\">Weights & Biases</a> (<a href='https://wandb.me/developer-guide' target=\"_blank\">docs</a>)<br>Sweep page: <a href='https://wandb.ai/ayoubaamir0201-ensam-casablanca/5-flowers-classification/sweeps/tard0exk' target=\"_blank\">https://wandb.ai/ayoubaamir0201-ensam-casablanca/5-flowers-classification/sweeps/tard0exk</a>"
            ],
            "text/plain": [
              "<IPython.core.display.HTML object>"
            ]
          },
          "metadata": {},
          "output_type": "display_data"
        },
        {
          "data": {
            "text/html": [
              " View project at <a href='https://wandb.ai/ayoubaamir0201-ensam-casablanca/5-flowers-classification' target=\"_blank\">https://wandb.ai/ayoubaamir0201-ensam-casablanca/5-flowers-classification</a>"
            ],
            "text/plain": [
              "<IPython.core.display.HTML object>"
            ]
          },
          "metadata": {},
          "output_type": "display_data"
        },
        {
          "data": {
            "text/html": [
              " View sweep at <a href='https://wandb.ai/ayoubaamir0201-ensam-casablanca/5-flowers-classification/sweeps/tard0exk' target=\"_blank\">https://wandb.ai/ayoubaamir0201-ensam-casablanca/5-flowers-classification/sweeps/tard0exk</a>"
            ],
            "text/plain": [
              "<IPython.core.display.HTML object>"
            ]
          },
          "metadata": {},
          "output_type": "display_data"
        },
        {
          "data": {
            "text/html": [
              " View run at <a href='https://wandb.ai/ayoubaamir0201-ensam-casablanca/5-flowers-classification/runs/qkwmaafp' target=\"_blank\">https://wandb.ai/ayoubaamir0201-ensam-casablanca/5-flowers-classification/runs/qkwmaafp</a>"
            ],
            "text/plain": [
              "<IPython.core.display.HTML object>"
            ]
          },
          "metadata": {},
          "output_type": "display_data"
        },
        {
          "metadata": {
            "tags": null
          },
          "name": "stdout",
          "output_type": "stream",
          "text": [
            "Epoch 1/5\n",
            "\u001b[1m207/207\u001b[0m \u001b[32m━━━━━━━━━━━━━━━━━━━━\u001b[0m\u001b[37m\u001b[0m \u001b[1m140s\u001b[0m 668ms/step - accuracy: 0.2623 - loss: 13.7250 - val_accuracy: 0.3378 - val_loss: 6.1594\n",
            "Epoch 2/5\n",
            "\u001b[1m207/207\u001b[0m \u001b[32m━━━━━━━━━━━━━━━━━━━━\u001b[0m\u001b[37m\u001b[0m \u001b[1m141s\u001b[0m 681ms/step - accuracy: 0.3691 - loss: 3.6950 - val_accuracy: 0.3784 - val_loss: 2.6413\n",
            "Epoch 3/5\n",
            "\u001b[1m207/207\u001b[0m \u001b[32m━━━━━━━━━━━━━━━━━━━━\u001b[0m\u001b[37m\u001b[0m \u001b[1m138s\u001b[0m 661ms/step - accuracy: 0.3509 - loss: 2.7927 - val_accuracy: 0.2568 - val_loss: 1.5779\n",
            "Epoch 4/5\n",
            "\u001b[1m207/207\u001b[0m \u001b[32m━━━━━━━━━━━━━━━━━━━━\u001b[0m\u001b[37m\u001b[0m \u001b[1m142s\u001b[0m 683ms/step - accuracy: 0.3152 - loss: 1.5422 - val_accuracy: 0.2459 - val_loss: 1.5884\n",
            "Epoch 5/5\n",
            "\u001b[1m207/207\u001b[0m \u001b[32m━━━━━━━━━━━━━━━━━━━━\u001b[0m\u001b[37m\u001b[0m \u001b[1m139s\u001b[0m 667ms/step - accuracy: 0.2907 - loss: 1.5532 - val_accuracy: 0.2811 - val_loss: 1.5870\n"
          ]
        },
        {
          "data": {
            "text/html": [],
            "text/plain": [
              "<IPython.core.display.HTML object>"
            ]
          },
          "metadata": {},
          "output_type": "display_data"
        },
        {
          "data": {
            "text/html": [
              "<br>    <style><br>        .wandb-row {<br>            display: flex;<br>            flex-direction: row;<br>            flex-wrap: wrap;<br>            justify-content: flex-start;<br>            width: 100%;<br>        }<br>        .wandb-col {<br>            display: flex;<br>            flex-direction: column;<br>            flex-basis: 100%;<br>            flex: 1;<br>            padding: 10px;<br>        }<br>    </style><br><div class=\"wandb-row\"><div class=\"wandb-col\"><h3>Run history:</h3><br/><table class=\"wandb\"><tr><td>batch/accuracy</td><td>▁▂▃▃▃▃▃▃▃▄▅▄▄▄▄▅▅█▅▅▅▅▄▃▃▃▃▃▃▃▃▄▄▄▃▂▃▃▃▃</td></tr><tr><td>batch/batch_step</td><td>▁▁▁▁▁▂▂▃▃▃▃▃▄▄▄▄▄▄▅▅▅▅▅▆▆▆▆▆▆▆▇▇▇▇▇▇▇▇██</td></tr><tr><td>batch/learning_rate</td><td>▁▁▁▁▁▁▁▁▁▁▁▁▁▁▁▁▁▁▁▁▁▁▁▁▁▁▁▁▁▁▁▁▁▁▁▁▁▁▁▁</td></tr><tr><td>batch/loss</td><td>█▇▅▅▄▃▃▃▃▂▂▂▂▂▂▂▂▂▂▁▁▁▁▁▁▁▁▁▁▁▁▁▁▁▁▁▁▁▁▁</td></tr><tr><td>epoch/accuracy</td><td>▁█▁▃▂</td></tr><tr><td>epoch/epoch</td><td>▁▃▅▆█</td></tr><tr><td>epoch/learning_rate</td><td>▁▁▁▁▁</td></tr><tr><td>epoch/loss</td><td>█▃▂▁▁</td></tr><tr><td>epoch/val_accuracy</td><td>▆█▂▁▃</td></tr><tr><td>epoch/val_loss</td><td>█▃▁▁▁</td></tr></table><br/></div><div class=\"wandb-col\"><h3>Run summary:</h3><br/><table class=\"wandb\"><tr><td>batch/accuracy</td><td>0.30522</td></tr><tr><td>batch/batch_step</td><td>1045</td></tr><tr><td>batch/learning_rate</td><td>0.001</td></tr><tr><td>batch/loss</td><td>1.54877</td></tr><tr><td>epoch/accuracy</td><td>0.30545</td></tr><tr><td>epoch/epoch</td><td>4</td></tr><tr><td>epoch/learning_rate</td><td>0.001</td></tr><tr><td>epoch/loss</td><td>1.54881</td></tr><tr><td>epoch/val_accuracy</td><td>0.28108</td></tr><tr><td>epoch/val_loss</td><td>1.58697</td></tr></table><br/></div></div>"
            ],
            "text/plain": [
              "<IPython.core.display.HTML object>"
            ]
          },
          "metadata": {},
          "output_type": "display_data"
        },
        {
          "data": {
            "text/html": [
              " View run <strong style=\"color:#cdcd00\">deft-sweep-23</strong> at: <a href='https://wandb.ai/ayoubaamir0201-ensam-casablanca/5-flowers-classification/runs/qkwmaafp' target=\"_blank\">https://wandb.ai/ayoubaamir0201-ensam-casablanca/5-flowers-classification/runs/qkwmaafp</a><br> View project at: <a href='https://wandb.ai/ayoubaamir0201-ensam-casablanca/5-flowers-classification' target=\"_blank\">https://wandb.ai/ayoubaamir0201-ensam-casablanca/5-flowers-classification</a><br>Synced 5 W&B file(s), 0 media file(s), 0 artifact file(s) and 0 other file(s)"
            ],
            "text/plain": [
              "<IPython.core.display.HTML object>"
            ]
          },
          "metadata": {},
          "output_type": "display_data"
        },
        {
          "data": {
            "text/html": [
              "Find logs at: <code>./wandb/run-20251001_052712-qkwmaafp/logs</code>"
            ],
            "text/plain": [
              "<IPython.core.display.HTML object>"
            ]
          },
          "metadata": {},
          "output_type": "display_data"
        },
        {
          "metadata": {
            "tags": null
          },
          "name": "stderr",
          "output_type": "stream",
          "text": [
            "\u001b[34m\u001b[1mwandb\u001b[0m: Agent Starting Run: v6bika7g with config:\n",
            "\u001b[34m\u001b[1mwandb\u001b[0m: \tbatch_size: 16\n",
            "\u001b[34m\u001b[1mwandb\u001b[0m: \tepochs: 5\n",
            "\u001b[34m\u001b[1mwandb\u001b[0m: \thidden_nodes: 64\n",
            "\u001b[34m\u001b[1mwandb\u001b[0m: \timg_size: 224\n",
            "\u001b[34m\u001b[1mwandb\u001b[0m: \tlearning_rate: 0.0001\n"
          ]
        },
        {
          "data": {
            "text/html": [],
            "text/plain": [
              "<IPython.core.display.HTML object>"
            ]
          },
          "metadata": {},
          "output_type": "display_data"
        },
        {
          "data": {
            "text/html": [
              "Tracking run with wandb version 0.21.4"
            ],
            "text/plain": [
              "<IPython.core.display.HTML object>"
            ]
          },
          "metadata": {},
          "output_type": "display_data"
        },
        {
          "data": {
            "text/html": [
              "Run data is saved locally in <code>/content/wandb/run-20251001_053857-v6bika7g</code>"
            ],
            "text/plain": [
              "<IPython.core.display.HTML object>"
            ]
          },
          "metadata": {},
          "output_type": "display_data"
        },
        {
          "data": {
            "text/html": [
              "Syncing run <strong><a href='https://wandb.ai/ayoubaamir0201-ensam-casablanca/5-flowers-classification/runs/v6bika7g' target=\"_blank\">sweet-sweep-24</a></strong> to <a href='https://wandb.ai/ayoubaamir0201-ensam-casablanca/5-flowers-classification' target=\"_blank\">Weights & Biases</a> (<a href='https://wandb.me/developer-guide' target=\"_blank\">docs</a>)<br>Sweep page: <a href='https://wandb.ai/ayoubaamir0201-ensam-casablanca/5-flowers-classification/sweeps/tard0exk' target=\"_blank\">https://wandb.ai/ayoubaamir0201-ensam-casablanca/5-flowers-classification/sweeps/tard0exk</a>"
            ],
            "text/plain": [
              "<IPython.core.display.HTML object>"
            ]
          },
          "metadata": {},
          "output_type": "display_data"
        },
        {
          "data": {
            "text/html": [
              " View project at <a href='https://wandb.ai/ayoubaamir0201-ensam-casablanca/5-flowers-classification' target=\"_blank\">https://wandb.ai/ayoubaamir0201-ensam-casablanca/5-flowers-classification</a>"
            ],
            "text/plain": [
              "<IPython.core.display.HTML object>"
            ]
          },
          "metadata": {},
          "output_type": "display_data"
        },
        {
          "data": {
            "text/html": [
              " View sweep at <a href='https://wandb.ai/ayoubaamir0201-ensam-casablanca/5-flowers-classification/sweeps/tard0exk' target=\"_blank\">https://wandb.ai/ayoubaamir0201-ensam-casablanca/5-flowers-classification/sweeps/tard0exk</a>"
            ],
            "text/plain": [
              "<IPython.core.display.HTML object>"
            ]
          },
          "metadata": {},
          "output_type": "display_data"
        },
        {
          "data": {
            "text/html": [
              " View run at <a href='https://wandb.ai/ayoubaamir0201-ensam-casablanca/5-flowers-classification/runs/v6bika7g' target=\"_blank\">https://wandb.ai/ayoubaamir0201-ensam-casablanca/5-flowers-classification/runs/v6bika7g</a>"
            ],
            "text/plain": [
              "<IPython.core.display.HTML object>"
            ]
          },
          "metadata": {},
          "output_type": "display_data"
        },
        {
          "metadata": {
            "tags": null
          },
          "name": "stdout",
          "output_type": "stream",
          "text": [
            "Epoch 1/5\n",
            "\u001b[1m207/207\u001b[0m \u001b[32m━━━━━━━━━━━━━━━━━━━━\u001b[0m\u001b[37m\u001b[0m \u001b[1m141s\u001b[0m 676ms/step - accuracy: 0.2359 - loss: 13.1617 - val_accuracy: 0.2324 - val_loss: 1.6083\n",
            "Epoch 2/5\n",
            "\u001b[1m207/207\u001b[0m \u001b[32m━━━━━━━━━━━━━━━━━━━━\u001b[0m\u001b[37m\u001b[0m \u001b[1m141s\u001b[0m 671ms/step - accuracy: 0.2392 - loss: 1.6056 - val_accuracy: 0.2324 - val_loss: 1.6077\n",
            "Epoch 3/5\n",
            "\u001b[1m207/207\u001b[0m \u001b[32m━━━━━━━━━━━━━━━━━━━━\u001b[0m\u001b[37m\u001b[0m \u001b[1m138s\u001b[0m 666ms/step - accuracy: 0.2392 - loss: 1.6033 - val_accuracy: 0.2324 - val_loss: 1.6080\n",
            "Epoch 4/5\n",
            "\u001b[1m207/207\u001b[0m \u001b[32m━━━━━━━━━━━━━━━━━━━━\u001b[0m\u001b[37m\u001b[0m \u001b[1m200s\u001b[0m 966ms/step - accuracy: 0.2392 - loss: 1.6021 - val_accuracy: 0.2324 - val_loss: 1.6087\n",
            "Epoch 5/5\n",
            "\u001b[1m207/207\u001b[0m \u001b[32m━━━━━━━━━━━━━━━━━━━━\u001b[0m\u001b[37m\u001b[0m \u001b[1m141s\u001b[0m 681ms/step - accuracy: 0.2392 - loss: 1.6016 - val_accuracy: 0.2324 - val_loss: 1.6093\n"
          ]
        },
        {
          "data": {
            "text/html": [],
            "text/plain": [
              "<IPython.core.display.HTML object>"
            ]
          },
          "metadata": {},
          "output_type": "display_data"
        },
        {
          "data": {
            "text/html": [
              "<br>    <style><br>        .wandb-row {<br>            display: flex;<br>            flex-direction: row;<br>            flex-wrap: wrap;<br>            justify-content: flex-start;<br>            width: 100%;<br>        }<br>        .wandb-col {<br>            display: flex;<br>            flex-direction: column;<br>            flex-basis: 100%;<br>            flex: 1;<br>            padding: 10px;<br>        }<br>    </style><br><div class=\"wandb-row\"><div class=\"wandb-col\"><h3>Run history:</h3><br/><table class=\"wandb\"><tr><td>batch/accuracy</td><td>▂▂▂▂▂▂▂▃▃█▂▂▂▂▂▂▂▃▃▁▃▂▂▂▃▂▂▂▂▂▂▃▃█▂▂▂▃▃▃</td></tr><tr><td>batch/batch_step</td><td>▁▁▂▂▂▂▂▃▃▃▃▃▃▃▃▄▄▄▄▄▄▄▄▄▅▅▅▆▆▆▆▇▇▇▇▇████</td></tr><tr><td>batch/learning_rate</td><td>▁▁▁▁▁▁▁▁▁▁▁▁▁▁▁▁▁▁▁▁▁▁▁▁▁▁▁▁▁▁▁▁▁▁▁▁▁▁▁▁</td></tr><tr><td>batch/loss</td><td>█▇▆▃▃▂▂▂▂▂▁▁▁▁▁▁▁▁▁▁▁▁▁▁▁▁▁▁▁▁▁▁▁▁▁▁▁▁▁▁</td></tr><tr><td>epoch/accuracy</td><td>▁████</td></tr><tr><td>epoch/epoch</td><td>▁▃▅▆█</td></tr><tr><td>epoch/learning_rate</td><td>▁▁▁▁▁</td></tr><tr><td>epoch/loss</td><td>█▁▁▁▁</td></tr><tr><td>epoch/val_accuracy</td><td>▁▁▁▁▁</td></tr><tr><td>epoch/val_loss</td><td>▄▁▂▅█</td></tr></table><br/></div><div class=\"wandb-col\"><h3>Run summary:</h3><br/><table class=\"wandb\"><tr><td>batch/accuracy</td><td>0.24545</td></tr><tr><td>batch/batch_step</td><td>1045</td></tr><tr><td>batch/learning_rate</td><td>0.001</td></tr><tr><td>batch/loss</td><td>1.59983</td></tr><tr><td>epoch/accuracy</td><td>0.24576</td></tr><tr><td>epoch/epoch</td><td>4</td></tr><tr><td>epoch/learning_rate</td><td>0.001</td></tr><tr><td>epoch/loss</td><td>1.5998</td></tr><tr><td>epoch/val_accuracy</td><td>0.23243</td></tr><tr><td>epoch/val_loss</td><td>1.60934</td></tr></table><br/></div></div>"
            ],
            "text/plain": [
              "<IPython.core.display.HTML object>"
            ]
          },
          "metadata": {},
          "output_type": "display_data"
        },
        {
          "data": {
            "text/html": [
              " View run <strong style=\"color:#cdcd00\">sweet-sweep-24</strong> at: <a href='https://wandb.ai/ayoubaamir0201-ensam-casablanca/5-flowers-classification/runs/v6bika7g' target=\"_blank\">https://wandb.ai/ayoubaamir0201-ensam-casablanca/5-flowers-classification/runs/v6bika7g</a><br> View project at: <a href='https://wandb.ai/ayoubaamir0201-ensam-casablanca/5-flowers-classification' target=\"_blank\">https://wandb.ai/ayoubaamir0201-ensam-casablanca/5-flowers-classification</a><br>Synced 5 W&B file(s), 0 media file(s), 0 artifact file(s) and 0 other file(s)"
            ],
            "text/plain": [
              "<IPython.core.display.HTML object>"
            ]
          },
          "metadata": {},
          "output_type": "display_data"
        },
        {
          "data": {
            "text/html": [
              "Find logs at: <code>./wandb/run-20251001_053857-v6bika7g/logs</code>"
            ],
            "text/plain": [
              "<IPython.core.display.HTML object>"
            ]
          },
          "metadata": {},
          "output_type": "display_data"
        },
        {
          "metadata": {
            "tags": null
          },
          "name": "stderr",
          "output_type": "stream",
          "text": [
            "\u001b[34m\u001b[1mwandb\u001b[0m: Agent Starting Run: 0er0knno with config:\n",
            "\u001b[34m\u001b[1mwandb\u001b[0m: \tbatch_size: 16\n",
            "\u001b[34m\u001b[1mwandb\u001b[0m: \tepochs: 10\n",
            "\u001b[34m\u001b[1mwandb\u001b[0m: \thidden_nodes: 128\n",
            "\u001b[34m\u001b[1mwandb\u001b[0m: \timg_size: 16\n",
            "\u001b[34m\u001b[1mwandb\u001b[0m: \tlearning_rate: 0.001\n"
          ]
        },
        {
          "data": {
            "text/html": [],
            "text/plain": [
              "<IPython.core.display.HTML object>"
            ]
          },
          "metadata": {},
          "output_type": "display_data"
        },
        {
          "data": {
            "text/html": [
              "Tracking run with wandb version 0.21.4"
            ],
            "text/plain": [
              "<IPython.core.display.HTML object>"
            ]
          },
          "metadata": {},
          "output_type": "display_data"
        },
        {
          "data": {
            "text/html": [
              "Run data is saved locally in <code>/content/wandb/run-20251001_055142-0er0knno</code>"
            ],
            "text/plain": [
              "<IPython.core.display.HTML object>"
            ]
          },
          "metadata": {},
          "output_type": "display_data"
        },
        {
          "data": {
            "text/html": [
              "Syncing run <strong><a href='https://wandb.ai/ayoubaamir0201-ensam-casablanca/5-flowers-classification/runs/0er0knno' target=\"_blank\">skilled-sweep-25</a></strong> to <a href='https://wandb.ai/ayoubaamir0201-ensam-casablanca/5-flowers-classification' target=\"_blank\">Weights & Biases</a> (<a href='https://wandb.me/developer-guide' target=\"_blank\">docs</a>)<br>Sweep page: <a href='https://wandb.ai/ayoubaamir0201-ensam-casablanca/5-flowers-classification/sweeps/tard0exk' target=\"_blank\">https://wandb.ai/ayoubaamir0201-ensam-casablanca/5-flowers-classification/sweeps/tard0exk</a>"
            ],
            "text/plain": [
              "<IPython.core.display.HTML object>"
            ]
          },
          "metadata": {},
          "output_type": "display_data"
        },
        {
          "data": {
            "text/html": [
              " View project at <a href='https://wandb.ai/ayoubaamir0201-ensam-casablanca/5-flowers-classification' target=\"_blank\">https://wandb.ai/ayoubaamir0201-ensam-casablanca/5-flowers-classification</a>"
            ],
            "text/plain": [
              "<IPython.core.display.HTML object>"
            ]
          },
          "metadata": {},
          "output_type": "display_data"
        },
        {
          "data": {
            "text/html": [
              " View sweep at <a href='https://wandb.ai/ayoubaamir0201-ensam-casablanca/5-flowers-classification/sweeps/tard0exk' target=\"_blank\">https://wandb.ai/ayoubaamir0201-ensam-casablanca/5-flowers-classification/sweeps/tard0exk</a>"
            ],
            "text/plain": [
              "<IPython.core.display.HTML object>"
            ]
          },
          "metadata": {},
          "output_type": "display_data"
        },
        {
          "data": {
            "text/html": [
              " View run at <a href='https://wandb.ai/ayoubaamir0201-ensam-casablanca/5-flowers-classification/runs/0er0knno' target=\"_blank\">https://wandb.ai/ayoubaamir0201-ensam-casablanca/5-flowers-classification/runs/0er0knno</a>"
            ],
            "text/plain": [
              "<IPython.core.display.HTML object>"
            ]
          },
          "metadata": {},
          "output_type": "display_data"
        },
        {
          "metadata": {
            "tags": null
          },
          "name": "stdout",
          "output_type": "stream",
          "text": [
            "Epoch 1/10\n",
            "\u001b[1m207/207\u001b[0m \u001b[32m━━━━━━━━━━━━━━━━━━━━\u001b[0m\u001b[37m\u001b[0m \u001b[1m114s\u001b[0m 549ms/step - accuracy: 0.3596 - loss: 1.4899 - val_accuracy: 0.4324 - val_loss: 1.2827\n",
            "Epoch 2/10\n",
            "\u001b[1m207/207\u001b[0m \u001b[32m━━━━━━━━━━━━━━━━━━━━\u001b[0m\u001b[37m\u001b[0m \u001b[1m143s\u001b[0m 692ms/step - accuracy: 0.4383 - loss: 1.2762 - val_accuracy: 0.4568 - val_loss: 1.2262\n",
            "Epoch 3/10\n",
            "\u001b[1m207/207\u001b[0m \u001b[32m━━━━━━━━━━━━━━━━━━━━\u001b[0m\u001b[37m\u001b[0m \u001b[1m113s\u001b[0m 548ms/step - accuracy: 0.4876 - loss: 1.2139 - val_accuracy: 0.4568 - val_loss: 1.2109\n",
            "Epoch 4/10\n",
            "\u001b[1m207/207\u001b[0m \u001b[32m━━━━━━━━━━━━━━━━━━━━\u001b[0m\u001b[37m\u001b[0m \u001b[1m118s\u001b[0m 568ms/step - accuracy: 0.5061 - loss: 1.1666 - val_accuracy: 0.4757 - val_loss: 1.1975\n",
            "Epoch 5/10\n",
            "\u001b[1m207/207\u001b[0m \u001b[32m━━━━━━━━━━━━━━━━━━━━\u001b[0m\u001b[37m\u001b[0m \u001b[1m116s\u001b[0m 559ms/step - accuracy: 0.5272 - loss: 1.1305 - val_accuracy: 0.4811 - val_loss: 1.2030\n",
            "Epoch 6/10\n",
            "\u001b[1m207/207\u001b[0m \u001b[32m━━━━━━━━━━━━━━━━━━━━\u001b[0m\u001b[37m\u001b[0m \u001b[1m116s\u001b[0m 561ms/step - accuracy: 0.5534 - loss: 1.0866 - val_accuracy: 0.4622 - val_loss: 1.2150\n",
            "Epoch 7/10\n",
            "\u001b[1m207/207\u001b[0m \u001b[32m━━━━━━━━━━━━━━━━━━━━\u001b[0m\u001b[37m\u001b[0m \u001b[1m116s\u001b[0m 559ms/step - accuracy: 0.5663 - loss: 1.0524 - val_accuracy: 0.4595 - val_loss: 1.2521\n",
            "Epoch 8/10\n",
            "\u001b[1m207/207\u001b[0m \u001b[32m━━━━━━━━━━━━━━━━━━━━\u001b[0m\u001b[37m\u001b[0m \u001b[1m141s\u001b[0m 554ms/step - accuracy: 0.5812 - loss: 1.0266 - val_accuracy: 0.4838 - val_loss: 1.2470\n",
            "Epoch 9/10\n",
            "\u001b[1m207/207\u001b[0m \u001b[32m━━━━━━━━━━━━━━━━━━━━\u001b[0m\u001b[37m\u001b[0m \u001b[1m111s\u001b[0m 535ms/step - accuracy: 0.6024 - loss: 0.9984 - val_accuracy: 0.4811 - val_loss: 1.2394\n",
            "Epoch 10/10\n",
            "\u001b[1m207/207\u001b[0m \u001b[32m━━━━━━━━━━━━━━━━━━━━\u001b[0m\u001b[37m\u001b[0m \u001b[1m116s\u001b[0m 561ms/step - accuracy: 0.6295 - loss: 0.9567 - val_accuracy: 0.4919 - val_loss: 1.2516\n"
          ]
        },
        {
          "data": {
            "text/html": [],
            "text/plain": [
              "<IPython.core.display.HTML object>"
            ]
          },
          "metadata": {},
          "output_type": "display_data"
        },
        {
          "data": {
            "text/html": [
              "<br>    <style><br>        .wandb-row {<br>            display: flex;<br>            flex-direction: row;<br>            flex-wrap: wrap;<br>            justify-content: flex-start;<br>            width: 100%;<br>        }<br>        .wandb-col {<br>            display: flex;<br>            flex-direction: column;<br>            flex-basis: 100%;<br>            flex: 1;<br>            padding: 10px;<br>        }<br>    </style><br><div class=\"wandb-row\"><div class=\"wandb-col\"><h3>Run history:</h3><br/><table class=\"wandb\"><tr><td>batch/accuracy</td><td>▁▂▂▃▃▄▄▅▅▅▅▅▅▅▅▅▆▆▆▆▆▆▆▆▆▇▇▇▇▆▆▆▇▇▇▇▇███</td></tr><tr><td>batch/batch_step</td><td>▁▁▁▁▁▁▁▂▂▂▂▂▃▃▃▄▄▄▄▄▄▄▄▅▅▅▅▅▆▆▆▆▇▇▇▇████</td></tr><tr><td>batch/learning_rate</td><td>▁▁▁▁▁▁▁▁▁▁▁▁▁▁▁▁▁▁▁▁▁▁▁▁▁▁▁▁▁▁▁▁▁▁▁▁▁▁▁▁</td></tr><tr><td>batch/loss</td><td>███▆▅▅▅▄▅▄▅▄▄▅▄▄▄▄▄▄▃▂▃▃▃▂▂▂▂▂▂▂▂▂▂▁▂▂▁▁</td></tr><tr><td>epoch/accuracy</td><td>▁▃▄▅▅▆▆▇▇█</td></tr><tr><td>epoch/epoch</td><td>▁▂▃▃▄▅▆▆▇█</td></tr><tr><td>epoch/learning_rate</td><td>▁▁▁▁▁▁▁▁▁▁</td></tr><tr><td>epoch/loss</td><td>█▆▅▄▄▃▂▂▂▁</td></tr><tr><td>epoch/val_accuracy</td><td>▁▄▄▆▇▅▄▇▇█</td></tr><tr><td>epoch/val_loss</td><td>█▃▂▁▁▂▅▅▄▅</td></tr></table><br/></div><div class=\"wandb-col\"><h3>Run summary:</h3><br/><table class=\"wandb\"><tr><td>batch/accuracy</td><td>0.63532</td></tr><tr><td>batch/batch_step</td><td>2095</td></tr><tr><td>batch/learning_rate</td><td>0.001</td></tr><tr><td>batch/loss</td><td>0.95422</td></tr><tr><td>epoch/accuracy</td><td>0.63545</td></tr><tr><td>epoch/epoch</td><td>9</td></tr><tr><td>epoch/learning_rate</td><td>0.001</td></tr><tr><td>epoch/loss</td><td>0.95398</td></tr><tr><td>epoch/val_accuracy</td><td>0.49189</td></tr><tr><td>epoch/val_loss</td><td>1.25162</td></tr></table><br/></div></div>"
            ],
            "text/plain": [
              "<IPython.core.display.HTML object>"
            ]
          },
          "metadata": {},
          "output_type": "display_data"
        },
        {
          "data": {
            "text/html": [
              " View run <strong style=\"color:#cdcd00\">skilled-sweep-25</strong> at: <a href='https://wandb.ai/ayoubaamir0201-ensam-casablanca/5-flowers-classification/runs/0er0knno' target=\"_blank\">https://wandb.ai/ayoubaamir0201-ensam-casablanca/5-flowers-classification/runs/0er0knno</a><br> View project at: <a href='https://wandb.ai/ayoubaamir0201-ensam-casablanca/5-flowers-classification' target=\"_blank\">https://wandb.ai/ayoubaamir0201-ensam-casablanca/5-flowers-classification</a><br>Synced 5 W&B file(s), 0 media file(s), 0 artifact file(s) and 0 other file(s)"
            ],
            "text/plain": [
              "<IPython.core.display.HTML object>"
            ]
          },
          "metadata": {},
          "output_type": "display_data"
        },
        {
          "data": {
            "text/html": [
              "Find logs at: <code>./wandb/run-20251001_055142-0er0knno/logs</code>"
            ],
            "text/plain": [
              "<IPython.core.display.HTML object>"
            ]
          },
          "metadata": {},
          "output_type": "display_data"
        },
        {
          "metadata": {
            "tags": null
          },
          "name": "stderr",
          "output_type": "stream",
          "text": [
            "\u001b[34m\u001b[1mwandb\u001b[0m: Agent Starting Run: c4pdf0ak with config:\n",
            "\u001b[34m\u001b[1mwandb\u001b[0m: \tbatch_size: 16\n",
            "\u001b[34m\u001b[1mwandb\u001b[0m: \tepochs: 10\n",
            "\u001b[34m\u001b[1mwandb\u001b[0m: \thidden_nodes: 128\n",
            "\u001b[34m\u001b[1mwandb\u001b[0m: \timg_size: 16\n",
            "\u001b[34m\u001b[1mwandb\u001b[0m: \tlearning_rate: 0.0001\n"
          ]
        },
        {
          "data": {
            "text/html": [],
            "text/plain": [
              "<IPython.core.display.HTML object>"
            ]
          },
          "metadata": {},
          "output_type": "display_data"
        },
        {
          "data": {
            "text/html": [
              "Tracking run with wandb version 0.21.4"
            ],
            "text/plain": [
              "<IPython.core.display.HTML object>"
            ]
          },
          "metadata": {},
          "output_type": "display_data"
        },
        {
          "data": {
            "text/html": [
              "Run data is saved locally in <code>/content/wandb/run-20251001_061149-c4pdf0ak</code>"
            ],
            "text/plain": [
              "<IPython.core.display.HTML object>"
            ]
          },
          "metadata": {},
          "output_type": "display_data"
        },
        {
          "data": {
            "text/html": [
              "Syncing run <strong><a href='https://wandb.ai/ayoubaamir0201-ensam-casablanca/5-flowers-classification/runs/c4pdf0ak' target=\"_blank\">comic-sweep-26</a></strong> to <a href='https://wandb.ai/ayoubaamir0201-ensam-casablanca/5-flowers-classification' target=\"_blank\">Weights & Biases</a> (<a href='https://wandb.me/developer-guide' target=\"_blank\">docs</a>)<br>Sweep page: <a href='https://wandb.ai/ayoubaamir0201-ensam-casablanca/5-flowers-classification/sweeps/tard0exk' target=\"_blank\">https://wandb.ai/ayoubaamir0201-ensam-casablanca/5-flowers-classification/sweeps/tard0exk</a>"
            ],
            "text/plain": [
              "<IPython.core.display.HTML object>"
            ]
          },
          "metadata": {},
          "output_type": "display_data"
        },
        {
          "data": {
            "text/html": [
              " View project at <a href='https://wandb.ai/ayoubaamir0201-ensam-casablanca/5-flowers-classification' target=\"_blank\">https://wandb.ai/ayoubaamir0201-ensam-casablanca/5-flowers-classification</a>"
            ],
            "text/plain": [
              "<IPython.core.display.HTML object>"
            ]
          },
          "metadata": {},
          "output_type": "display_data"
        },
        {
          "data": {
            "text/html": [
              " View sweep at <a href='https://wandb.ai/ayoubaamir0201-ensam-casablanca/5-flowers-classification/sweeps/tard0exk' target=\"_blank\">https://wandb.ai/ayoubaamir0201-ensam-casablanca/5-flowers-classification/sweeps/tard0exk</a>"
            ],
            "text/plain": [
              "<IPython.core.display.HTML object>"
            ]
          },
          "metadata": {},
          "output_type": "display_data"
        },
        {
          "data": {
            "text/html": [
              " View run at <a href='https://wandb.ai/ayoubaamir0201-ensam-casablanca/5-flowers-classification/runs/c4pdf0ak' target=\"_blank\">https://wandb.ai/ayoubaamir0201-ensam-casablanca/5-flowers-classification/runs/c4pdf0ak</a>"
            ],
            "text/plain": [
              "<IPython.core.display.HTML object>"
            ]
          },
          "metadata": {},
          "output_type": "display_data"
        },
        {
          "metadata": {
            "tags": null
          },
          "name": "stdout",
          "output_type": "stream",
          "text": [
            "Epoch 1/10\n",
            "\u001b[1m207/207\u001b[0m \u001b[32m━━━━━━━━━━━━━━━━━━━━\u001b[0m\u001b[37m\u001b[0m \u001b[1m122s\u001b[0m 576ms/step - accuracy: 0.3466 - loss: 1.4622 - val_accuracy: 0.4270 - val_loss: 1.2598\n",
            "Epoch 2/10\n",
            "\u001b[1m207/207\u001b[0m \u001b[32m━━━━━━━━━━━━━━━━━━━━\u001b[0m\u001b[37m\u001b[0m \u001b[1m143s\u001b[0m 691ms/step - accuracy: 0.4417 - loss: 1.2582 - val_accuracy: 0.4568 - val_loss: 1.2286\n",
            "Epoch 3/10\n",
            "\u001b[1m207/207\u001b[0m \u001b[32m━━━━━━━━━━━━━━━━━━━━\u001b[0m\u001b[37m\u001b[0m \u001b[1m115s\u001b[0m 557ms/step - accuracy: 0.4717 - loss: 1.2094 - val_accuracy: 0.4622 - val_loss: 1.1958\n",
            "Epoch 4/10\n",
            "\u001b[1m207/207\u001b[0m \u001b[32m━━━━━━━━━━━━━━━━━━━━\u001b[0m\u001b[37m\u001b[0m \u001b[1m109s\u001b[0m 527ms/step - accuracy: 0.5129 - loss: 1.1627 - val_accuracy: 0.4757 - val_loss: 1.1912\n",
            "Epoch 5/10\n",
            "\u001b[1m207/207\u001b[0m \u001b[32m━━━━━━━━━━━━━━━━━━━━\u001b[0m\u001b[37m\u001b[0m \u001b[1m110s\u001b[0m 529ms/step - accuracy: 0.5367 - loss: 1.1161 - val_accuracy: 0.4973 - val_loss: 1.1837\n",
            "Epoch 6/10\n",
            "\u001b[1m207/207\u001b[0m \u001b[32m━━━━━━━━━━━━━━━━━━━━\u001b[0m\u001b[37m\u001b[0m \u001b[1m113s\u001b[0m 547ms/step - accuracy: 0.5574 - loss: 1.0796 - val_accuracy: 0.4811 - val_loss: 1.2029\n",
            "Epoch 7/10\n",
            "\u001b[1m207/207\u001b[0m \u001b[32m━━━━━━━━━━━━━━━━━━━━\u001b[0m\u001b[37m\u001b[0m \u001b[1m114s\u001b[0m 552ms/step - accuracy: 0.5785 - loss: 1.0437 - val_accuracy: 0.4784 - val_loss: 1.2001\n",
            "Epoch 8/10\n",
            "\u001b[1m207/207\u001b[0m \u001b[32m━━━━━━━━━━━━━━━━━━━━\u001b[0m\u001b[37m\u001b[0m \u001b[1m113s\u001b[0m 546ms/step - accuracy: 0.5979 - loss: 1.0031 - val_accuracy: 0.4784 - val_loss: 1.2132\n",
            "Epoch 9/10\n",
            "\u001b[1m207/207\u001b[0m \u001b[32m━━━━━━━━━━━━━━━━━━━━\u001b[0m\u001b[37m\u001b[0m \u001b[1m112s\u001b[0m 538ms/step - accuracy: 0.6246 - loss: 0.9632 - val_accuracy: 0.4811 - val_loss: 1.2228\n",
            "Epoch 10/10\n",
            "\u001b[1m207/207\u001b[0m \u001b[32m━━━━━━━━━━━━━━━━━━━━\u001b[0m\u001b[37m\u001b[0m \u001b[1m111s\u001b[0m 533ms/step - accuracy: 0.6370 - loss: 0.9294 - val_accuracy: 0.4919 - val_loss: 1.2320\n"
          ]
        },
        {
          "data": {
            "text/html": [],
            "text/plain": [
              "<IPython.core.display.HTML object>"
            ]
          },
          "metadata": {},
          "output_type": "display_data"
        },
        {
          "data": {
            "text/html": [
              "<br>    <style><br>        .wandb-row {<br>            display: flex;<br>            flex-direction: row;<br>            flex-wrap: wrap;<br>            justify-content: flex-start;<br>            width: 100%;<br>        }<br>        .wandb-col {<br>            display: flex;<br>            flex-direction: column;<br>            flex-basis: 100%;<br>            flex: 1;<br>            padding: 10px;<br>        }<br>    </style><br><div class=\"wandb-row\"><div class=\"wandb-col\"><h3>Run history:</h3><br/><table class=\"wandb\"><tr><td>batch/accuracy</td><td>▁▁▂▂▃▃▄▄▄▄▅▅▅▅▅▅▅▅▅▅▅▅▆▆▆▆█▅▆▆▆▆▆▆▆▇▇▇▇▇</td></tr><tr><td>batch/batch_step</td><td>▁▁▂▂▂▂▂▃▃▃▃▃▄▄▄▅▅▅▅▅▅▅▆▆▆▆▆▆▆▆▇▇▇▇▇▇▇███</td></tr><tr><td>batch/learning_rate</td><td>▁▁▁▁▁▁▁▁▁▁▁▁▁▁▁▁▁▁▁▁▁▁▁▁▁▁▁▁▁▁▁▁▁▁▁▁▁▁▁▁</td></tr><tr><td>batch/loss</td><td>▇█▇▆▆▅▅▄▄▄▄▄▄▄▄▃▃▃▃▃▃▃▃▃▂▃▂▂▂▂▂▂▂▂▁▁▁▁▁▁</td></tr><tr><td>epoch/accuracy</td><td>▁▃▄▅▅▆▇▇██</td></tr><tr><td>epoch/epoch</td><td>▁▂▃▃▄▅▆▆▇█</td></tr><tr><td>epoch/learning_rate</td><td>▁▁▁▁▁▁▁▁▁▁</td></tr><tr><td>epoch/loss</td><td>█▆▅▄▄▃▃▂▂▁</td></tr><tr><td>epoch/val_accuracy</td><td>▁▄▅▆█▆▆▆▆▇</td></tr><tr><td>epoch/val_loss</td><td>█▅▂▂▁▃▃▄▅▅</td></tr></table><br/></div><div class=\"wandb-col\"><h3>Run summary:</h3><br/><table class=\"wandb\"><tr><td>batch/accuracy</td><td>0.63744</td></tr><tr><td>batch/batch_step</td><td>2095</td></tr><tr><td>batch/learning_rate</td><td>0.001</td></tr><tr><td>batch/loss</td><td>0.93003</td></tr><tr><td>epoch/accuracy</td><td>0.63758</td></tr><tr><td>epoch/epoch</td><td>9</td></tr><tr><td>epoch/learning_rate</td><td>0.001</td></tr><tr><td>epoch/loss</td><td>0.92989</td></tr><tr><td>epoch/val_accuracy</td><td>0.49189</td></tr><tr><td>epoch/val_loss</td><td>1.23205</td></tr></table><br/></div></div>"
            ],
            "text/plain": [
              "<IPython.core.display.HTML object>"
            ]
          },
          "metadata": {},
          "output_type": "display_data"
        },
        {
          "data": {
            "text/html": [
              " View run <strong style=\"color:#cdcd00\">comic-sweep-26</strong> at: <a href='https://wandb.ai/ayoubaamir0201-ensam-casablanca/5-flowers-classification/runs/c4pdf0ak' target=\"_blank\">https://wandb.ai/ayoubaamir0201-ensam-casablanca/5-flowers-classification/runs/c4pdf0ak</a><br> View project at: <a href='https://wandb.ai/ayoubaamir0201-ensam-casablanca/5-flowers-classification' target=\"_blank\">https://wandb.ai/ayoubaamir0201-ensam-casablanca/5-flowers-classification</a><br>Synced 5 W&B file(s), 0 media file(s), 0 artifact file(s) and 0 other file(s)"
            ],
            "text/plain": [
              "<IPython.core.display.HTML object>"
            ]
          },
          "metadata": {},
          "output_type": "display_data"
        },
        {
          "data": {
            "text/html": [
              "Find logs at: <code>./wandb/run-20251001_061149-c4pdf0ak/logs</code>"
            ],
            "text/plain": [
              "<IPython.core.display.HTML object>"
            ]
          },
          "metadata": {},
          "output_type": "display_data"
        },
        {
          "metadata": {
            "tags": null
          },
          "name": "stderr",
          "output_type": "stream",
          "text": [
            "\u001b[34m\u001b[1mwandb\u001b[0m: Agent Starting Run: q3hhg5mc with config:\n",
            "\u001b[34m\u001b[1mwandb\u001b[0m: \tbatch_size: 16\n",
            "\u001b[34m\u001b[1mwandb\u001b[0m: \tepochs: 10\n",
            "\u001b[34m\u001b[1mwandb\u001b[0m: \thidden_nodes: 128\n",
            "\u001b[34m\u001b[1mwandb\u001b[0m: \timg_size: 224\n",
            "\u001b[34m\u001b[1mwandb\u001b[0m: \tlearning_rate: 0.001\n"
          ]
        },
        {
          "data": {
            "text/html": [],
            "text/plain": [
              "<IPython.core.display.HTML object>"
            ]
          },
          "metadata": {},
          "output_type": "display_data"
        },
        {
          "data": {
            "text/html": [
              "Tracking run with wandb version 0.21.4"
            ],
            "text/plain": [
              "<IPython.core.display.HTML object>"
            ]
          },
          "metadata": {},
          "output_type": "display_data"
        },
        {
          "data": {
            "text/html": [
              "Run data is saved locally in <code>/content/wandb/run-20251001_063115-q3hhg5mc</code>"
            ],
            "text/plain": [
              "<IPython.core.display.HTML object>"
            ]
          },
          "metadata": {},
          "output_type": "display_data"
        },
        {
          "data": {
            "text/html": [
              "Syncing run <strong><a href='https://wandb.ai/ayoubaamir0201-ensam-casablanca/5-flowers-classification/runs/q3hhg5mc' target=\"_blank\">faithful-sweep-27</a></strong> to <a href='https://wandb.ai/ayoubaamir0201-ensam-casablanca/5-flowers-classification' target=\"_blank\">Weights & Biases</a> (<a href='https://wandb.me/developer-guide' target=\"_blank\">docs</a>)<br>Sweep page: <a href='https://wandb.ai/ayoubaamir0201-ensam-casablanca/5-flowers-classification/sweeps/tard0exk' target=\"_blank\">https://wandb.ai/ayoubaamir0201-ensam-casablanca/5-flowers-classification/sweeps/tard0exk</a>"
            ],
            "text/plain": [
              "<IPython.core.display.HTML object>"
            ]
          },
          "metadata": {},
          "output_type": "display_data"
        },
        {
          "data": {
            "text/html": [
              " View project at <a href='https://wandb.ai/ayoubaamir0201-ensam-casablanca/5-flowers-classification' target=\"_blank\">https://wandb.ai/ayoubaamir0201-ensam-casablanca/5-flowers-classification</a>"
            ],
            "text/plain": [
              "<IPython.core.display.HTML object>"
            ]
          },
          "metadata": {},
          "output_type": "display_data"
        },
        {
          "data": {
            "text/html": [
              " View sweep at <a href='https://wandb.ai/ayoubaamir0201-ensam-casablanca/5-flowers-classification/sweeps/tard0exk' target=\"_blank\">https://wandb.ai/ayoubaamir0201-ensam-casablanca/5-flowers-classification/sweeps/tard0exk</a>"
            ],
            "text/plain": [
              "<IPython.core.display.HTML object>"
            ]
          },
          "metadata": {},
          "output_type": "display_data"
        },
        {
          "data": {
            "text/html": [
              " View run at <a href='https://wandb.ai/ayoubaamir0201-ensam-casablanca/5-flowers-classification/runs/q3hhg5mc' target=\"_blank\">https://wandb.ai/ayoubaamir0201-ensam-casablanca/5-flowers-classification/runs/q3hhg5mc</a>"
            ],
            "text/plain": [
              "<IPython.core.display.HTML object>"
            ]
          },
          "metadata": {},
          "output_type": "display_data"
        },
        {
          "metadata": {
            "tags": null
          },
          "name": "stdout",
          "output_type": "stream",
          "text": [
            "Epoch 1/10\n",
            "\u001b[1m207/207\u001b[0m \u001b[32m━━━━━━━━━━━━━━━━━━━━\u001b[0m\u001b[37m\u001b[0m \u001b[1m162s\u001b[0m 771ms/step - accuracy: 0.3082 - loss: 21.3820 - val_accuracy: 0.4162 - val_loss: 5.0831\n",
            "Epoch 2/10\n",
            "\u001b[1m207/207\u001b[0m \u001b[32m━━━━━━━━━━━━━━━━━━━━\u001b[0m\u001b[37m\u001b[0m \u001b[1m175s\u001b[0m 847ms/step - accuracy: 0.4033 - loss: 6.0536 - val_accuracy: 0.4135 - val_loss: 3.5270\n",
            "Epoch 3/10\n",
            "\u001b[1m207/207\u001b[0m \u001b[32m━━━━━━━━━━━━━━━━━━━━\u001b[0m\u001b[37m\u001b[0m \u001b[1m202s\u001b[0m 977ms/step - accuracy: 0.4404 - loss: 2.9481 - val_accuracy: 0.3568 - val_loss: 2.8575\n",
            "Epoch 4/10\n",
            "\u001b[1m207/207\u001b[0m \u001b[32m━━━━━━━━━━━━━━━━━━━━\u001b[0m\u001b[37m\u001b[0m \u001b[1m261s\u001b[0m 1s/step - accuracy: 0.4422 - loss: 2.1761 - val_accuracy: 0.2892 - val_loss: 1.5790\n",
            "Epoch 5/10\n",
            "\u001b[1m207/207\u001b[0m \u001b[32m━━━━━━━━━━━━━━━━━━━━\u001b[0m\u001b[37m\u001b[0m \u001b[1m161s\u001b[0m 779ms/step - accuracy: 0.3210 - loss: 1.5219 - val_accuracy: 0.2541 - val_loss: 1.6118\n",
            "Epoch 6/10\n",
            "\u001b[1m207/207\u001b[0m \u001b[32m━━━━━━━━━━━━━━━━━━━━\u001b[0m\u001b[37m\u001b[0m \u001b[1m201s\u001b[0m 971ms/step - accuracy: 0.2513 - loss: 1.6045 - val_accuracy: 0.2000 - val_loss: 1.5956\n",
            "Epoch 7/10\n",
            "\u001b[1m207/207\u001b[0m \u001b[32m━━━━━━━━━━━━━━━━━━━━\u001b[0m\u001b[37m\u001b[0m \u001b[1m202s\u001b[0m 969ms/step - accuracy: 0.2894 - loss: 1.5369 - val_accuracy: 0.2649 - val_loss: 1.5787\n",
            "Epoch 8/10\n",
            "\u001b[1m207/207\u001b[0m \u001b[32m━━━━━━━━━━━━━━━━━━━━\u001b[0m\u001b[37m\u001b[0m \u001b[1m202s\u001b[0m 978ms/step - accuracy: 0.2665 - loss: 1.5441 - val_accuracy: 0.2405 - val_loss: 1.5929\n",
            "Epoch 9/10\n",
            "\u001b[1m207/207\u001b[0m \u001b[32m━━━━━━━━━━━━━━━━━━━━\u001b[0m\u001b[37m\u001b[0m \u001b[1m156s\u001b[0m 752ms/step - accuracy: 0.2741 - loss: 1.5378 - val_accuracy: 0.1973 - val_loss: 1.5826\n",
            "Epoch 10/10\n",
            "\u001b[1m207/207\u001b[0m \u001b[32m━━━━━━━━━━━━━━━━━━━━\u001b[0m\u001b[37m\u001b[0m \u001b[1m202s\u001b[0m 974ms/step - accuracy: 0.2654 - loss: 1.5494 - val_accuracy: 0.2378 - val_loss: 1.6037\n"
          ]
        },
        {
          "data": {
            "text/html": [],
            "text/plain": [
              "<IPython.core.display.HTML object>"
            ]
          },
          "metadata": {},
          "output_type": "display_data"
        },
        {
          "data": {
            "text/html": [
              "<br>    <style><br>        .wandb-row {<br>            display: flex;<br>            flex-direction: row;<br>            flex-wrap: wrap;<br>            justify-content: flex-start;<br>            width: 100%;<br>        }<br>        .wandb-col {<br>            display: flex;<br>            flex-direction: column;<br>            flex-basis: 100%;<br>            flex: 1;<br>            padding: 10px;<br>        }<br>    </style><br><div class=\"wandb-row\"><div class=\"wandb-col\"><h3>Run history:</h3><br/><table class=\"wandb\"><tr><td>batch/accuracy</td><td>▄▄▆▆▆█▇▇▇█▆▇██▃▄▄▄▄▄▂▂▂▂▂▃▃▃▃▃▃▂▂▂▂▂▂▁▂▂</td></tr><tr><td>batch/batch_step</td><td>▁▁▁▂▂▂▂▂▃▃▃▃▃▃▃▃▄▄▄▄▅▅▅▅▅▅▅▅▅▆▆▆▆▆▆▇▇▇▇█</td></tr><tr><td>batch/learning_rate</td><td>▁▁▁▁▁▁▁▁▁▁▁▁▁▁▁▁▁▁▁▁▁▁▁▁▁▁▁▁▁▁▁▁▁▁▁▁▁▁▁▁</td></tr><tr><td>batch/loss</td><td>█▄▄▃▃▂▂▂▂▂▁▁▁▁▁▁▁▁▁▁▁▁▁▁▁▁▁▁▁▁▁▁▁▁▁▁▁▁▁▁</td></tr><tr><td>epoch/accuracy</td><td>▄▇██▄▁▃▂▂▂</td></tr><tr><td>epoch/epoch</td><td>▁▂▃▃▄▅▆▆▇█</td></tr><tr><td>epoch/learning_rate</td><td>▁▁▁▁▁▁▁▁▁▁</td></tr><tr><td>epoch/loss</td><td>█▃▂▁▁▁▁▁▁▁</td></tr><tr><td>epoch/val_accuracy</td><td>██▆▄▃▁▃▂▁▂</td></tr><tr><td>epoch/val_loss</td><td>█▅▄▁▁▁▁▁▁▁</td></tr></table><br/></div><div class=\"wandb-col\"><h3>Run summary:</h3><br/><table class=\"wandb\"><tr><td>batch/accuracy</td><td>0.26274</td></tr><tr><td>batch/batch_step</td><td>2095</td></tr><tr><td>batch/learning_rate</td><td>0.001</td></tr><tr><td>batch/loss</td><td>1.55964</td></tr><tr><td>epoch/accuracy</td><td>0.26303</td></tr><tr><td>epoch/epoch</td><td>9</td></tr><tr><td>epoch/learning_rate</td><td>0.001</td></tr><tr><td>epoch/loss</td><td>1.5597</td></tr><tr><td>epoch/val_accuracy</td><td>0.23784</td></tr><tr><td>epoch/val_loss</td><td>1.60367</td></tr></table><br/></div></div>"
            ],
            "text/plain": [
              "<IPython.core.display.HTML object>"
            ]
          },
          "metadata": {},
          "output_type": "display_data"
        },
        {
          "data": {
            "text/html": [
              " View run <strong style=\"color:#cdcd00\">faithful-sweep-27</strong> at: <a href='https://wandb.ai/ayoubaamir0201-ensam-casablanca/5-flowers-classification/runs/q3hhg5mc' target=\"_blank\">https://wandb.ai/ayoubaamir0201-ensam-casablanca/5-flowers-classification/runs/q3hhg5mc</a><br> View project at: <a href='https://wandb.ai/ayoubaamir0201-ensam-casablanca/5-flowers-classification' target=\"_blank\">https://wandb.ai/ayoubaamir0201-ensam-casablanca/5-flowers-classification</a><br>Synced 5 W&B file(s), 0 media file(s), 0 artifact file(s) and 0 other file(s)"
            ],
            "text/plain": [
              "<IPython.core.display.HTML object>"
            ]
          },
          "metadata": {},
          "output_type": "display_data"
        },
        {
          "data": {
            "text/html": [
              "Find logs at: <code>./wandb/run-20251001_063115-q3hhg5mc/logs</code>"
            ],
            "text/plain": [
              "<IPython.core.display.HTML object>"
            ]
          },
          "metadata": {},
          "output_type": "display_data"
        },
        {
          "metadata": {
            "tags": null
          },
          "name": "stderr",
          "output_type": "stream",
          "text": [
            "\u001b[34m\u001b[1mwandb\u001b[0m: Agent Starting Run: x2mz1aa6 with config:\n",
            "\u001b[34m\u001b[1mwandb\u001b[0m: \tbatch_size: 16\n",
            "\u001b[34m\u001b[1mwandb\u001b[0m: \tepochs: 10\n",
            "\u001b[34m\u001b[1mwandb\u001b[0m: \thidden_nodes: 128\n",
            "\u001b[34m\u001b[1mwandb\u001b[0m: \timg_size: 224\n",
            "\u001b[34m\u001b[1mwandb\u001b[0m: \tlearning_rate: 0.0001\n"
          ]
        },
        {
          "data": {
            "text/html": [],
            "text/plain": [
              "<IPython.core.display.HTML object>"
            ]
          },
          "metadata": {},
          "output_type": "display_data"
        },
        {
          "data": {
            "text/html": [
              "Tracking run with wandb version 0.21.4"
            ],
            "text/plain": [
              "<IPython.core.display.HTML object>"
            ]
          },
          "metadata": {},
          "output_type": "display_data"
        },
        {
          "data": {
            "text/html": [
              "Run data is saved locally in <code>/content/wandb/run-20251001_070423-x2mz1aa6</code>"
            ],
            "text/plain": [
              "<IPython.core.display.HTML object>"
            ]
          },
          "metadata": {},
          "output_type": "display_data"
        },
        {
          "data": {
            "text/html": [
              "Syncing run <strong><a href='https://wandb.ai/ayoubaamir0201-ensam-casablanca/5-flowers-classification/runs/x2mz1aa6' target=\"_blank\">vague-sweep-28</a></strong> to <a href='https://wandb.ai/ayoubaamir0201-ensam-casablanca/5-flowers-classification' target=\"_blank\">Weights & Biases</a> (<a href='https://wandb.me/developer-guide' target=\"_blank\">docs</a>)<br>Sweep page: <a href='https://wandb.ai/ayoubaamir0201-ensam-casablanca/5-flowers-classification/sweeps/tard0exk' target=\"_blank\">https://wandb.ai/ayoubaamir0201-ensam-casablanca/5-flowers-classification/sweeps/tard0exk</a>"
            ],
            "text/plain": [
              "<IPython.core.display.HTML object>"
            ]
          },
          "metadata": {},
          "output_type": "display_data"
        },
        {
          "data": {
            "text/html": [
              " View project at <a href='https://wandb.ai/ayoubaamir0201-ensam-casablanca/5-flowers-classification' target=\"_blank\">https://wandb.ai/ayoubaamir0201-ensam-casablanca/5-flowers-classification</a>"
            ],
            "text/plain": [
              "<IPython.core.display.HTML object>"
            ]
          },
          "metadata": {},
          "output_type": "display_data"
        },
        {
          "data": {
            "text/html": [
              " View sweep at <a href='https://wandb.ai/ayoubaamir0201-ensam-casablanca/5-flowers-classification/sweeps/tard0exk' target=\"_blank\">https://wandb.ai/ayoubaamir0201-ensam-casablanca/5-flowers-classification/sweeps/tard0exk</a>"
            ],
            "text/plain": [
              "<IPython.core.display.HTML object>"
            ]
          },
          "metadata": {},
          "output_type": "display_data"
        },
        {
          "data": {
            "text/html": [
              " View run at <a href='https://wandb.ai/ayoubaamir0201-ensam-casablanca/5-flowers-classification/runs/x2mz1aa6' target=\"_blank\">https://wandb.ai/ayoubaamir0201-ensam-casablanca/5-flowers-classification/runs/x2mz1aa6</a>"
            ],
            "text/plain": [
              "<IPython.core.display.HTML object>"
            ]
          },
          "metadata": {},
          "output_type": "display_data"
        },
        {
          "metadata": {
            "tags": null
          },
          "name": "stdout",
          "output_type": "stream",
          "text": [
            "Epoch 1/10\n",
            "\u001b[1m207/207\u001b[0m \u001b[32m━━━━━━━━━━━━━━━━━━━━\u001b[0m\u001b[37m\u001b[0m \u001b[1m157s\u001b[0m 751ms/step - accuracy: 0.2912 - loss: 17.4102 - val_accuracy: 0.2703 - val_loss: 4.7148\n",
            "Epoch 2/10\n",
            "\u001b[1m207/207\u001b[0m \u001b[32m━━━━━━━━━━━━━━━━━━━━\u001b[0m\u001b[37m\u001b[0m \u001b[1m201s\u001b[0m 969ms/step - accuracy: 0.2812 - loss: 2.2513 - val_accuracy: 0.2378 - val_loss: 1.6076\n",
            "Epoch 3/10\n",
            "\u001b[1m207/207\u001b[0m \u001b[32m━━━━━━━━━━━━━━━━━━━━\u001b[0m\u001b[37m\u001b[0m \u001b[1m202s\u001b[0m 971ms/step - accuracy: 0.2411 - loss: 1.6080 - val_accuracy: 0.2378 - val_loss: 1.6071\n",
            "Epoch 4/10\n",
            "\u001b[1m207/207\u001b[0m \u001b[32m━━━━━━━━━━━━━━━━━━━━\u001b[0m\u001b[37m\u001b[0m \u001b[1m159s\u001b[0m 768ms/step - accuracy: 0.2411 - loss: 1.5990 - val_accuracy: 0.2919 - val_loss: 1.5427\n",
            "Epoch 5/10\n",
            "\u001b[1m207/207\u001b[0m \u001b[32m━━━━━━━━━━━━━━━━━━━━\u001b[0m\u001b[37m\u001b[0m \u001b[1m202s\u001b[0m 978ms/step - accuracy: 0.2845 - loss: 1.5293 - val_accuracy: 0.2405 - val_loss: 1.5996\n",
            "Epoch 6/10\n",
            "\u001b[1m207/207\u001b[0m \u001b[32m━━━━━━━━━━━━━━━━━━━━\u001b[0m\u001b[37m\u001b[0m \u001b[1m201s\u001b[0m 970ms/step - accuracy: 0.2608 - loss: 1.5711 - val_accuracy: 0.2676 - val_loss: 1.5678\n",
            "Epoch 7/10\n",
            "\u001b[1m207/207\u001b[0m \u001b[32m━━━━━━━━━━━━━━━━━━━━\u001b[0m\u001b[37m\u001b[0m \u001b[1m203s\u001b[0m 980ms/step - accuracy: 0.2894 - loss: 1.5212 - val_accuracy: 0.2351 - val_loss: 1.6033\n",
            "Epoch 8/10\n",
            "\u001b[1m207/207\u001b[0m \u001b[32m━━━━━━━━━━━━━━━━━━━━\u001b[0m\u001b[37m\u001b[0m \u001b[1m151s\u001b[0m 727ms/step - accuracy: 0.2471 - loss: 1.5910 - val_accuracy: 0.2405 - val_loss: 1.6000\n",
            "Epoch 9/10\n",
            "\u001b[1m207/207\u001b[0m \u001b[32m━━━━━━━━━━━━━━━━━━━━\u001b[0m\u001b[37m\u001b[0m \u001b[1m203s\u001b[0m 978ms/step - accuracy: 0.2660 - loss: 1.5694 - val_accuracy: 0.2351 - val_loss: 1.6069\n",
            "Epoch 10/10\n",
            "\u001b[1m207/207\u001b[0m \u001b[32m━━━━━━━━━━━━━━━━━━━━\u001b[0m\u001b[37m\u001b[0m \u001b[1m156s\u001b[0m 753ms/step - accuracy: 0.2417 - loss: 1.5982 - val_accuracy: 0.2351 - val_loss: 1.6076\n"
          ]
        },
        {
          "data": {
            "text/html": [],
            "text/plain": [
              "<IPython.core.display.HTML object>"
            ]
          },
          "metadata": {},
          "output_type": "display_data"
        },
        {
          "data": {
            "text/html": [
              "<br>    <style><br>        .wandb-row {<br>            display: flex;<br>            flex-direction: row;<br>            flex-wrap: wrap;<br>            justify-content: flex-start;<br>            width: 100%;<br>        }<br>        .wandb-col {<br>            display: flex;<br>            flex-direction: column;<br>            flex-basis: 100%;<br>            flex: 1;<br>            padding: 10px;<br>        }<br>    </style><br><div class=\"wandb-row\"><div class=\"wandb-col\"><h3>Run history:</h3><br/><table class=\"wandb\"><tr><td>batch/accuracy</td><td>▁▇██▅█▇▆▆▅▅▅▄▅▅▅▅▅▅▇▆▆▅▅▆▅▇▇▆▆▅▅▅▅▅▆▅▅▅▅</td></tr><tr><td>batch/batch_step</td><td>▁▁▁▂▂▂▂▂▂▂▂▂▃▃▃▃▃▃▃▄▄▄▄▄▄▅▅▅▅▆▇▇▇▇▇█████</td></tr><tr><td>batch/learning_rate</td><td>▁▁▁▁▁▁▁▁▁▁▁▁▁▁▁▁▁▁▁▁▁▁▁▁▁▁▁▁▁▁▁▁▁▁▁▁▁▁▁▁</td></tr><tr><td>batch/loss</td><td>▁█▅▅▅▂▂▂▁▁▁▁▁▁▁▁▁▁▁▁▁▁▁▁▁▁▁▁▁▁▁▁▁▁▁▁▁▁▁▁</td></tr><tr><td>epoch/accuracy</td><td>█▁▁▁▃▄▄▂▄▁</td></tr><tr><td>epoch/epoch</td><td>▁▂▃▃▄▅▆▆▇█</td></tr><tr><td>epoch/learning_rate</td><td>▁▁▁▁▁▁▁▁▁▁</td></tr><tr><td>epoch/loss</td><td>█▁▁▁▁▁▁▁▁▁</td></tr><tr><td>epoch/val_accuracy</td><td>▅▁▁█▂▅▁▂▁▁</td></tr><tr><td>epoch/val_loss</td><td>█▁▁▁▁▁▁▁▁▁</td></tr></table><br/></div><div class=\"wandb-col\"><h3>Run summary:</h3><br/><table class=\"wandb\"><tr><td>batch/accuracy</td><td>0.24697</td></tr><tr><td>batch/batch_step</td><td>2095</td></tr><tr><td>batch/learning_rate</td><td>0.001</td></tr><tr><td>batch/loss</td><td>1.59737</td></tr><tr><td>epoch/accuracy</td><td>0.24727</td></tr><tr><td>epoch/epoch</td><td>9</td></tr><tr><td>epoch/learning_rate</td><td>0.001</td></tr><tr><td>epoch/loss</td><td>1.59734</td></tr><tr><td>epoch/val_accuracy</td><td>0.23514</td></tr><tr><td>epoch/val_loss</td><td>1.60758</td></tr></table><br/></div></div>"
            ],
            "text/plain": [
              "<IPython.core.display.HTML object>"
            ]
          },
          "metadata": {},
          "output_type": "display_data"
        },
        {
          "data": {
            "text/html": [
              " View run <strong style=\"color:#cdcd00\">vague-sweep-28</strong> at: <a href='https://wandb.ai/ayoubaamir0201-ensam-casablanca/5-flowers-classification/runs/x2mz1aa6' target=\"_blank\">https://wandb.ai/ayoubaamir0201-ensam-casablanca/5-flowers-classification/runs/x2mz1aa6</a><br> View project at: <a href='https://wandb.ai/ayoubaamir0201-ensam-casablanca/5-flowers-classification' target=\"_blank\">https://wandb.ai/ayoubaamir0201-ensam-casablanca/5-flowers-classification</a><br>Synced 5 W&B file(s), 0 media file(s), 0 artifact file(s) and 0 other file(s)"
            ],
            "text/plain": [
              "<IPython.core.display.HTML object>"
            ]
          },
          "metadata": {},
          "output_type": "display_data"
        },
        {
          "data": {
            "text/html": [
              "Find logs at: <code>./wandb/run-20251001_070423-x2mz1aa6/logs</code>"
            ],
            "text/plain": [
              "<IPython.core.display.HTML object>"
            ]
          },
          "metadata": {},
          "output_type": "display_data"
        },
        {
          "metadata": {
            "tags": null
          },
          "name": "stderr",
          "output_type": "stream",
          "text": [
            "\u001b[34m\u001b[1mwandb\u001b[0m: Sweep Agent: Waiting for job.\n",
            "\u001b[34m\u001b[1mwandb\u001b[0m: Job received.\n",
            "\u001b[34m\u001b[1mwandb\u001b[0m: Agent Starting Run: zrsfu5fn with config:\n",
            "\u001b[34m\u001b[1mwandb\u001b[0m: \tbatch_size: 16\n",
            "\u001b[34m\u001b[1mwandb\u001b[0m: \tepochs: 10\n",
            "\u001b[34m\u001b[1mwandb\u001b[0m: \thidden_nodes: 64\n",
            "\u001b[34m\u001b[1mwandb\u001b[0m: \timg_size: 16\n",
            "\u001b[34m\u001b[1mwandb\u001b[0m: \tlearning_rate: 0.001\n"
          ]
        },
        {
          "data": {
            "text/html": [],
            "text/plain": [
              "<IPython.core.display.HTML object>"
            ]
          },
          "metadata": {},
          "output_type": "display_data"
        },
        {
          "data": {
            "text/html": [
              "Tracking run with wandb version 0.21.4"
            ],
            "text/plain": [
              "<IPython.core.display.HTML object>"
            ]
          },
          "metadata": {},
          "output_type": "display_data"
        },
        {
          "data": {
            "text/html": [
              "Run data is saved locally in <code>/content/wandb/run-20251001_073512-zrsfu5fn</code>"
            ],
            "text/plain": [
              "<IPython.core.display.HTML object>"
            ]
          },
          "metadata": {},
          "output_type": "display_data"
        },
        {
          "data": {
            "text/html": [
              "Syncing run <strong><a href='https://wandb.ai/ayoubaamir0201-ensam-casablanca/5-flowers-classification/runs/zrsfu5fn' target=\"_blank\">swift-sweep-29</a></strong> to <a href='https://wandb.ai/ayoubaamir0201-ensam-casablanca/5-flowers-classification' target=\"_blank\">Weights & Biases</a> (<a href='https://wandb.me/developer-guide' target=\"_blank\">docs</a>)<br>Sweep page: <a href='https://wandb.ai/ayoubaamir0201-ensam-casablanca/5-flowers-classification/sweeps/tard0exk' target=\"_blank\">https://wandb.ai/ayoubaamir0201-ensam-casablanca/5-flowers-classification/sweeps/tard0exk</a>"
            ],
            "text/plain": [
              "<IPython.core.display.HTML object>"
            ]
          },
          "metadata": {},
          "output_type": "display_data"
        },
        {
          "data": {
            "text/html": [
              " View project at <a href='https://wandb.ai/ayoubaamir0201-ensam-casablanca/5-flowers-classification' target=\"_blank\">https://wandb.ai/ayoubaamir0201-ensam-casablanca/5-flowers-classification</a>"
            ],
            "text/plain": [
              "<IPython.core.display.HTML object>"
            ]
          },
          "metadata": {},
          "output_type": "display_data"
        },
        {
          "data": {
            "text/html": [
              " View sweep at <a href='https://wandb.ai/ayoubaamir0201-ensam-casablanca/5-flowers-classification/sweeps/tard0exk' target=\"_blank\">https://wandb.ai/ayoubaamir0201-ensam-casablanca/5-flowers-classification/sweeps/tard0exk</a>"
            ],
            "text/plain": [
              "<IPython.core.display.HTML object>"
            ]
          },
          "metadata": {},
          "output_type": "display_data"
        },
        {
          "data": {
            "text/html": [
              " View run at <a href='https://wandb.ai/ayoubaamir0201-ensam-casablanca/5-flowers-classification/runs/zrsfu5fn' target=\"_blank\">https://wandb.ai/ayoubaamir0201-ensam-casablanca/5-flowers-classification/runs/zrsfu5fn</a>"
            ],
            "text/plain": [
              "<IPython.core.display.HTML object>"
            ]
          },
          "metadata": {},
          "output_type": "display_data"
        },
        {
          "output_type": "stream",
          "name": "stdout",
          "text": [
            "Epoch 1/10\n",
            "\u001b[1m207/207\u001b[0m \u001b[32m━━━━━━━━━━━━━━━━━━━━\u001b[0m\u001b[37m\u001b[0m \u001b[1m136s\u001b[0m 656ms/step - accuracy: 0.3333 - loss: 1.4993 - val_accuracy: 0.4270 - val_loss: 1.2661\n",
            "Epoch 2/10\n",
            "\u001b[1m207/207\u001b[0m \u001b[32m━━━━━━━━━━━━━━━━━━━━\u001b[0m\u001b[37m\u001b[0m \u001b[1m144s\u001b[0m 694ms/step - accuracy: 0.4402 - loss: 1.2685 - val_accuracy: 0.4568 - val_loss: 1.2319\n",
            "Epoch 3/10\n",
            "\u001b[1m207/207\u001b[0m \u001b[32m━━━━━━━━━━━━━━━━━━━━\u001b[0m\u001b[37m\u001b[0m \u001b[1m107s\u001b[0m 518ms/step - accuracy: 0.4690 - loss: 1.2164 - val_accuracy: 0.4730 - val_loss: 1.2136\n",
            "Epoch 4/10\n",
            "\u001b[1m207/207\u001b[0m \u001b[32m━━━━━━━━━━━━━━━━━━━━\u001b[0m\u001b[37m\u001b[0m \u001b[1m112s\u001b[0m 543ms/step - accuracy: 0.4951 - loss: 1.1753 - val_accuracy: 0.4811 - val_loss: 1.2078\n",
            "Epoch 5/10\n",
            "\u001b[1m207/207\u001b[0m \u001b[32m━━━━━━━━━━━━━━━━━━━━\u001b[0m\u001b[37m\u001b[0m \u001b[1m110s\u001b[0m 531ms/step - accuracy: 0.5170 - loss: 1.1416 - val_accuracy: 0.4676 - val_loss: 1.2145\n",
            "Epoch 6/10\n",
            "\u001b[1m207/207\u001b[0m \u001b[32m━━━━━━━━━━━━━━━━━━━━\u001b[0m\u001b[37m\u001b[0m \u001b[1m107s\u001b[0m 515ms/step - accuracy: 0.5327 - loss: 1.1102 - val_accuracy: 0.4730 - val_loss: 1.1943\n",
            "Epoch 7/10\n",
            "\u001b[1m207/207\u001b[0m \u001b[32m━━━━━━━━━━━━━━━━━━━━\u001b[0m\u001b[37m\u001b[0m \u001b[1m109s\u001b[0m 527ms/step - accuracy: 0.5602 - loss: 1.0783 - val_accuracy: 0.4703 - val_loss: 1.2077\n",
            "Epoch 8/10\n",
            "\u001b[1m207/207\u001b[0m \u001b[32m━━━━━━━━━━━━━━━━━━━━\u001b[0m\u001b[37m\u001b[0m \u001b[1m113s\u001b[0m 543ms/step - accuracy: 0.5763 - loss: 1.0504 - val_accuracy: 0.4865 - val_loss: 1.2139\n",
            "Epoch 9/10\n",
            "\u001b[1m207/207\u001b[0m \u001b[32m━━━━━━━━━━━━━━━━━━━━\u001b[0m\u001b[37m\u001b[0m \u001b[1m111s\u001b[0m 537ms/step - accuracy: 0.5879 - loss: 1.0291 - val_accuracy: 0.4865 - val_loss: 1.2261\n",
            "Epoch 10/10\n",
            "\u001b[1m207/207\u001b[0m \u001b[32m━━━━━━━━━━━━━━━━━━━━\u001b[0m\u001b[37m\u001b[0m \u001b[1m138s\u001b[0m 519ms/step - accuracy: 0.6050 - loss: 1.0039 - val_accuracy: 0.4865 - val_loss: 1.2131\n"
          ]
        },
        {
          "output_type": "display_data",
          "data": {
            "text/plain": [
              "<IPython.core.display.HTML object>"
            ],
            "text/html": []
          },
          "metadata": {}
        },
        {
          "output_type": "display_data",
          "data": {
            "text/plain": [
              "<IPython.core.display.HTML object>"
            ],
            "text/html": [
              "<br>    <style><br>        .wandb-row {<br>            display: flex;<br>            flex-direction: row;<br>            flex-wrap: wrap;<br>            justify-content: flex-start;<br>            width: 100%;<br>        }<br>        .wandb-col {<br>            display: flex;<br>            flex-direction: column;<br>            flex-basis: 100%;<br>            flex: 1;<br>            padding: 10px;<br>        }<br>    </style><br><div class=\"wandb-row\"><div class=\"wandb-col\"><h3>Run history:</h3><br/><table class=\"wandb\"><tr><td>batch/accuracy</td><td>▁▃▅▅▅▆▆▆▆▆▆▇▇▇▇▆▇▇▇▇▇▇▇▇▇▇▇▇▇▇█▇████████</td></tr><tr><td>batch/batch_step</td><td>▁▁▁▂▂▂▃▃▃▃▃▃▄▄▄▄▄▄▄▄▅▅▅▅▅▆▆▆▆▆▆▆▇▇▇▇▇▇▇█</td></tr><tr><td>batch/learning_rate</td><td>▁▁▁▁▁▁▁▁▁▁▁▁▁▁▁▁▁▁▁▁▁▁▁▁▁▁▁▁▁▁▁▁▁▁▁▁▁▁▁▁</td></tr><tr><td>batch/loss</td><td>█▇▇▆▅▄▄▄▄▄▄▃▃▃▃▃▃▃▃▃▂▂▂▃▂▂▂▁▂▂▂▂▂▁▁▁▁▁▁▁</td></tr><tr><td>epoch/accuracy</td><td>▁▃▄▅▅▆▆▇▇█</td></tr><tr><td>epoch/epoch</td><td>▁▂▃▃▄▅▆▆▇█</td></tr><tr><td>epoch/learning_rate</td><td>▁▁▁▁▁▁▁▁▁▁</td></tr><tr><td>epoch/loss</td><td>█▆▅▄▃▃▂▂▁▁</td></tr><tr><td>epoch/val_accuracy</td><td>▁▅▆▇▆▆▆███</td></tr><tr><td>epoch/val_loss</td><td>█▅▃▂▃▁▂▃▄▃</td></tr></table><br/></div><div class=\"wandb-col\"><h3>Run summary:</h3><br/><table class=\"wandb\"><tr><td>batch/accuracy</td><td>0.61104</td></tr><tr><td>batch/batch_step</td><td>2095</td></tr><tr><td>batch/learning_rate</td><td>0.001</td></tr><tr><td>batch/loss</td><td>0.99186</td></tr><tr><td>epoch/accuracy</td><td>0.61091</td></tr><tr><td>epoch/epoch</td><td>9</td></tr><tr><td>epoch/learning_rate</td><td>0.001</td></tr><tr><td>epoch/loss</td><td>0.99178</td></tr><tr><td>epoch/val_accuracy</td><td>0.48649</td></tr><tr><td>epoch/val_loss</td><td>1.21306</td></tr></table><br/></div></div>"
            ]
          },
          "metadata": {}
        },
        {
          "output_type": "display_data",
          "data": {
            "text/plain": [
              "<IPython.core.display.HTML object>"
            ],
            "text/html": [
              " View run <strong style=\"color:#cdcd00\">swift-sweep-29</strong> at: <a href='https://wandb.ai/ayoubaamir0201-ensam-casablanca/5-flowers-classification/runs/zrsfu5fn' target=\"_blank\">https://wandb.ai/ayoubaamir0201-ensam-casablanca/5-flowers-classification/runs/zrsfu5fn</a><br> View project at: <a href='https://wandb.ai/ayoubaamir0201-ensam-casablanca/5-flowers-classification' target=\"_blank\">https://wandb.ai/ayoubaamir0201-ensam-casablanca/5-flowers-classification</a><br>Synced 5 W&B file(s), 0 media file(s), 0 artifact file(s) and 0 other file(s)"
            ]
          },
          "metadata": {}
        },
        {
          "output_type": "display_data",
          "data": {
            "text/plain": [
              "<IPython.core.display.HTML object>"
            ],
            "text/html": [
              "Find logs at: <code>./wandb/run-20251001_073512-zrsfu5fn/logs</code>"
            ]
          },
          "metadata": {}
        },
        {
          "output_type": "stream",
          "name": "stderr",
          "text": [
            "\u001b[34m\u001b[1mwandb\u001b[0m: Agent Starting Run: s0aq8921 with config:\n",
            "\u001b[34m\u001b[1mwandb\u001b[0m: \tbatch_size: 16\n",
            "\u001b[34m\u001b[1mwandb\u001b[0m: \tepochs: 10\n",
            "\u001b[34m\u001b[1mwandb\u001b[0m: \thidden_nodes: 64\n",
            "\u001b[34m\u001b[1mwandb\u001b[0m: \timg_size: 16\n",
            "\u001b[34m\u001b[1mwandb\u001b[0m: \tlearning_rate: 0.0001\n",
            "\u001b[34m\u001b[1mwandb\u001b[0m: W&B API key is configured. Use \u001b[1m`wandb login --relogin`\u001b[0m to force relogin\n"
          ]
        },
        {
          "output_type": "display_data",
          "data": {
            "text/plain": [
              "<IPython.core.display.HTML object>"
            ],
            "text/html": []
          },
          "metadata": {}
        },
        {
          "output_type": "display_data",
          "data": {
            "text/plain": [
              "<IPython.core.display.HTML object>"
            ],
            "text/html": [
              "Tracking run with wandb version 0.21.4"
            ]
          },
          "metadata": {}
        },
        {
          "output_type": "display_data",
          "data": {
            "text/plain": [
              "<IPython.core.display.HTML object>"
            ],
            "text/html": [
              "Run data is saved locally in <code>/content/wandb/run-20251001_075512-s0aq8921</code>"
            ]
          },
          "metadata": {}
        },
        {
          "output_type": "display_data",
          "data": {
            "text/plain": [
              "<IPython.core.display.HTML object>"
            ],
            "text/html": [
              "Syncing run <strong><a href='https://wandb.ai/ayoubaamir0201-ensam-casablanca/5-flowers-classification/runs/s0aq8921' target=\"_blank\">cerulean-sweep-30</a></strong> to <a href='https://wandb.ai/ayoubaamir0201-ensam-casablanca/5-flowers-classification' target=\"_blank\">Weights & Biases</a> (<a href='https://wandb.me/developer-guide' target=\"_blank\">docs</a>)<br>Sweep page: <a href='https://wandb.ai/ayoubaamir0201-ensam-casablanca/5-flowers-classification/sweeps/tard0exk' target=\"_blank\">https://wandb.ai/ayoubaamir0201-ensam-casablanca/5-flowers-classification/sweeps/tard0exk</a>"
            ]
          },
          "metadata": {}
        },
        {
          "output_type": "display_data",
          "data": {
            "text/plain": [
              "<IPython.core.display.HTML object>"
            ],
            "text/html": [
              " View project at <a href='https://wandb.ai/ayoubaamir0201-ensam-casablanca/5-flowers-classification' target=\"_blank\">https://wandb.ai/ayoubaamir0201-ensam-casablanca/5-flowers-classification</a>"
            ]
          },
          "metadata": {}
        },
        {
          "output_type": "display_data",
          "data": {
            "text/plain": [
              "<IPython.core.display.HTML object>"
            ],
            "text/html": [
              " View sweep at <a href='https://wandb.ai/ayoubaamir0201-ensam-casablanca/5-flowers-classification/sweeps/tard0exk' target=\"_blank\">https://wandb.ai/ayoubaamir0201-ensam-casablanca/5-flowers-classification/sweeps/tard0exk</a>"
            ]
          },
          "metadata": {}
        },
        {
          "output_type": "display_data",
          "data": {
            "text/plain": [
              "<IPython.core.display.HTML object>"
            ],
            "text/html": [
              " View run at <a href='https://wandb.ai/ayoubaamir0201-ensam-casablanca/5-flowers-classification/runs/s0aq8921' target=\"_blank\">https://wandb.ai/ayoubaamir0201-ensam-casablanca/5-flowers-classification/runs/s0aq8921</a>"
            ]
          },
          "metadata": {}
        },
        {
          "output_type": "stream",
          "name": "stdout",
          "text": [
            "Epoch 1/10\n",
            "\u001b[1m207/207\u001b[0m \u001b[32m━━━━━━━━━━━━━━━━━━━━\u001b[0m\u001b[37m\u001b[0m \u001b[1m114s\u001b[0m 545ms/step - accuracy: 0.3365 - loss: 1.4908 - val_accuracy: 0.4351 - val_loss: 1.2881\n",
            "Epoch 2/10\n",
            "\u001b[1m207/207\u001b[0m \u001b[32m━━━━━━━━━━━━━━━━━━━━\u001b[0m\u001b[37m\u001b[0m \u001b[1m128s\u001b[0m 621ms/step - accuracy: 0.4326 - loss: 1.2730 - val_accuracy: 0.4514 - val_loss: 1.2552\n",
            "Epoch 3/10\n",
            "\u001b[1m207/207\u001b[0m \u001b[32m━━━━━━━━━━━━━━━━━━━━\u001b[0m\u001b[37m\u001b[0m \u001b[1m110s\u001b[0m 531ms/step - accuracy: 0.4630 - loss: 1.2245 - val_accuracy: 0.4703 - val_loss: 1.2248\n",
            "Epoch 4/10\n",
            "\u001b[1m207/207\u001b[0m \u001b[32m━━━━━━━━━━━━━━━━━━━━\u001b[0m\u001b[37m\u001b[0m \u001b[1m112s\u001b[0m 541ms/step - accuracy: 0.5103 - loss: 1.1695 - val_accuracy: 0.4757 - val_loss: 1.2132\n",
            "Epoch 5/10\n",
            "\u001b[1m207/207\u001b[0m \u001b[32m━━━━━━━━━━━━━━━━━━━━\u001b[0m\u001b[37m\u001b[0m \u001b[1m112s\u001b[0m 543ms/step - accuracy: 0.5123 - loss: 1.1405 - val_accuracy: 0.4946 - val_loss: 1.2108\n",
            "Epoch 6/10\n",
            "\u001b[1m207/207\u001b[0m \u001b[32m━━━━━━━━━━━━━━━━━━━━\u001b[0m\u001b[37m\u001b[0m \u001b[1m115s\u001b[0m 556ms/step - accuracy: 0.5298 - loss: 1.1116 - val_accuracy: 0.5000 - val_loss: 1.2060\n",
            "Epoch 7/10\n",
            "\u001b[1m207/207\u001b[0m \u001b[32m━━━━━━━━━━━━━━━━━━━━\u001b[0m\u001b[37m\u001b[0m \u001b[1m114s\u001b[0m 549ms/step - accuracy: 0.5555 - loss: 1.0822 - val_accuracy: 0.5189 - val_loss: 1.2027\n",
            "Epoch 8/10\n",
            "\u001b[1m207/207\u001b[0m \u001b[32m━━━━━━━━━━━━━━━━━━━━\u001b[0m\u001b[37m\u001b[0m \u001b[1m119s\u001b[0m 573ms/step - accuracy: 0.5646 - loss: 1.0556 - val_accuracy: 0.5270 - val_loss: 1.2038\n",
            "Epoch 9/10\n",
            "\u001b[1m207/207\u001b[0m \u001b[32m━━━━━━━━━━━━━━━━━━━━\u001b[0m\u001b[37m\u001b[0m \u001b[1m119s\u001b[0m 575ms/step - accuracy: 0.5892 - loss: 1.0278 - val_accuracy: 0.5243 - val_loss: 1.2071\n",
            "Epoch 10/10\n",
            "\u001b[1m207/207\u001b[0m \u001b[32m━━━━━━━━━━━━━━━━━━━━\u001b[0m\u001b[37m\u001b[0m \u001b[1m143s\u001b[0m 691ms/step - accuracy: 0.5970 - loss: 1.0018 - val_accuracy: 0.5108 - val_loss: 1.2130\n"
          ]
        },
        {
          "output_type": "display_data",
          "data": {
            "text/plain": [
              "<IPython.core.display.HTML object>"
            ],
            "text/html": []
          },
          "metadata": {}
        },
        {
          "output_type": "display_data",
          "data": {
            "text/plain": [
              "<IPython.core.display.HTML object>"
            ],
            "text/html": [
              "<br>    <style><br>        .wandb-row {<br>            display: flex;<br>            flex-direction: row;<br>            flex-wrap: wrap;<br>            justify-content: flex-start;<br>            width: 100%;<br>        }<br>        .wandb-col {<br>            display: flex;<br>            flex-direction: column;<br>            flex-basis: 100%;<br>            flex: 1;<br>            padding: 10px;<br>        }<br>    </style><br><div class=\"wandb-row\"><div class=\"wandb-col\"><h3>Run history:</h3><br/><table class=\"wandb\"><tr><td>batch/accuracy</td><td>▁▁▂▂▂▄▄▄▅▅▅▅▅▆▆▆▆▅▆▆▇▇▇▇▇▇▇▇▇▇▇▇▇▇▇█▇███</td></tr><tr><td>batch/batch_step</td><td>▁▁▁▂▂▂▂▂▃▃▃▃▃▄▄▄▄▄▄▄▅▅▅▅▅▆▆▆▆▆▆▆▇▇▇▇████</td></tr><tr><td>batch/learning_rate</td><td>▁▁▁▁▁▁▁▁▁▁▁▁▁▁▁▁▁▁▁▁▁▁▁▁▁▁▁▁▁▁▁▁▁▁▁▁▁▁▁▁</td></tr><tr><td>batch/loss</td><td>██▇▅▅▅▅▄▄▄▃▄▃▃▄▃▃▃▃▃▃▂▂▂▂▂▂▂▂▂▂▂▁▂▁▁▁▁▁▁</td></tr><tr><td>epoch/accuracy</td><td>▁▃▄▅▆▆▇▇██</td></tr><tr><td>epoch/epoch</td><td>▁▂▃▃▄▅▆▆▇█</td></tr><tr><td>epoch/learning_rate</td><td>▁▁▁▁▁▁▁▁▁▁</td></tr><tr><td>epoch/loss</td><td>█▆▅▄▃▃▂▂▁▁</td></tr><tr><td>epoch/val_accuracy</td><td>▁▂▄▄▆▆▇██▇</td></tr><tr><td>epoch/val_loss</td><td>█▅▃▂▂▁▁▁▁▂</td></tr></table><br/></div><div class=\"wandb-col\"><h3>Run summary:</h3><br/><table class=\"wandb\"><tr><td>batch/accuracy</td><td>0.59982</td></tr><tr><td>batch/batch_step</td><td>2095</td></tr><tr><td>batch/learning_rate</td><td>0.001</td></tr><tr><td>batch/loss</td><td>1.00482</td></tr><tr><td>epoch/accuracy</td><td>0.5997</td></tr><tr><td>epoch/epoch</td><td>9</td></tr><tr><td>epoch/learning_rate</td><td>0.001</td></tr><tr><td>epoch/loss</td><td>1.00473</td></tr><tr><td>epoch/val_accuracy</td><td>0.51081</td></tr><tr><td>epoch/val_loss</td><td>1.21301</td></tr></table><br/></div></div>"
            ]
          },
          "metadata": {}
        },
        {
          "output_type": "display_data",
          "data": {
            "text/plain": [
              "<IPython.core.display.HTML object>"
            ],
            "text/html": [
              " View run <strong style=\"color:#cdcd00\">cerulean-sweep-30</strong> at: <a href='https://wandb.ai/ayoubaamir0201-ensam-casablanca/5-flowers-classification/runs/s0aq8921' target=\"_blank\">https://wandb.ai/ayoubaamir0201-ensam-casablanca/5-flowers-classification/runs/s0aq8921</a><br> View project at: <a href='https://wandb.ai/ayoubaamir0201-ensam-casablanca/5-flowers-classification' target=\"_blank\">https://wandb.ai/ayoubaamir0201-ensam-casablanca/5-flowers-classification</a><br>Synced 5 W&B file(s), 0 media file(s), 0 artifact file(s) and 0 other file(s)"
            ]
          },
          "metadata": {}
        },
        {
          "output_type": "display_data",
          "data": {
            "text/plain": [
              "<IPython.core.display.HTML object>"
            ],
            "text/html": [
              "Find logs at: <code>./wandb/run-20251001_075512-s0aq8921/logs</code>"
            ]
          },
          "metadata": {}
        },
        {
          "output_type": "stream",
          "name": "stderr",
          "text": [
            "\u001b[34m\u001b[1mwandb\u001b[0m: Agent Starting Run: ds88tnix with config:\n",
            "\u001b[34m\u001b[1mwandb\u001b[0m: \tbatch_size: 16\n",
            "\u001b[34m\u001b[1mwandb\u001b[0m: \tepochs: 10\n",
            "\u001b[34m\u001b[1mwandb\u001b[0m: \thidden_nodes: 64\n",
            "\u001b[34m\u001b[1mwandb\u001b[0m: \timg_size: 224\n",
            "\u001b[34m\u001b[1mwandb\u001b[0m: \tlearning_rate: 0.001\n"
          ]
        },
        {
          "output_type": "display_data",
          "data": {
            "text/plain": [
              "<IPython.core.display.HTML object>"
            ],
            "text/html": []
          },
          "metadata": {}
        },
        {
          "output_type": "display_data",
          "data": {
            "text/plain": [
              "<IPython.core.display.HTML object>"
            ],
            "text/html": [
              "Tracking run with wandb version 0.21.4"
            ]
          },
          "metadata": {}
        },
        {
          "output_type": "display_data",
          "data": {
            "text/plain": [
              "<IPython.core.display.HTML object>"
            ],
            "text/html": [
              "Run data is saved locally in <code>/content/wandb/run-20251001_081515-ds88tnix</code>"
            ]
          },
          "metadata": {}
        },
        {
          "output_type": "display_data",
          "data": {
            "text/plain": [
              "<IPython.core.display.HTML object>"
            ],
            "text/html": [
              "Syncing run <strong><a href='https://wandb.ai/ayoubaamir0201-ensam-casablanca/5-flowers-classification/runs/ds88tnix' target=\"_blank\">ethereal-sweep-31</a></strong> to <a href='https://wandb.ai/ayoubaamir0201-ensam-casablanca/5-flowers-classification' target=\"_blank\">Weights & Biases</a> (<a href='https://wandb.me/developer-guide' target=\"_blank\">docs</a>)<br>Sweep page: <a href='https://wandb.ai/ayoubaamir0201-ensam-casablanca/5-flowers-classification/sweeps/tard0exk' target=\"_blank\">https://wandb.ai/ayoubaamir0201-ensam-casablanca/5-flowers-classification/sweeps/tard0exk</a>"
            ]
          },
          "metadata": {}
        },
        {
          "output_type": "display_data",
          "data": {
            "text/plain": [
              "<IPython.core.display.HTML object>"
            ],
            "text/html": [
              " View project at <a href='https://wandb.ai/ayoubaamir0201-ensam-casablanca/5-flowers-classification' target=\"_blank\">https://wandb.ai/ayoubaamir0201-ensam-casablanca/5-flowers-classification</a>"
            ]
          },
          "metadata": {}
        },
        {
          "output_type": "display_data",
          "data": {
            "text/plain": [
              "<IPython.core.display.HTML object>"
            ],
            "text/html": [
              " View sweep at <a href='https://wandb.ai/ayoubaamir0201-ensam-casablanca/5-flowers-classification/sweeps/tard0exk' target=\"_blank\">https://wandb.ai/ayoubaamir0201-ensam-casablanca/5-flowers-classification/sweeps/tard0exk</a>"
            ]
          },
          "metadata": {}
        },
        {
          "output_type": "display_data",
          "data": {
            "text/plain": [
              "<IPython.core.display.HTML object>"
            ],
            "text/html": [
              " View run at <a href='https://wandb.ai/ayoubaamir0201-ensam-casablanca/5-flowers-classification/runs/ds88tnix' target=\"_blank\">https://wandb.ai/ayoubaamir0201-ensam-casablanca/5-flowers-classification/runs/ds88tnix</a>"
            ]
          },
          "metadata": {}
        },
        {
          "output_type": "stream",
          "name": "stdout",
          "text": [
            "Epoch 1/10\n",
            "\u001b[1m207/207\u001b[0m \u001b[32m━━━━━━━━━━━━━━━━━━━━\u001b[0m\u001b[37m\u001b[0m \u001b[1m155s\u001b[0m 744ms/step - accuracy: 0.2552 - loss: 13.5574 - val_accuracy: 0.2838 - val_loss: 2.2015\n",
            "Epoch 2/10\n",
            "\u001b[1m207/207\u001b[0m \u001b[32m━━━━━━━━━━━━━━━━━━━━\u001b[0m\u001b[37m\u001b[0m \u001b[1m152s\u001b[0m 730ms/step - accuracy: 0.3338 - loss: 2.1812 - val_accuracy: 0.1703 - val_loss: 1.7136\n",
            "Epoch 3/10\n",
            "\u001b[1m207/207\u001b[0m \u001b[32m━━━━━━━━━━━━━━━━━━━━\u001b[0m\u001b[37m\u001b[0m \u001b[1m134s\u001b[0m 644ms/step - accuracy: 0.2198 - loss: 1.6140 - val_accuracy: 0.2892 - val_loss: 1.5859\n",
            "Epoch 4/10\n",
            "\u001b[1m207/207\u001b[0m \u001b[32m━━━━━━━━━━━━━━━━━━━━\u001b[0m\u001b[37m\u001b[0m \u001b[1m137s\u001b[0m 663ms/step - accuracy: 0.3154 - loss: 1.5500 - val_accuracy: 0.2622 - val_loss: 1.5936\n",
            "Epoch 5/10\n",
            "\u001b[1m207/207\u001b[0m \u001b[32m━━━━━━━━━━━━━━━━━━━━\u001b[0m\u001b[37m\u001b[0m \u001b[1m144s\u001b[0m 695ms/step - accuracy: 0.3276 - loss: 1.5315 - val_accuracy: 0.2649 - val_loss: 1.5936\n",
            "Epoch 6/10\n",
            "\u001b[1m207/207\u001b[0m \u001b[32m━━━━━━━━━━━━━━━━━━━━\u001b[0m\u001b[37m\u001b[0m \u001b[1m139s\u001b[0m 672ms/step - accuracy: 0.3215 - loss: 1.5364 - val_accuracy: 0.2459 - val_loss: 1.5991\n",
            "Epoch 7/10\n",
            "\u001b[1m207/207\u001b[0m \u001b[32m━━━━━━━━━━━━━━━━━━━━\u001b[0m\u001b[37m\u001b[0m \u001b[1m137s\u001b[0m 659ms/step - accuracy: 0.3027 - loss: 1.5420 - val_accuracy: 0.2378 - val_loss: 1.6085\n",
            "Epoch 8/10\n",
            "\u001b[1m207/207\u001b[0m \u001b[32m━━━━━━━━━━━━━━━━━━━━\u001b[0m\u001b[37m\u001b[0m \u001b[1m191s\u001b[0m 923ms/step - accuracy: 0.3355 - loss: 1.5053 - val_accuracy: 0.2486 - val_loss: 1.5994\n",
            "Epoch 9/10\n",
            "\u001b[1m207/207\u001b[0m \u001b[32m━━━━━━━━━━━━━━━━━━━━\u001b[0m\u001b[37m\u001b[0m \u001b[1m143s\u001b[0m 692ms/step - accuracy: 0.2982 - loss: 1.5282 - val_accuracy: 0.2351 - val_loss: 1.6063\n",
            "Epoch 10/10\n",
            "\u001b[1m207/207\u001b[0m \u001b[32m━━━━━━━━━━━━━━━━━━━━\u001b[0m\u001b[37m\u001b[0m \u001b[1m140s\u001b[0m 677ms/step - accuracy: 0.3039 - loss: 1.5365 - val_accuracy: 0.2351 - val_loss: 1.6059\n"
          ]
        },
        {
          "output_type": "display_data",
          "data": {
            "text/plain": [
              "<IPython.core.display.HTML object>"
            ],
            "text/html": []
          },
          "metadata": {}
        },
        {
          "output_type": "display_data",
          "data": {
            "text/plain": [
              "<IPython.core.display.HTML object>"
            ],
            "text/html": [
              "<br>    <style><br>        .wandb-row {<br>            display: flex;<br>            flex-direction: row;<br>            flex-wrap: wrap;<br>            justify-content: flex-start;<br>            width: 100%;<br>        }<br>        .wandb-col {<br>            display: flex;<br>            flex-direction: column;<br>            flex-basis: 100%;<br>            flex: 1;<br>            padding: 10px;<br>        }<br>    </style><br><div class=\"wandb-row\"><div class=\"wandb-col\"><h3>Run history:</h3><br/><table class=\"wandb\"><tr><td>batch/accuracy</td><td>▁▂▃▄▄▆▅▆▆▆▆▁▁▆▅▅▄▆▇▅▅▅▅▅█▄▄▃▇▇▅▅▄▅▃▄▇▆▅▄</td></tr><tr><td>batch/batch_step</td><td>▁▁▁▁▂▂▂▂▂▃▃▃▃▃▃▄▄▄▄▄▄▄▅▅▅▅▆▆▆▆▆▇▇▇▇▇▇▇██</td></tr><tr><td>batch/learning_rate</td><td>▁▁▁▁▁▁▁▁▁▁▁▁▁▁▁▁▁▁▁▁▁▁▁▁▁▁▁▁▁▁▁▁▁▁▁▁▁▁▁▁</td></tr><tr><td>batch/loss</td><td>█▅▃▂▂▂▁▁▁▁▁▁▁▁▁▁▁▁▁▁▁▁▁▁▁▁▁▁▁▁▁▁▁▁▁▁▁▁▁▁</td></tr><tr><td>epoch/accuracy</td><td>▄█▁▅▅▆▄▅▃▃</td></tr><tr><td>epoch/epoch</td><td>▁▂▃▃▄▅▆▆▇█</td></tr><tr><td>epoch/learning_rate</td><td>▁▁▁▁▁▁▁▁▁▁</td></tr><tr><td>epoch/loss</td><td>█▂▁▁▁▁▁▁▁▁</td></tr><tr><td>epoch/val_accuracy</td><td>█▁█▆▇▅▅▆▅▅</td></tr><tr><td>epoch/val_loss</td><td>█▂▁▁▁▁▁▁▁▁</td></tr></table><br/></div><div class=\"wandb-col\"><h3>Run summary:</h3><br/><table class=\"wandb\"><tr><td>batch/accuracy</td><td>0.27063</td></tr><tr><td>batch/batch_step</td><td>2095</td></tr><tr><td>batch/learning_rate</td><td>0.001</td></tr><tr><td>batch/loss</td><td>1.57594</td></tr><tr><td>epoch/accuracy</td><td>0.27091</td></tr><tr><td>epoch/epoch</td><td>9</td></tr><tr><td>epoch/learning_rate</td><td>0.001</td></tr><tr><td>epoch/loss</td><td>1.5759</td></tr><tr><td>epoch/val_accuracy</td><td>0.23514</td></tr><tr><td>epoch/val_loss</td><td>1.6059</td></tr></table><br/></div></div>"
            ]
          },
          "metadata": {}
        },
        {
          "output_type": "display_data",
          "data": {
            "text/plain": [
              "<IPython.core.display.HTML object>"
            ],
            "text/html": [
              " View run <strong style=\"color:#cdcd00\">ethereal-sweep-31</strong> at: <a href='https://wandb.ai/ayoubaamir0201-ensam-casablanca/5-flowers-classification/runs/ds88tnix' target=\"_blank\">https://wandb.ai/ayoubaamir0201-ensam-casablanca/5-flowers-classification/runs/ds88tnix</a><br> View project at: <a href='https://wandb.ai/ayoubaamir0201-ensam-casablanca/5-flowers-classification' target=\"_blank\">https://wandb.ai/ayoubaamir0201-ensam-casablanca/5-flowers-classification</a><br>Synced 5 W&B file(s), 0 media file(s), 0 artifact file(s) and 0 other file(s)"
            ]
          },
          "metadata": {}
        },
        {
          "output_type": "display_data",
          "data": {
            "text/plain": [
              "<IPython.core.display.HTML object>"
            ],
            "text/html": [
              "Find logs at: <code>./wandb/run-20251001_081515-ds88tnix/logs</code>"
            ]
          },
          "metadata": {}
        },
        {
          "output_type": "stream",
          "name": "stderr",
          "text": [
            "\u001b[34m\u001b[1mwandb\u001b[0m: Agent Starting Run: di01nbdb with config:\n",
            "\u001b[34m\u001b[1mwandb\u001b[0m: \tbatch_size: 16\n",
            "\u001b[34m\u001b[1mwandb\u001b[0m: \tepochs: 10\n",
            "\u001b[34m\u001b[1mwandb\u001b[0m: \thidden_nodes: 64\n",
            "\u001b[34m\u001b[1mwandb\u001b[0m: \timg_size: 224\n",
            "\u001b[34m\u001b[1mwandb\u001b[0m: \tlearning_rate: 0.0001\n"
          ]
        },
        {
          "output_type": "display_data",
          "data": {
            "text/plain": [
              "<IPython.core.display.HTML object>"
            ],
            "text/html": []
          },
          "metadata": {}
        },
        {
          "output_type": "display_data",
          "data": {
            "text/plain": [
              "<IPython.core.display.HTML object>"
            ],
            "text/html": [
              "Tracking run with wandb version 0.21.4"
            ]
          },
          "metadata": {}
        },
        {
          "output_type": "display_data",
          "data": {
            "text/plain": [
              "<IPython.core.display.HTML object>"
            ],
            "text/html": [
              "Run data is saved locally in <code>/content/wandb/run-20251001_084001-di01nbdb</code>"
            ]
          },
          "metadata": {}
        },
        {
          "output_type": "display_data",
          "data": {
            "text/plain": [
              "<IPython.core.display.HTML object>"
            ],
            "text/html": [
              "Syncing run <strong><a href='https://wandb.ai/ayoubaamir0201-ensam-casablanca/5-flowers-classification/runs/di01nbdb' target=\"_blank\">hardy-sweep-32</a></strong> to <a href='https://wandb.ai/ayoubaamir0201-ensam-casablanca/5-flowers-classification' target=\"_blank\">Weights & Biases</a> (<a href='https://wandb.me/developer-guide' target=\"_blank\">docs</a>)<br>Sweep page: <a href='https://wandb.ai/ayoubaamir0201-ensam-casablanca/5-flowers-classification/sweeps/tard0exk' target=\"_blank\">https://wandb.ai/ayoubaamir0201-ensam-casablanca/5-flowers-classification/sweeps/tard0exk</a>"
            ]
          },
          "metadata": {}
        },
        {
          "output_type": "display_data",
          "data": {
            "text/plain": [
              "<IPython.core.display.HTML object>"
            ],
            "text/html": [
              " View project at <a href='https://wandb.ai/ayoubaamir0201-ensam-casablanca/5-flowers-classification' target=\"_blank\">https://wandb.ai/ayoubaamir0201-ensam-casablanca/5-flowers-classification</a>"
            ]
          },
          "metadata": {}
        },
        {
          "output_type": "display_data",
          "data": {
            "text/plain": [
              "<IPython.core.display.HTML object>"
            ],
            "text/html": [
              " View sweep at <a href='https://wandb.ai/ayoubaamir0201-ensam-casablanca/5-flowers-classification/sweeps/tard0exk' target=\"_blank\">https://wandb.ai/ayoubaamir0201-ensam-casablanca/5-flowers-classification/sweeps/tard0exk</a>"
            ]
          },
          "metadata": {}
        },
        {
          "output_type": "display_data",
          "data": {
            "text/plain": [
              "<IPython.core.display.HTML object>"
            ],
            "text/html": [
              " View run at <a href='https://wandb.ai/ayoubaamir0201-ensam-casablanca/5-flowers-classification/runs/di01nbdb' target=\"_blank\">https://wandb.ai/ayoubaamir0201-ensam-casablanca/5-flowers-classification/runs/di01nbdb</a>"
            ]
          },
          "metadata": {}
        },
        {
          "output_type": "stream",
          "name": "stdout",
          "text": [
            "Epoch 1/10\n",
            "\u001b[1m207/207\u001b[0m \u001b[32m━━━━━━━━━━━━━━━━━━━━\u001b[0m\u001b[37m\u001b[0m \u001b[1m141s\u001b[0m 678ms/step - accuracy: 0.2973 - loss: 19.5005 - val_accuracy: 0.2865 - val_loss: 4.7346\n",
            "Epoch 2/10\n",
            "\u001b[1m207/207\u001b[0m \u001b[32m━━━━━━━━━━━━━━━━━━━━\u001b[0m\u001b[37m\u001b[0m \u001b[1m137s\u001b[0m 662ms/step - accuracy: 0.3711 - loss: 4.4876 - val_accuracy: 0.3432 - val_loss: 6.0303\n",
            "Epoch 3/10\n",
            "\u001b[1m207/207\u001b[0m \u001b[32m━━━━━━━━━━━━━━━━━━━━\u001b[0m\u001b[37m\u001b[0m \u001b[1m138s\u001b[0m 665ms/step - accuracy: 0.4012 - loss: 3.2210 - val_accuracy: 0.2568 - val_loss: 1.6763\n",
            "Epoch 4/10\n",
            "\u001b[1m207/207\u001b[0m \u001b[32m━━━━━━━━━━━━━━━━━━━━\u001b[0m\u001b[37m\u001b[0m \u001b[1m141s\u001b[0m 682ms/step - accuracy: 0.2451 - loss: 1.6061 - val_accuracy: 0.3054 - val_loss: 1.6908\n",
            "Epoch 5/10\n",
            "\u001b[1m207/207\u001b[0m \u001b[32m━━━━━━━━━━━━━━━━━━━━\u001b[0m\u001b[37m\u001b[0m \u001b[1m140s\u001b[0m 675ms/step - accuracy: 0.3199 - loss: 1.5765 - val_accuracy: 0.2351 - val_loss: 1.7167\n",
            "Epoch 6/10\n",
            "\u001b[1m207/207\u001b[0m \u001b[32m━━━━━━━━━━━━━━━━━━━━\u001b[0m\u001b[37m\u001b[0m \u001b[1m144s\u001b[0m 695ms/step - accuracy: 0.2392 - loss: 1.5924 - val_accuracy: 0.2351 - val_loss: 1.6616\n",
            "Epoch 7/10\n",
            "\u001b[1m207/207\u001b[0m \u001b[32m━━━━━━━━━━━━━━━━━━━━\u001b[0m\u001b[37m\u001b[0m \u001b[1m137s\u001b[0m 662ms/step - accuracy: 0.2493 - loss: 1.5745 - val_accuracy: 0.2676 - val_loss: 1.6577\n",
            "Epoch 8/10\n",
            "\u001b[1m207/207\u001b[0m \u001b[32m━━━━━━━━━━━━━━━━━━━━\u001b[0m\u001b[37m\u001b[0m \u001b[1m137s\u001b[0m 661ms/step - accuracy: 0.2887 - loss: 1.5555 - val_accuracy: 0.2459 - val_loss: 1.6813\n",
            "Epoch 9/10\n",
            "\u001b[1m207/207\u001b[0m \u001b[32m━━━━━━━━━━━━━━━━━━━━\u001b[0m\u001b[37m\u001b[0m \u001b[1m140s\u001b[0m 677ms/step - accuracy: 0.2494 - loss: 1.5843 - val_accuracy: 0.1919 - val_loss: 1.6018\n",
            "Epoch 10/10\n",
            "\u001b[1m207/207\u001b[0m \u001b[32m━━━━━━━━━━━━━━━━━━━━\u001b[0m\u001b[37m\u001b[0m \u001b[1m135s\u001b[0m 651ms/step - accuracy: 0.2568 - loss: 1.5788 - val_accuracy: 0.2108 - val_loss: 1.5913\n"
          ]
        },
        {
          "output_type": "display_data",
          "data": {
            "text/plain": [
              "<IPython.core.display.HTML object>"
            ],
            "text/html": []
          },
          "metadata": {}
        },
        {
          "output_type": "display_data",
          "data": {
            "text/plain": [
              "<IPython.core.display.HTML object>"
            ],
            "text/html": [
              "<br>    <style><br>        .wandb-row {<br>            display: flex;<br>            flex-direction: row;<br>            flex-wrap: wrap;<br>            justify-content: flex-start;<br>            width: 100%;<br>        }<br>        .wandb-col {<br>            display: flex;<br>            flex-direction: column;<br>            flex-basis: 100%;<br>            flex: 1;<br>            padding: 10px;<br>        }<br>    </style><br><div class=\"wandb-row\"><div class=\"wandb-col\"><h3>Run history:</h3><br/><table class=\"wandb\"><tr><td>batch/accuracy</td><td>▂▃▄▄▄▆▆▆██▆▂▂▂▂▄▃▃▁▁▁▂▂▂▁▂▂▂▂▃▃▃▂▂▂▂▂▂▂▂</td></tr><tr><td>batch/batch_step</td><td>▁▁▁▁▁▂▂▂▂▂▃▃▃▃▃▄▄▄▄▄▅▆▆▆▆▆▆▆▆▆▆▇▇▇▇▇▇███</td></tr><tr><td>batch/learning_rate</td><td>▁▁▁▁▁▁▁▁▁▁▁▁▁▁▁▁▁▁▁▁▁▁▁▁▁▁▁▁▁▁▁▁▁▁▁▁▁▁▁▁</td></tr><tr><td>batch/loss</td><td>█▃▃▂▂▂▂▁▁▂▁▁▁▁▁▁▁▁▁▁▁▁▁▁▁▁▁▁▁▁▁▁▁▁▁▁▁▁▁▁</td></tr><tr><td>epoch/accuracy</td><td>▅█▇▂▃▁▂▃▁▂</td></tr><tr><td>epoch/epoch</td><td>▁▂▃▃▄▅▆▆▇█</td></tr><tr><td>epoch/learning_rate</td><td>▁▁▁▁▁▁▁▁▁▁</td></tr><tr><td>epoch/loss</td><td>█▃▂▁▁▁▁▁▁▁</td></tr><tr><td>epoch/val_accuracy</td><td>▅█▄▆▃▃▅▃▁▂</td></tr><tr><td>epoch/val_loss</td><td>▆█▁▁▁▁▁▁▁▁</td></tr></table><br/></div><div class=\"wandb-col\"><h3>Run summary:</h3><br/><table class=\"wandb\"><tr><td>batch/accuracy</td><td>0.2588</td></tr><tr><td>batch/batch_step</td><td>2095</td></tr><tr><td>batch/learning_rate</td><td>0.001</td></tr><tr><td>batch/loss</td><td>1.57527</td></tr><tr><td>epoch/accuracy</td><td>0.25848</td></tr><tr><td>epoch/epoch</td><td>9</td></tr><tr><td>epoch/learning_rate</td><td>0.001</td></tr><tr><td>epoch/loss</td><td>1.57532</td></tr><tr><td>epoch/val_accuracy</td><td>0.21081</td></tr><tr><td>epoch/val_loss</td><td>1.59131</td></tr></table><br/></div></div>"
            ]
          },
          "metadata": {}
        },
        {
          "output_type": "display_data",
          "data": {
            "text/plain": [
              "<IPython.core.display.HTML object>"
            ],
            "text/html": [
              " View run <strong style=\"color:#cdcd00\">hardy-sweep-32</strong> at: <a href='https://wandb.ai/ayoubaamir0201-ensam-casablanca/5-flowers-classification/runs/di01nbdb' target=\"_blank\">https://wandb.ai/ayoubaamir0201-ensam-casablanca/5-flowers-classification/runs/di01nbdb</a><br> View project at: <a href='https://wandb.ai/ayoubaamir0201-ensam-casablanca/5-flowers-classification' target=\"_blank\">https://wandb.ai/ayoubaamir0201-ensam-casablanca/5-flowers-classification</a><br>Synced 5 W&B file(s), 0 media file(s), 0 artifact file(s) and 0 other file(s)"
            ]
          },
          "metadata": {}
        },
        {
          "output_type": "display_data",
          "data": {
            "text/plain": [
              "<IPython.core.display.HTML object>"
            ],
            "text/html": [
              "Find logs at: <code>./wandb/run-20251001_084001-di01nbdb/logs</code>"
            ]
          },
          "metadata": {}
        },
        {
          "output_type": "stream",
          "name": "stderr",
          "text": [
            "\u001b[34m\u001b[1mwandb\u001b[0m: Sweep Agent: Waiting for job.\n",
            "\u001b[34m\u001b[1mwandb\u001b[0m: Sweep Agent: Exiting.\n"
          ]
        }
      ]
    },
    {
      "cell_type": "markdown",
      "source": [
        "**The 5-Flowers-Classification experimental report Link :**\n",
        "https://api.wandb.ai/links/ayoubaamir0201-ensam-casablanca/tee8topc"
      ],
      "metadata": {
        "id": "CS1ANryZMn8F"
      }
    }
  ]
}